{
  "cells": [
    {
      "cell_type": "markdown",
      "metadata": {
        "id": "JeiFgmX6fT0c"
      },
      "source": [
        "### EDA\n",
        "\n",
        "- Exploratory Data Analysis.\n"
      ]
    },
    {
      "cell_type": "code",
      "execution_count": null,
      "metadata": {
        "id": "W5zY1QlVe0IC"
      },
      "outputs": [],
      "source": [
        "import numpy as np\n",
        "import pandas as pd\n",
        "import matplotlib.pyplot as plt\n",
        "import seaborn as sns\n",
        "import plotly.express as px\n",
        "import plotly.graph_objects as go\n",
        "from plotly.subplots import make_subplots\n",
        "import warnings\n",
        "\n",
        "warnings.filterwarnings(\"ignore\")"
      ]
    },
    {
      "cell_type": "code",
      "execution_count": null,
      "metadata": {
        "id": "CysxhI0vgeqP"
      },
      "outputs": [],
      "source": [
        "world_ranking = pd.read_csv(\"../datasets/fifa/fifa_ranking_2022-10-06.csv\")\n",
        "world_cup = pd.read_csv(\"../datasets/fifa/world_cup.csv\")\n",
        "matches = pd.read_csv(\"../datasets/fifa/matches_1930_2022.csv\")"
      ]
    },
    {
      "cell_type": "code",
      "execution_count": null,
      "metadata": {
        "colab": {
          "base_uri": "https://localhost:8080/",
          "height": 423
        },
        "id": "1XgHNhqDg4kf",
        "outputId": "0298b4ce-50d5-4d1e-a097-ab129a5d1395"
      },
      "outputs": [
        {
          "data": {
            "text/html": [
              "<div>\n",
              "<style scoped>\n",
              "    .dataframe tbody tr th:only-of-type {\n",
              "        vertical-align: middle;\n",
              "    }\n",
              "\n",
              "    .dataframe tbody tr th {\n",
              "        vertical-align: top;\n",
              "    }\n",
              "\n",
              "    .dataframe thead th {\n",
              "        text-align: right;\n",
              "    }\n",
              "</style>\n",
              "<table border=\"1\" class=\"dataframe\">\n",
              "  <thead>\n",
              "    <tr style=\"text-align: right;\">\n",
              "      <th></th>\n",
              "      <th>team</th>\n",
              "      <th>team_code</th>\n",
              "      <th>association</th>\n",
              "      <th>rank</th>\n",
              "      <th>previous_rank</th>\n",
              "      <th>points</th>\n",
              "      <th>previous_points</th>\n",
              "    </tr>\n",
              "  </thead>\n",
              "  <tbody>\n",
              "    <tr>\n",
              "      <th>0</th>\n",
              "      <td>Brazil</td>\n",
              "      <td>BRA</td>\n",
              "      <td>CONMEBOL</td>\n",
              "      <td>1</td>\n",
              "      <td>1</td>\n",
              "      <td>1841.30</td>\n",
              "      <td>1837.56</td>\n",
              "    </tr>\n",
              "    <tr>\n",
              "      <th>1</th>\n",
              "      <td>Belgium</td>\n",
              "      <td>BEL</td>\n",
              "      <td>UEFA</td>\n",
              "      <td>2</td>\n",
              "      <td>2</td>\n",
              "      <td>1816.71</td>\n",
              "      <td>1821.92</td>\n",
              "    </tr>\n",
              "    <tr>\n",
              "      <th>2</th>\n",
              "      <td>Argentina</td>\n",
              "      <td>ARG</td>\n",
              "      <td>CONMEBOL</td>\n",
              "      <td>3</td>\n",
              "      <td>3</td>\n",
              "      <td>1773.88</td>\n",
              "      <td>1770.65</td>\n",
              "    </tr>\n",
              "    <tr>\n",
              "      <th>3</th>\n",
              "      <td>France</td>\n",
              "      <td>FRA</td>\n",
              "      <td>UEFA</td>\n",
              "      <td>4</td>\n",
              "      <td>4</td>\n",
              "      <td>1759.78</td>\n",
              "      <td>1764.85</td>\n",
              "    </tr>\n",
              "    <tr>\n",
              "      <th>4</th>\n",
              "      <td>England</td>\n",
              "      <td>ENG</td>\n",
              "      <td>UEFA</td>\n",
              "      <td>5</td>\n",
              "      <td>5</td>\n",
              "      <td>1728.47</td>\n",
              "      <td>1737.46</td>\n",
              "    </tr>\n",
              "    <tr>\n",
              "      <th>...</th>\n",
              "      <td>...</td>\n",
              "      <td>...</td>\n",
              "      <td>...</td>\n",
              "      <td>...</td>\n",
              "      <td>...</td>\n",
              "      <td>...</td>\n",
              "      <td>...</td>\n",
              "    </tr>\n",
              "    <tr>\n",
              "      <th>206</th>\n",
              "      <td>Sri Lanka</td>\n",
              "      <td>SRI</td>\n",
              "      <td>AFC</td>\n",
              "      <td>207</td>\n",
              "      <td>207</td>\n",
              "      <td>825.25</td>\n",
              "      <td>825.25</td>\n",
              "    </tr>\n",
              "    <tr>\n",
              "      <th>207</th>\n",
              "      <td>US Virgin Islands</td>\n",
              "      <td>VIR</td>\n",
              "      <td>CONCACAF</td>\n",
              "      <td>208</td>\n",
              "      <td>208</td>\n",
              "      <td>823.97</td>\n",
              "      <td>823.97</td>\n",
              "    </tr>\n",
              "    <tr>\n",
              "      <th>208</th>\n",
              "      <td>British Virgin Islands</td>\n",
              "      <td>VGB</td>\n",
              "      <td>CONCACAF</td>\n",
              "      <td>209</td>\n",
              "      <td>209</td>\n",
              "      <td>809.32</td>\n",
              "      <td>809.32</td>\n",
              "    </tr>\n",
              "    <tr>\n",
              "      <th>209</th>\n",
              "      <td>Anguilla</td>\n",
              "      <td>AIA</td>\n",
              "      <td>CONCACAF</td>\n",
              "      <td>210</td>\n",
              "      <td>210</td>\n",
              "      <td>790.74</td>\n",
              "      <td>790.74</td>\n",
              "    </tr>\n",
              "    <tr>\n",
              "      <th>210</th>\n",
              "      <td>San Marino</td>\n",
              "      <td>SMR</td>\n",
              "      <td>UEFA</td>\n",
              "      <td>211</td>\n",
              "      <td>211</td>\n",
              "      <td>762.22</td>\n",
              "      <td>763.82</td>\n",
              "    </tr>\n",
              "  </tbody>\n",
              "</table>\n",
              "<p>211 rows × 7 columns</p>\n",
              "</div>"
            ],
            "text/plain": [
              "                       team team_code association  rank  previous_rank  \\\n",
              "0                    Brazil       BRA    CONMEBOL     1              1   \n",
              "1                   Belgium       BEL        UEFA     2              2   \n",
              "2                 Argentina       ARG    CONMEBOL     3              3   \n",
              "3                    France       FRA        UEFA     4              4   \n",
              "4                   England       ENG        UEFA     5              5   \n",
              "..                      ...       ...         ...   ...            ...   \n",
              "206               Sri Lanka       SRI         AFC   207            207   \n",
              "207       US Virgin Islands       VIR    CONCACAF   208            208   \n",
              "208  British Virgin Islands       VGB    CONCACAF   209            209   \n",
              "209                Anguilla       AIA    CONCACAF   210            210   \n",
              "210              San Marino       SMR        UEFA   211            211   \n",
              "\n",
              "      points  previous_points  \n",
              "0    1841.30          1837.56  \n",
              "1    1816.71          1821.92  \n",
              "2    1773.88          1770.65  \n",
              "3    1759.78          1764.85  \n",
              "4    1728.47          1737.46  \n",
              "..       ...              ...  \n",
              "206   825.25           825.25  \n",
              "207   823.97           823.97  \n",
              "208   809.32           809.32  \n",
              "209   790.74           790.74  \n",
              "210   762.22           763.82  \n",
              "\n",
              "[211 rows x 7 columns]"
            ]
          },
          "execution_count": 57,
          "metadata": {},
          "output_type": "execute_result"
        }
      ],
      "source": [
        "world_ranking  # 2018 , #2022"
      ]
    },
    {
      "cell_type": "code",
      "execution_count": 58,
      "metadata": {
        "colab": {
          "base_uri": "https://localhost:8080/",
          "height": 739
        },
        "id": "sFyIRFMFg9M0",
        "outputId": "b2458c05-0145-4026-e82a-d07e479821e4"
      },
      "outputs": [
        {
          "data": {
            "text/html": [
              "<div>\n",
              "<style scoped>\n",
              "    .dataframe tbody tr th:only-of-type {\n",
              "        vertical-align: middle;\n",
              "    }\n",
              "\n",
              "    .dataframe tbody tr th {\n",
              "        vertical-align: top;\n",
              "    }\n",
              "\n",
              "    .dataframe thead th {\n",
              "        text-align: right;\n",
              "    }\n",
              "</style>\n",
              "<table border=\"1\" class=\"dataframe\">\n",
              "  <thead>\n",
              "    <tr style=\"text-align: right;\">\n",
              "      <th></th>\n",
              "      <th>Year</th>\n",
              "      <th>Host</th>\n",
              "      <th>Teams</th>\n",
              "      <th>Champion</th>\n",
              "      <th>Runner-Up</th>\n",
              "      <th>TopScorrer</th>\n",
              "      <th>Attendance</th>\n",
              "      <th>AttendanceAvg</th>\n",
              "      <th>Matches</th>\n",
              "    </tr>\n",
              "  </thead>\n",
              "  <tbody>\n",
              "    <tr>\n",
              "      <th>0</th>\n",
              "      <td>2022</td>\n",
              "      <td>Qatar</td>\n",
              "      <td>32</td>\n",
              "      <td>Argentina</td>\n",
              "      <td>France</td>\n",
              "      <td>Kylian Mbappé - 8</td>\n",
              "      <td>3404252</td>\n",
              "      <td>53191</td>\n",
              "      <td>64</td>\n",
              "    </tr>\n",
              "    <tr>\n",
              "      <th>1</th>\n",
              "      <td>2018</td>\n",
              "      <td>Russia</td>\n",
              "      <td>32</td>\n",
              "      <td>France</td>\n",
              "      <td>Croatia</td>\n",
              "      <td>Harry Kane - 6</td>\n",
              "      <td>3031768</td>\n",
              "      <td>47371</td>\n",
              "      <td>64</td>\n",
              "    </tr>\n",
              "    <tr>\n",
              "      <th>2</th>\n",
              "      <td>2014</td>\n",
              "      <td>Brazil</td>\n",
              "      <td>32</td>\n",
              "      <td>Germany</td>\n",
              "      <td>Argentina</td>\n",
              "      <td>James Rodríguez - 6</td>\n",
              "      <td>3429873</td>\n",
              "      <td>53592</td>\n",
              "      <td>64</td>\n",
              "    </tr>\n",
              "    <tr>\n",
              "      <th>3</th>\n",
              "      <td>2010</td>\n",
              "      <td>South Africa</td>\n",
              "      <td>32</td>\n",
              "      <td>Spain</td>\n",
              "      <td>Netherlands</td>\n",
              "      <td>Wesley Sneijder, Thomas Müller... - 5</td>\n",
              "      <td>3178856</td>\n",
              "      <td>49670</td>\n",
              "      <td>64</td>\n",
              "    </tr>\n",
              "    <tr>\n",
              "      <th>4</th>\n",
              "      <td>2006</td>\n",
              "      <td>Germany</td>\n",
              "      <td>32</td>\n",
              "      <td>Italy</td>\n",
              "      <td>France</td>\n",
              "      <td>Miroslav Klose - 5</td>\n",
              "      <td>3352605</td>\n",
              "      <td>52384</td>\n",
              "      <td>64</td>\n",
              "    </tr>\n",
              "    <tr>\n",
              "      <th>5</th>\n",
              "      <td>2002</td>\n",
              "      <td>Korea Republic, Japan</td>\n",
              "      <td>32</td>\n",
              "      <td>Brazil</td>\n",
              "      <td>Germany</td>\n",
              "      <td>Ronaldo - 8</td>\n",
              "      <td>2705337</td>\n",
              "      <td>42271</td>\n",
              "      <td>64</td>\n",
              "    </tr>\n",
              "    <tr>\n",
              "      <th>6</th>\n",
              "      <td>1998</td>\n",
              "      <td>France</td>\n",
              "      <td>32</td>\n",
              "      <td>France</td>\n",
              "      <td>Brazil</td>\n",
              "      <td>Davor Šuker - 6</td>\n",
              "      <td>2903477</td>\n",
              "      <td>45367</td>\n",
              "      <td>64</td>\n",
              "    </tr>\n",
              "    <tr>\n",
              "      <th>7</th>\n",
              "      <td>1994</td>\n",
              "      <td>United States</td>\n",
              "      <td>24</td>\n",
              "      <td>Brazil</td>\n",
              "      <td>Italy</td>\n",
              "      <td>Hristo Stoichkov, Oleg Salenko - 6</td>\n",
              "      <td>3587538</td>\n",
              "      <td>68991</td>\n",
              "      <td>52</td>\n",
              "    </tr>\n",
              "    <tr>\n",
              "      <th>8</th>\n",
              "      <td>1990</td>\n",
              "      <td>Italy</td>\n",
              "      <td>24</td>\n",
              "      <td>West Germany</td>\n",
              "      <td>Argentina</td>\n",
              "      <td>Salvatore Schillaci - 6</td>\n",
              "      <td>2516215</td>\n",
              "      <td>48389</td>\n",
              "      <td>52</td>\n",
              "    </tr>\n",
              "    <tr>\n",
              "      <th>9</th>\n",
              "      <td>1986</td>\n",
              "      <td>Mexico</td>\n",
              "      <td>24</td>\n",
              "      <td>Argentina</td>\n",
              "      <td>West Germany</td>\n",
              "      <td>Gary Lineker - 6</td>\n",
              "      <td>2394031</td>\n",
              "      <td>46039</td>\n",
              "      <td>52</td>\n",
              "    </tr>\n",
              "    <tr>\n",
              "      <th>10</th>\n",
              "      <td>1982</td>\n",
              "      <td>Spain</td>\n",
              "      <td>24</td>\n",
              "      <td>Italy</td>\n",
              "      <td>West Germany</td>\n",
              "      <td>Paolo Rossi - 6</td>\n",
              "      <td>2109723</td>\n",
              "      <td>40572</td>\n",
              "      <td>52</td>\n",
              "    </tr>\n",
              "    <tr>\n",
              "      <th>11</th>\n",
              "      <td>1978</td>\n",
              "      <td>Argentina</td>\n",
              "      <td>16</td>\n",
              "      <td>Argentina</td>\n",
              "      <td>Netherlands</td>\n",
              "      <td>Mario Kempes - 6</td>\n",
              "      <td>1545791</td>\n",
              "      <td>40679</td>\n",
              "      <td>38</td>\n",
              "    </tr>\n",
              "    <tr>\n",
              "      <th>12</th>\n",
              "      <td>1974</td>\n",
              "      <td>Germany</td>\n",
              "      <td>16</td>\n",
              "      <td>West Germany</td>\n",
              "      <td>Netherlands</td>\n",
              "      <td>Grzegorz Lato - 7</td>\n",
              "      <td>1865753</td>\n",
              "      <td>49099</td>\n",
              "      <td>38</td>\n",
              "    </tr>\n",
              "    <tr>\n",
              "      <th>13</th>\n",
              "      <td>1970</td>\n",
              "      <td>Mexico</td>\n",
              "      <td>16</td>\n",
              "      <td>Brazil</td>\n",
              "      <td>Italy</td>\n",
              "      <td>Gerd Müller - 10</td>\n",
              "      <td>1603975</td>\n",
              "      <td>50124</td>\n",
              "      <td>32</td>\n",
              "    </tr>\n",
              "    <tr>\n",
              "      <th>14</th>\n",
              "      <td>1966</td>\n",
              "      <td>England</td>\n",
              "      <td>16</td>\n",
              "      <td>England</td>\n",
              "      <td>West Germany</td>\n",
              "      <td>Eusébio - 9</td>\n",
              "      <td>1563135</td>\n",
              "      <td>48848</td>\n",
              "      <td>32</td>\n",
              "    </tr>\n",
              "    <tr>\n",
              "      <th>15</th>\n",
              "      <td>1962</td>\n",
              "      <td>Chile</td>\n",
              "      <td>16</td>\n",
              "      <td>Brazil</td>\n",
              "      <td>Czechoslovakia</td>\n",
              "      <td>Leonel Sánchez, Flórián Albert... - 4</td>\n",
              "      <td>893172</td>\n",
              "      <td>27912</td>\n",
              "      <td>32</td>\n",
              "    </tr>\n",
              "    <tr>\n",
              "      <th>16</th>\n",
              "      <td>1958</td>\n",
              "      <td>Sweden</td>\n",
              "      <td>16</td>\n",
              "      <td>Brazil</td>\n",
              "      <td>Sweden</td>\n",
              "      <td>Just Fontaine - 13</td>\n",
              "      <td>819810</td>\n",
              "      <td>23423</td>\n",
              "      <td>35</td>\n",
              "    </tr>\n",
              "    <tr>\n",
              "      <th>17</th>\n",
              "      <td>1954</td>\n",
              "      <td>Switzerland</td>\n",
              "      <td>16</td>\n",
              "      <td>Germany</td>\n",
              "      <td>Hungary</td>\n",
              "      <td>Sándor Kocsis - 11</td>\n",
              "      <td>768607</td>\n",
              "      <td>29562</td>\n",
              "      <td>26</td>\n",
              "    </tr>\n",
              "    <tr>\n",
              "      <th>18</th>\n",
              "      <td>1950</td>\n",
              "      <td>Brazil</td>\n",
              "      <td>15</td>\n",
              "      <td>Uruguay</td>\n",
              "      <td>Brazil</td>\n",
              "      <td>Ademir - 8</td>\n",
              "      <td>1045246</td>\n",
              "      <td>47511</td>\n",
              "      <td>22</td>\n",
              "    </tr>\n",
              "    <tr>\n",
              "      <th>19</th>\n",
              "      <td>1938</td>\n",
              "      <td>France</td>\n",
              "      <td>16</td>\n",
              "      <td>Italy</td>\n",
              "      <td>Hungary</td>\n",
              "      <td>Leônidas - 7</td>\n",
              "      <td>375700</td>\n",
              "      <td>20872</td>\n",
              "      <td>18</td>\n",
              "    </tr>\n",
              "    <tr>\n",
              "      <th>20</th>\n",
              "      <td>1934</td>\n",
              "      <td>Italy</td>\n",
              "      <td>16</td>\n",
              "      <td>Italy</td>\n",
              "      <td>Czechoslovakia</td>\n",
              "      <td>Oldřich Nejedlý - 5</td>\n",
              "      <td>363000</td>\n",
              "      <td>21353</td>\n",
              "      <td>17</td>\n",
              "    </tr>\n",
              "    <tr>\n",
              "      <th>21</th>\n",
              "      <td>1930</td>\n",
              "      <td>Uruguay</td>\n",
              "      <td>13</td>\n",
              "      <td>Uruguay</td>\n",
              "      <td>Argentina</td>\n",
              "      <td>Guillermo Stábile - 8</td>\n",
              "      <td>590549</td>\n",
              "      <td>32808</td>\n",
              "      <td>18</td>\n",
              "    </tr>\n",
              "  </tbody>\n",
              "</table>\n",
              "</div>"
            ],
            "text/plain": [
              "    Year                   Host  Teams      Champion       Runner-Up  \\\n",
              "0   2022                  Qatar     32     Argentina          France   \n",
              "1   2018                 Russia     32        France         Croatia   \n",
              "2   2014                 Brazil     32       Germany       Argentina   \n",
              "3   2010           South Africa     32         Spain     Netherlands   \n",
              "4   2006                Germany     32         Italy          France   \n",
              "5   2002  Korea Republic, Japan     32        Brazil         Germany   \n",
              "6   1998                 France     32        France          Brazil   \n",
              "7   1994          United States     24        Brazil           Italy   \n",
              "8   1990                  Italy     24  West Germany       Argentina   \n",
              "9   1986                 Mexico     24     Argentina    West Germany   \n",
              "10  1982                  Spain     24         Italy    West Germany   \n",
              "11  1978              Argentina     16     Argentina     Netherlands   \n",
              "12  1974                Germany     16  West Germany     Netherlands   \n",
              "13  1970                 Mexico     16        Brazil           Italy   \n",
              "14  1966                England     16       England    West Germany   \n",
              "15  1962                  Chile     16        Brazil  Czechoslovakia   \n",
              "16  1958                 Sweden     16        Brazil          Sweden   \n",
              "17  1954            Switzerland     16       Germany         Hungary   \n",
              "18  1950                 Brazil     15       Uruguay          Brazil   \n",
              "19  1938                 France     16         Italy         Hungary   \n",
              "20  1934                  Italy     16         Italy  Czechoslovakia   \n",
              "21  1930                Uruguay     13       Uruguay       Argentina   \n",
              "\n",
              "                               TopScorrer  Attendance  AttendanceAvg  Matches  \n",
              "0                       Kylian Mbappé - 8     3404252          53191       64  \n",
              "1                          Harry Kane - 6     3031768          47371       64  \n",
              "2                     James Rodríguez - 6     3429873          53592       64  \n",
              "3   Wesley Sneijder, Thomas Müller... - 5     3178856          49670       64  \n",
              "4                      Miroslav Klose - 5     3352605          52384       64  \n",
              "5                             Ronaldo - 8     2705337          42271       64  \n",
              "6                         Davor Šuker - 6     2903477          45367       64  \n",
              "7      Hristo Stoichkov, Oleg Salenko - 6     3587538          68991       52  \n",
              "8                 Salvatore Schillaci - 6     2516215          48389       52  \n",
              "9                        Gary Lineker - 6     2394031          46039       52  \n",
              "10                        Paolo Rossi - 6     2109723          40572       52  \n",
              "11                       Mario Kempes - 6     1545791          40679       38  \n",
              "12                      Grzegorz Lato - 7     1865753          49099       38  \n",
              "13                       Gerd Müller - 10     1603975          50124       32  \n",
              "14                            Eusébio - 9     1563135          48848       32  \n",
              "15  Leonel Sánchez, Flórián Albert... - 4      893172          27912       32  \n",
              "16                     Just Fontaine - 13      819810          23423       35  \n",
              "17                     Sándor Kocsis - 11      768607          29562       26  \n",
              "18                             Ademir - 8     1045246          47511       22  \n",
              "19                           Leônidas - 7      375700          20872       18  \n",
              "20                    Oldřich Nejedlý - 5      363000          21353       17  \n",
              "21                  Guillermo Stábile - 8      590549          32808       18  "
            ]
          },
          "execution_count": 58,
          "metadata": {},
          "output_type": "execute_result"
        }
      ],
      "source": [
        "world_cup"
      ]
    },
    {
      "cell_type": "code",
      "execution_count": 59,
      "metadata": {
        "colab": {
          "base_uri": "https://localhost:8080/",
          "height": 342
        },
        "id": "b9YRkdlKhUrd",
        "outputId": "60a9db14-2715-4d78-b254-2367c0197bb4"
      },
      "outputs": [
        {
          "data": {
            "text/html": [
              "<div>\n",
              "<style scoped>\n",
              "    .dataframe tbody tr th:only-of-type {\n",
              "        vertical-align: middle;\n",
              "    }\n",
              "\n",
              "    .dataframe tbody tr th {\n",
              "        vertical-align: top;\n",
              "    }\n",
              "\n",
              "    .dataframe thead th {\n",
              "        text-align: right;\n",
              "    }\n",
              "</style>\n",
              "<table border=\"1\" class=\"dataframe\">\n",
              "  <thead>\n",
              "    <tr style=\"text-align: right;\">\n",
              "      <th></th>\n",
              "      <th>home_team</th>\n",
              "      <th>away_team</th>\n",
              "      <th>home_score</th>\n",
              "      <th>home_xg</th>\n",
              "      <th>home_penalty</th>\n",
              "      <th>away_score</th>\n",
              "      <th>away_xg</th>\n",
              "      <th>away_penalty</th>\n",
              "      <th>home_manager</th>\n",
              "      <th>home_captain</th>\n",
              "      <th>...</th>\n",
              "      <th>home_penalty_shootout_miss_long</th>\n",
              "      <th>away_penalty_shootout_miss_long</th>\n",
              "      <th>home_red_card</th>\n",
              "      <th>away_red_card</th>\n",
              "      <th>home_yellow_red_card</th>\n",
              "      <th>away_yellow_red_card</th>\n",
              "      <th>home_yellow_card_long</th>\n",
              "      <th>away_yellow_card_long</th>\n",
              "      <th>home_substitute_in_long</th>\n",
              "      <th>away_substitute_in_long</th>\n",
              "    </tr>\n",
              "  </thead>\n",
              "  <tbody>\n",
              "    <tr>\n",
              "      <th>0</th>\n",
              "      <td>Argentina</td>\n",
              "      <td>France</td>\n",
              "      <td>3</td>\n",
              "      <td>3.3</td>\n",
              "      <td>4.0</td>\n",
              "      <td>3</td>\n",
              "      <td>2.2</td>\n",
              "      <td>2.0</td>\n",
              "      <td>Lionel Scaloni</td>\n",
              "      <td>Lionel Messi</td>\n",
              "      <td>...</td>\n",
              "      <td>NaN</td>\n",
              "      <td>['3|1:1|Kingsley Coman', '5|2:1|Aurélien Tchou...</td>\n",
              "      <td>NaN</td>\n",
              "      <td>NaN</td>\n",
              "      <td>NaN</td>\n",
              "      <td>NaN</td>\n",
              "      <td>['45+7&amp;rsquor;|2:0|Enzo Fernández', '90+8&amp;rsqu...</td>\n",
              "      <td>['55&amp;rsquor;|2:0|Adrien Rabiot', '87&amp;rsquor;|2...</td>\n",
              "      <td>['64&amp;rsquor;|2:0|Marcos Acuña|for Ángel Di Mar...</td>\n",
              "      <td>['41&amp;rsquor;|2:0|Randal Kolo Muani|for Ousmane...</td>\n",
              "    </tr>\n",
              "    <tr>\n",
              "      <th>1</th>\n",
              "      <td>Croatia</td>\n",
              "      <td>Morocco</td>\n",
              "      <td>2</td>\n",
              "      <td>0.7</td>\n",
              "      <td>NaN</td>\n",
              "      <td>1</td>\n",
              "      <td>1.2</td>\n",
              "      <td>NaN</td>\n",
              "      <td>Zlatko Dalić</td>\n",
              "      <td>Luka Modrić</td>\n",
              "      <td>...</td>\n",
              "      <td>NaN</td>\n",
              "      <td>NaN</td>\n",
              "      <td>NaN</td>\n",
              "      <td>NaN</td>\n",
              "      <td>NaN</td>\n",
              "      <td>NaN</td>\n",
              "      <td>NaN</td>\n",
              "      <td>['69&amp;rsquor;|2:1|Azzedine Ounahi', '84&amp;rsquor;...</td>\n",
              "      <td>['61&amp;rsquor;|2:1|Nikola Vlašić|for Andrej Kram...</td>\n",
              "      <td>['46&amp;rsquor;|2:1|Ilias Chair|for Abdelhamid Sa...</td>\n",
              "    </tr>\n",
              "    <tr>\n",
              "      <th>2</th>\n",
              "      <td>France</td>\n",
              "      <td>Morocco</td>\n",
              "      <td>2</td>\n",
              "      <td>2.0</td>\n",
              "      <td>NaN</td>\n",
              "      <td>0</td>\n",
              "      <td>0.9</td>\n",
              "      <td>NaN</td>\n",
              "      <td>Didier Deschamps</td>\n",
              "      <td>Hugo Lloris</td>\n",
              "      <td>...</td>\n",
              "      <td>NaN</td>\n",
              "      <td>NaN</td>\n",
              "      <td>NaN</td>\n",
              "      <td>NaN</td>\n",
              "      <td>NaN</td>\n",
              "      <td>NaN</td>\n",
              "      <td>NaN</td>\n",
              "      <td>['27&amp;rsquor;|1:0|Sofiane Boufal']</td>\n",
              "      <td>['65&amp;rsquor;|1:0|Marcus Thuram|for Olivier Gir...</td>\n",
              "      <td>['21&amp;rsquor;|1:0|Selim Amallah|for Romain Saïs...</td>\n",
              "    </tr>\n",
              "    <tr>\n",
              "      <th>3</th>\n",
              "      <td>Argentina</td>\n",
              "      <td>Croatia</td>\n",
              "      <td>3</td>\n",
              "      <td>2.3</td>\n",
              "      <td>NaN</td>\n",
              "      <td>0</td>\n",
              "      <td>0.5</td>\n",
              "      <td>NaN</td>\n",
              "      <td>Lionel Scaloni</td>\n",
              "      <td>Lionel Messi</td>\n",
              "      <td>...</td>\n",
              "      <td>NaN</td>\n",
              "      <td>NaN</td>\n",
              "      <td>NaN</td>\n",
              "      <td>NaN</td>\n",
              "      <td>NaN</td>\n",
              "      <td>NaN</td>\n",
              "      <td>['68&amp;rsquor;|2:0|Cristian Romero', '71&amp;rsquor;...</td>\n",
              "      <td>['32&amp;rsquor;|0:0|Mateo Kovačić', '32&amp;rsquor;|0...</td>\n",
              "      <td>['62&amp;rsquor;|2:0|Lisandro Martínez|for Leandro...</td>\n",
              "      <td>['46&amp;rsquor;|2:0|Mislav Oršić|for Borna Sosa',...</td>\n",
              "    </tr>\n",
              "    <tr>\n",
              "      <th>4</th>\n",
              "      <td>Morocco</td>\n",
              "      <td>Portugal</td>\n",
              "      <td>1</td>\n",
              "      <td>1.4</td>\n",
              "      <td>NaN</td>\n",
              "      <td>0</td>\n",
              "      <td>0.9</td>\n",
              "      <td>NaN</td>\n",
              "      <td>Hoalid Regragui</td>\n",
              "      <td>Romain Saïss</td>\n",
              "      <td>...</td>\n",
              "      <td>NaN</td>\n",
              "      <td>NaN</td>\n",
              "      <td>NaN</td>\n",
              "      <td>NaN</td>\n",
              "      <td>Walid Cheddira · 90+3</td>\n",
              "      <td>NaN</td>\n",
              "      <td>['70&amp;rsquor;|1:0|Achraf Dari', '90+1&amp;rsquor;|1...</td>\n",
              "      <td>['87&amp;rsquor;|1:0|Vitinha']</td>\n",
              "      <td>['57&amp;rsquor;|1:0|Achraf Dari|for Romain Saïss'...</td>\n",
              "      <td>['51&amp;rsquor;|1:0|João Cancelo|for Raphaël Guer...</td>\n",
              "    </tr>\n",
              "  </tbody>\n",
              "</table>\n",
              "<p>5 rows × 44 columns</p>\n",
              "</div>"
            ],
            "text/plain": [
              "   home_team away_team  home_score  home_xg  home_penalty  away_score  \\\n",
              "0  Argentina    France           3      3.3           4.0           3   \n",
              "1    Croatia   Morocco           2      0.7           NaN           1   \n",
              "2     France   Morocco           2      2.0           NaN           0   \n",
              "3  Argentina   Croatia           3      2.3           NaN           0   \n",
              "4    Morocco  Portugal           1      1.4           NaN           0   \n",
              "\n",
              "   away_xg  away_penalty      home_manager  home_captain  ...  \\\n",
              "0      2.2           2.0    Lionel Scaloni  Lionel Messi  ...   \n",
              "1      1.2           NaN      Zlatko Dalić   Luka Modrić  ...   \n",
              "2      0.9           NaN  Didier Deschamps   Hugo Lloris  ...   \n",
              "3      0.5           NaN    Lionel Scaloni  Lionel Messi  ...   \n",
              "4      0.9           NaN   Hoalid Regragui  Romain Saïss  ...   \n",
              "\n",
              "  home_penalty_shootout_miss_long  \\\n",
              "0                             NaN   \n",
              "1                             NaN   \n",
              "2                             NaN   \n",
              "3                             NaN   \n",
              "4                             NaN   \n",
              "\n",
              "                     away_penalty_shootout_miss_long  home_red_card  \\\n",
              "0  ['3|1:1|Kingsley Coman', '5|2:1|Aurélien Tchou...            NaN   \n",
              "1                                                NaN            NaN   \n",
              "2                                                NaN            NaN   \n",
              "3                                                NaN            NaN   \n",
              "4                                                NaN            NaN   \n",
              "\n",
              "  away_red_card   home_yellow_red_card away_yellow_red_card  \\\n",
              "0           NaN                    NaN                  NaN   \n",
              "1           NaN                    NaN                  NaN   \n",
              "2           NaN                    NaN                  NaN   \n",
              "3           NaN                    NaN                  NaN   \n",
              "4           NaN  Walid Cheddira · 90+3                  NaN   \n",
              "\n",
              "                               home_yellow_card_long  \\\n",
              "0  ['45+7&rsquor;|2:0|Enzo Fernández', '90+8&rsqu...   \n",
              "1                                                NaN   \n",
              "2                                                NaN   \n",
              "3  ['68&rsquor;|2:0|Cristian Romero', '71&rsquor;...   \n",
              "4  ['70&rsquor;|1:0|Achraf Dari', '90+1&rsquor;|1...   \n",
              "\n",
              "                               away_yellow_card_long  \\\n",
              "0  ['55&rsquor;|2:0|Adrien Rabiot', '87&rsquor;|2...   \n",
              "1  ['69&rsquor;|2:1|Azzedine Ounahi', '84&rsquor;...   \n",
              "2                  ['27&rsquor;|1:0|Sofiane Boufal']   \n",
              "3  ['32&rsquor;|0:0|Mateo Kovačić', '32&rsquor;|0...   \n",
              "4                         ['87&rsquor;|1:0|Vitinha']   \n",
              "\n",
              "                             home_substitute_in_long  \\\n",
              "0  ['64&rsquor;|2:0|Marcos Acuña|for Ángel Di Mar...   \n",
              "1  ['61&rsquor;|2:1|Nikola Vlašić|for Andrej Kram...   \n",
              "2  ['65&rsquor;|1:0|Marcus Thuram|for Olivier Gir...   \n",
              "3  ['62&rsquor;|2:0|Lisandro Martínez|for Leandro...   \n",
              "4  ['57&rsquor;|1:0|Achraf Dari|for Romain Saïss'...   \n",
              "\n",
              "                             away_substitute_in_long  \n",
              "0  ['41&rsquor;|2:0|Randal Kolo Muani|for Ousmane...  \n",
              "1  ['46&rsquor;|2:1|Ilias Chair|for Abdelhamid Sa...  \n",
              "2  ['21&rsquor;|1:0|Selim Amallah|for Romain Saïs...  \n",
              "3  ['46&rsquor;|2:0|Mislav Oršić|for Borna Sosa',...  \n",
              "4  ['51&rsquor;|1:0|João Cancelo|for Raphaël Guer...  \n",
              "\n",
              "[5 rows x 44 columns]"
            ]
          },
          "execution_count": 59,
          "metadata": {},
          "output_type": "execute_result"
        }
      ],
      "source": [
        "matches.head()"
      ]
    },
    {
      "cell_type": "code",
      "execution_count": 60,
      "metadata": {
        "colab": {
          "base_uri": "https://localhost:8080/"
        },
        "id": "sUB_PwO2hIE-",
        "outputId": "591e5728-e5a6-47bc-cffe-7c5f2c022878"
      },
      "outputs": [
        {
          "name": "stdout",
          "output_type": "stream",
          "text": [
            "<class 'pandas.core.frame.DataFrame'>\n",
            "RangeIndex: 964 entries, 0 to 963\n",
            "Data columns (total 44 columns):\n",
            " #   Column                           Non-Null Count  Dtype  \n",
            "---  ------                           --------------  -----  \n",
            " 0   home_team                        964 non-null    object \n",
            " 1   away_team                        964 non-null    object \n",
            " 2   home_score                       964 non-null    int64  \n",
            " 3   home_xg                          128 non-null    float64\n",
            " 4   home_penalty                     35 non-null     float64\n",
            " 5   away_score                       964 non-null    int64  \n",
            " 6   away_xg                          128 non-null    float64\n",
            " 7   away_penalty                     35 non-null     float64\n",
            " 8   home_manager                     964 non-null    object \n",
            " 9   home_captain                     644 non-null    object \n",
            " 10  away_manager                     964 non-null    object \n",
            " 11  away_captain                     644 non-null    object \n",
            " 12  Attendance                       964 non-null    int64  \n",
            " 13  Venue                            964 non-null    object \n",
            " 14  Officials                        709 non-null    object \n",
            " 15  Round                            964 non-null    object \n",
            " 16  Date                             964 non-null    object \n",
            " 17  Score                            964 non-null    object \n",
            " 18  Referee                          709 non-null    object \n",
            " 19  Notes                            73 non-null     object \n",
            " 20  Host                             964 non-null    object \n",
            " 21  Year                             964 non-null    int64  \n",
            " 22  home_goal                        718 non-null    object \n",
            " 23  away_goal                        571 non-null    object \n",
            " 24  home_goal_long                   718 non-null    object \n",
            " 25  away_goal_long                   571 non-null    object \n",
            " 26  home_own_goal                    39 non-null     object \n",
            " 27  away_own_goal                    17 non-null     object \n",
            " 28  home_penalty_goal                116 non-null    object \n",
            " 29  away_penalty_goal                84 non-null     object \n",
            " 30  home_penalty_miss_long           6 non-null      object \n",
            " 31  away_penalty_miss_long           9 non-null      object \n",
            " 32  home_penalty_shootout_goal_long  34 non-null     object \n",
            " 33  away_penalty_shootout_goal_long  34 non-null     object \n",
            " 34  home_penalty_shootout_miss_long  24 non-null     object \n",
            " 35  away_penalty_shootout_miss_long  30 non-null     object \n",
            " 36  home_red_card                    51 non-null     object \n",
            " 37  away_red_card                    54 non-null     object \n",
            " 38  home_yellow_red_card             23 non-null     object \n",
            " 39  away_yellow_red_card             31 non-null     object \n",
            " 40  home_yellow_card_long            621 non-null    object \n",
            " 41  away_yellow_card_long            627 non-null    object \n",
            " 42  home_substitute_in_long          740 non-null    object \n",
            " 43  away_substitute_in_long          747 non-null    object \n",
            "dtypes: float64(4), int64(4), object(36)\n",
            "memory usage: 331.5+ KB\n"
          ]
        }
      ],
      "source": [
        "matches.info()"
      ]
    },
    {
      "cell_type": "code",
      "execution_count": null,
      "metadata": {
        "colab": {
          "base_uri": "https://localhost:8080/",
          "height": 70
        },
        "id": "hKR2UqOlhQ1A",
        "outputId": "cb2eaf79-2f0a-447b-cd6d-21f343998058"
      },
      "outputs": [
        {
          "data": {
            "text/plain": [
              "\"['64&rsquor;|2:0|Marcos Acuña|for Ángel Di María', '91&rsquor;|2:2|Gonzalo Montiel|for Nahuel Molina', '102&rsquor;|2:2|Leandro Paredes|for Rodrigo De Paul', '103&rsquor;|2:2|Lautaro Martínez|for Julián Álvarez', '116&rsquor;|3:2|Germán Pezzella|for Alexis Mac Allister', '120+1&rsquor;|3:3|Paulo Dybala|for Nicolás Tagliafico']\""
            ]
          },
          "execution_count": 61,
          "metadata": {},
          "output_type": "execute_result"
        }
      ],
      "source": [
        "matches[\"home_substitute_in_long\"][0]"
      ]
    },
    {
      "cell_type": "code",
      "execution_count": 62,
      "metadata": {
        "colab": {
          "base_uri": "https://localhost:8080/"
        },
        "id": "TlwRtLO1iZrn",
        "outputId": "d90bd21d-77bb-495a-fc28-5f7f6c75babe"
      },
      "outputs": [
        {
          "name": "stdout",
          "output_type": "stream",
          "text": [
            "(964, 44)\n",
            "(22, 9)\n",
            "(211, 7)\n"
          ]
        }
      ],
      "source": [
        "print(matches.shape)\n",
        "print(world_cup.shape)\n",
        "print(world_ranking.shape)"
      ]
    },
    {
      "cell_type": "code",
      "execution_count": null,
      "metadata": {
        "colab": {
          "base_uri": "https://localhost:8080/"
        },
        "id": "86l6hBqQikgq",
        "outputId": "30e9784b-ddfb-4136-c88d-c45f94324538"
      },
      "outputs": [
        {
          "data": {
            "text/plain": [
              "home_team                           0.000000\n",
              "away_team                           0.000000\n",
              "home_score                          0.000000\n",
              "home_xg                            86.721992\n",
              "home_penalty                       96.369295\n",
              "away_score                          0.000000\n",
              "away_xg                            86.721992\n",
              "away_penalty                       96.369295\n",
              "home_manager                        0.000000\n",
              "home_captain                       33.195021\n",
              "away_manager                        0.000000\n",
              "away_captain                       33.195021\n",
              "Attendance                          0.000000\n",
              "Venue                               0.000000\n",
              "Officials                          26.452282\n",
              "Round                               0.000000\n",
              "Date                                0.000000\n",
              "Score                               0.000000\n",
              "Referee                            26.452282\n",
              "Notes                              92.427386\n",
              "Host                                0.000000\n",
              "Year                                0.000000\n",
              "home_goal                          25.518672\n",
              "away_goal                          40.767635\n",
              "home_goal_long                     25.518672\n",
              "away_goal_long                     40.767635\n",
              "home_own_goal                      95.954357\n",
              "away_own_goal                      98.236515\n",
              "home_penalty_goal                  87.966805\n",
              "away_penalty_goal                  91.286307\n",
              "home_penalty_miss_long             99.377593\n",
              "away_penalty_miss_long             99.066390\n",
              "home_penalty_shootout_goal_long    96.473029\n",
              "away_penalty_shootout_goal_long    96.473029\n",
              "home_penalty_shootout_miss_long    97.510373\n",
              "away_penalty_shootout_miss_long    96.887967\n",
              "home_red_card                      94.709544\n",
              "away_red_card                      94.398340\n",
              "home_yellow_red_card               97.614108\n",
              "away_yellow_red_card               96.784232\n",
              "home_yellow_card_long              35.580913\n",
              "away_yellow_card_long              34.958506\n",
              "home_substitute_in_long            23.236515\n",
              "away_substitute_in_long            22.510373\n",
              "dtype: float64"
            ]
          },
          "execution_count": 63,
          "metadata": {},
          "output_type": "execute_result"
        }
      ],
      "source": [
        "# Checking for Null values\n",
        "matches.isnull().sum() / len(matches) * 100"
      ]
    },
    {
      "cell_type": "code",
      "execution_count": 64,
      "metadata": {
        "colab": {
          "base_uri": "https://localhost:8080/"
        },
        "id": "gh3knpVXikel",
        "outputId": "cbcf04c8-6ca3-4aa7-ba09-f13f962bd090"
      },
      "outputs": [
        {
          "data": {
            "text/plain": [
              "team               0\n",
              "team_code          0\n",
              "association        0\n",
              "rank               0\n",
              "previous_rank      0\n",
              "points             0\n",
              "previous_points    0\n",
              "dtype: int64"
            ]
          },
          "execution_count": 64,
          "metadata": {},
          "output_type": "execute_result"
        }
      ],
      "source": [
        "world_ranking.isnull().sum()"
      ]
    },
    {
      "cell_type": "code",
      "execution_count": 65,
      "metadata": {
        "colab": {
          "base_uri": "https://localhost:8080/"
        },
        "id": "yJdLzHi8ikcN",
        "outputId": "60468e22-7535-4f80-be2e-a67311fa148e"
      },
      "outputs": [
        {
          "data": {
            "text/plain": [
              "Year             0\n",
              "Host             0\n",
              "Teams            0\n",
              "Champion         0\n",
              "Runner-Up        0\n",
              "TopScorrer       0\n",
              "Attendance       0\n",
              "AttendanceAvg    0\n",
              "Matches          0\n",
              "dtype: int64"
            ]
          },
          "execution_count": 65,
          "metadata": {},
          "output_type": "execute_result"
        }
      ],
      "source": [
        "world_cup.isnull().sum()"
      ]
    },
    {
      "cell_type": "code",
      "execution_count": 66,
      "metadata": {
        "colab": {
          "base_uri": "https://localhost:8080/"
        },
        "id": "aExk-SpJjMM1",
        "outputId": "392ad030-d280-4c61-9878-e4c0708438e3"
      },
      "outputs": [
        {
          "name": "stdout",
          "output_type": "stream",
          "text": [
            "0\n",
            "0\n",
            "0\n"
          ]
        }
      ],
      "source": [
        "print(matches.duplicated().sum())\n",
        "print(world_ranking.duplicated().sum())\n",
        "print(world_cup.duplicated().sum())"
      ]
    },
    {
      "cell_type": "code",
      "execution_count": null,
      "metadata": {
        "colab": {
          "base_uri": "https://localhost:8080/"
        },
        "id": "zCjnN9DRjMJU",
        "outputId": "00b1e76f-84d3-4161-ce23-b67e8a5f9a15"
      },
      "outputs": [
        {
          "data": {
            "text/plain": [
              "array(['Argentina', 'Croatia', 'France', 'Morocco', 'England',\n",
              "       'Netherlands', 'Portugal', 'Japan', 'Brazil', 'Korea Republic',\n",
              "       'Ghana', 'Cameroon', 'Serbia', 'Canada', 'Costa Rica', 'Australia',\n",
              "       'Tunisia', 'Saudi Arabia', 'Poland', 'Ecuador', 'IR Iran', 'Wales',\n",
              "       'Belgium', 'Spain', 'Qatar', 'Switzerland', 'Uruguay', 'Germany',\n",
              "       'Denmark', 'Mexico', 'Senegal', 'United States', 'Sweden',\n",
              "       'Russia', 'Colombia', 'Panama', 'Iceland', 'Nigeria', 'Peru',\n",
              "       'Egypt', 'Algeria', 'Bosnia and Herzegovina', 'Honduras', 'Italy',\n",
              "       'Greece', \"Côte d'Ivoire\", 'Chile', 'Paraguay', 'Korea DPR',\n",
              "       'Slovakia', 'Slovenia', 'South Africa', 'New Zealand', 'Ukraine',\n",
              "       'Togo', 'Czech Republic', 'Serbia and Montenegro', 'Angola',\n",
              "       'Trinidad and Tobago', 'Türkiye', 'China PR',\n",
              "       'Republic of Ireland', 'Romania', 'Scotland', 'FR Yugoslavia',\n",
              "       'Jamaica', 'Bulgaria', 'Bolivia', 'Norway', 'West Germany',\n",
              "       'Yugoslavia', 'Czechoslovakia', 'Austria', 'United Arab Emirates',\n",
              "       'Soviet Union', 'Northern Ireland', 'Iraq', 'Hungary',\n",
              "       'Germany DR', 'Zaire', 'Haiti', 'Cuba'], dtype=object)"
            ]
          },
          "execution_count": 67,
          "metadata": {},
          "output_type": "execute_result"
        }
      ],
      "source": [
        "matches[\"home_team\"].unique()"
      ]
    },
    {
      "cell_type": "code",
      "execution_count": null,
      "metadata": {
        "id": "cdZWvRhHjdv4"
      },
      "outputs": [],
      "source": [
        "# west germany or Germany DR - 1949 - 1990"
      ]
    },
    {
      "cell_type": "code",
      "execution_count": null,
      "metadata": {
        "id": "DsdziVNaj10j"
      },
      "outputs": [],
      "source": [
        "matches[\"home_team\"] = matches[\"home_team\"].apply(\n",
        "    lambda x: x.replace(\"Germany DR\", \" West Germany\")\n",
        ")\n",
        "matches[\"away_team\"] = matches[\"away_team\"].apply(\n",
        "    lambda x: x.replace(\"Germany DR\", \" West Germany\")\n",
        ")"
      ]
    },
    {
      "cell_type": "markdown",
      "metadata": {
        "id": "SYMGOTRoiVKW"
      },
      "source": [
        "#EDA\n"
      ]
    },
    {
      "cell_type": "code",
      "execution_count": 70,
      "metadata": {
        "colab": {
          "base_uri": "https://localhost:8080/"
        },
        "id": "O38poaL9kwKn",
        "outputId": "8f8904e0-e13a-4c70-f380-643964da5745"
      },
      "outputs": [
        {
          "name": "stdout",
          "output_type": "stream",
          "text": [
            "<class 'pandas.core.frame.DataFrame'>\n",
            "RangeIndex: 964 entries, 0 to 963\n",
            "Data columns (total 44 columns):\n",
            " #   Column                           Non-Null Count  Dtype  \n",
            "---  ------                           --------------  -----  \n",
            " 0   home_team                        964 non-null    object \n",
            " 1   away_team                        964 non-null    object \n",
            " 2   home_score                       964 non-null    int64  \n",
            " 3   home_xg                          128 non-null    float64\n",
            " 4   home_penalty                     35 non-null     float64\n",
            " 5   away_score                       964 non-null    int64  \n",
            " 6   away_xg                          128 non-null    float64\n",
            " 7   away_penalty                     35 non-null     float64\n",
            " 8   home_manager                     964 non-null    object \n",
            " 9   home_captain                     644 non-null    object \n",
            " 10  away_manager                     964 non-null    object \n",
            " 11  away_captain                     644 non-null    object \n",
            " 12  Attendance                       964 non-null    int64  \n",
            " 13  Venue                            964 non-null    object \n",
            " 14  Officials                        709 non-null    object \n",
            " 15  Round                            964 non-null    object \n",
            " 16  Date                             964 non-null    object \n",
            " 17  Score                            964 non-null    object \n",
            " 18  Referee                          709 non-null    object \n",
            " 19  Notes                            73 non-null     object \n",
            " 20  Host                             964 non-null    object \n",
            " 21  Year                             964 non-null    int64  \n",
            " 22  home_goal                        718 non-null    object \n",
            " 23  away_goal                        571 non-null    object \n",
            " 24  home_goal_long                   718 non-null    object \n",
            " 25  away_goal_long                   571 non-null    object \n",
            " 26  home_own_goal                    39 non-null     object \n",
            " 27  away_own_goal                    17 non-null     object \n",
            " 28  home_penalty_goal                116 non-null    object \n",
            " 29  away_penalty_goal                84 non-null     object \n",
            " 30  home_penalty_miss_long           6 non-null      object \n",
            " 31  away_penalty_miss_long           9 non-null      object \n",
            " 32  home_penalty_shootout_goal_long  34 non-null     object \n",
            " 33  away_penalty_shootout_goal_long  34 non-null     object \n",
            " 34  home_penalty_shootout_miss_long  24 non-null     object \n",
            " 35  away_penalty_shootout_miss_long  30 non-null     object \n",
            " 36  home_red_card                    51 non-null     object \n",
            " 37  away_red_card                    54 non-null     object \n",
            " 38  home_yellow_red_card             23 non-null     object \n",
            " 39  away_yellow_red_card             31 non-null     object \n",
            " 40  home_yellow_card_long            621 non-null    object \n",
            " 41  away_yellow_card_long            627 non-null    object \n",
            " 42  home_substitute_in_long          740 non-null    object \n",
            " 43  away_substitute_in_long          747 non-null    object \n",
            "dtypes: float64(4), int64(4), object(36)\n",
            "memory usage: 331.5+ KB\n"
          ]
        }
      ],
      "source": [
        "matches.info()"
      ]
    },
    {
      "cell_type": "code",
      "execution_count": null,
      "metadata": {
        "colab": {
          "base_uri": "https://localhost:8080/"
        },
        "id": "anw6u8g7iUR6",
        "outputId": "aa404e9c-6c29-4f14-a9fe-8f856f57ad9a"
      },
      "outputs": [
        {
          "name": "stdout",
          "output_type": "stream",
          "text": [
            "Total Number of matches : 964\n",
            "Total goals scored: 2720\n",
            "Average goals scored per match: 2.8215767634854774\n",
            "Total attendance Over time: 44048413\n",
            "Average aattendance Over time: 45693.3744813278\n"
          ]
        }
      ],
      "source": [
        "# Total number of matches played till 2022.\n",
        "print(f\"Total Number of matches : {len(matches)}\")\n",
        "# Total goals Scored (penalty Goals).\n",
        "print(f\"Total goals scored: {sum(matches['home_score'] + matches['away_score'])}\")\n",
        "# Average Goals Scored Per match.\n",
        "print(\n",
        "    f\"Average goals scored per match: {sum(matches['home_score'] + matches['away_score']) / len(matches)}\"\n",
        ")\n",
        "# Total attendance Over time.\n",
        "print(f\"Total attendance Over time: {sum(matches['Attendance'])}\")\n",
        "# Average aattendance Over time.\n",
        "print(f\"Average aattendance Over time: {sum(matches['Attendance']) / len(matches)}\")"
      ]
    },
    {
      "cell_type": "code",
      "execution_count": 72,
      "metadata": {
        "id": "BosPM0L9h2Wp"
      },
      "outputs": [],
      "source": [
        "# Times a Particular country is winner , First runner up or  Second Runner up"
      ]
    },
    {
      "cell_type": "code",
      "execution_count": null,
      "metadata": {
        "id": "zOL34AhjmmiP"
      },
      "outputs": [],
      "source": [
        "# WINNERS"
      ]
    },
    {
      "cell_type": "code",
      "execution_count": null,
      "metadata": {
        "id": "O59mpwz3lm7L"
      },
      "outputs": [],
      "source": [
        "winner = world_cup[\"Champion\"].value_counts().reset_index()"
      ]
    },
    {
      "cell_type": "code",
      "execution_count": null,
      "metadata": {
        "colab": {
          "base_uri": "https://localhost:8080/",
          "height": 542
        },
        "id": "-5BNihN3lpYc",
        "outputId": "49d501f1-0e51-453b-c044-a1acd3c5d989"
      },
      "outputs": [
        {
          "data": {
            "application/vnd.plotly.v1+json": {
              "config": {
                "plotlyServerURL": "https://plot.ly"
              },
              "data": [
                {
                  "domain": {
                    "x": [
                      0,
                      1
                    ],
                    "y": [
                      0,
                      1
                    ]
                  },
                  "hovertemplate": "Champion=%{label}<br>count=%{value}<extra></extra>",
                  "labels": [
                    "Brazil",
                    "Italy",
                    "Argentina",
                    "Germany",
                    "France",
                    "Uruguay",
                    "West Germany",
                    "Spain",
                    "England"
                  ],
                  "legendgroup": "",
                  "name": "",
                  "showlegend": true,
                  "textinfo": "label+value",
                  "type": "pie",
                  "values": {
                    "bdata": "BQQDAgICAgEB",
                    "dtype": "i1"
                  }
                }
              ],
              "layout": {
                "legend": {
                  "tracegroupgap": 0
                },
                "template": {
                  "data": {
                    "bar": [
                      {
                        "error_x": {
                          "color": "#2a3f5f"
                        },
                        "error_y": {
                          "color": "#2a3f5f"
                        },
                        "marker": {
                          "line": {
                            "color": "#E5ECF6",
                            "width": 0.5
                          },
                          "pattern": {
                            "fillmode": "overlay",
                            "size": 10,
                            "solidity": 0.2
                          }
                        },
                        "type": "bar"
                      }
                    ],
                    "barpolar": [
                      {
                        "marker": {
                          "line": {
                            "color": "#E5ECF6",
                            "width": 0.5
                          },
                          "pattern": {
                            "fillmode": "overlay",
                            "size": 10,
                            "solidity": 0.2
                          }
                        },
                        "type": "barpolar"
                      }
                    ],
                    "carpet": [
                      {
                        "aaxis": {
                          "endlinecolor": "#2a3f5f",
                          "gridcolor": "white",
                          "linecolor": "white",
                          "minorgridcolor": "white",
                          "startlinecolor": "#2a3f5f"
                        },
                        "baxis": {
                          "endlinecolor": "#2a3f5f",
                          "gridcolor": "white",
                          "linecolor": "white",
                          "minorgridcolor": "white",
                          "startlinecolor": "#2a3f5f"
                        },
                        "type": "carpet"
                      }
                    ],
                    "choropleth": [
                      {
                        "colorbar": {
                          "outlinewidth": 0,
                          "ticks": ""
                        },
                        "type": "choropleth"
                      }
                    ],
                    "contour": [
                      {
                        "colorbar": {
                          "outlinewidth": 0,
                          "ticks": ""
                        },
                        "colorscale": [
                          [
                            0,
                            "#0d0887"
                          ],
                          [
                            0.1111111111111111,
                            "#46039f"
                          ],
                          [
                            0.2222222222222222,
                            "#7201a8"
                          ],
                          [
                            0.3333333333333333,
                            "#9c179e"
                          ],
                          [
                            0.4444444444444444,
                            "#bd3786"
                          ],
                          [
                            0.5555555555555556,
                            "#d8576b"
                          ],
                          [
                            0.6666666666666666,
                            "#ed7953"
                          ],
                          [
                            0.7777777777777778,
                            "#fb9f3a"
                          ],
                          [
                            0.8888888888888888,
                            "#fdca26"
                          ],
                          [
                            1,
                            "#f0f921"
                          ]
                        ],
                        "type": "contour"
                      }
                    ],
                    "contourcarpet": [
                      {
                        "colorbar": {
                          "outlinewidth": 0,
                          "ticks": ""
                        },
                        "type": "contourcarpet"
                      }
                    ],
                    "heatmap": [
                      {
                        "colorbar": {
                          "outlinewidth": 0,
                          "ticks": ""
                        },
                        "colorscale": [
                          [
                            0,
                            "#0d0887"
                          ],
                          [
                            0.1111111111111111,
                            "#46039f"
                          ],
                          [
                            0.2222222222222222,
                            "#7201a8"
                          ],
                          [
                            0.3333333333333333,
                            "#9c179e"
                          ],
                          [
                            0.4444444444444444,
                            "#bd3786"
                          ],
                          [
                            0.5555555555555556,
                            "#d8576b"
                          ],
                          [
                            0.6666666666666666,
                            "#ed7953"
                          ],
                          [
                            0.7777777777777778,
                            "#fb9f3a"
                          ],
                          [
                            0.8888888888888888,
                            "#fdca26"
                          ],
                          [
                            1,
                            "#f0f921"
                          ]
                        ],
                        "type": "heatmap"
                      }
                    ],
                    "histogram": [
                      {
                        "marker": {
                          "pattern": {
                            "fillmode": "overlay",
                            "size": 10,
                            "solidity": 0.2
                          }
                        },
                        "type": "histogram"
                      }
                    ],
                    "histogram2d": [
                      {
                        "colorbar": {
                          "outlinewidth": 0,
                          "ticks": ""
                        },
                        "colorscale": [
                          [
                            0,
                            "#0d0887"
                          ],
                          [
                            0.1111111111111111,
                            "#46039f"
                          ],
                          [
                            0.2222222222222222,
                            "#7201a8"
                          ],
                          [
                            0.3333333333333333,
                            "#9c179e"
                          ],
                          [
                            0.4444444444444444,
                            "#bd3786"
                          ],
                          [
                            0.5555555555555556,
                            "#d8576b"
                          ],
                          [
                            0.6666666666666666,
                            "#ed7953"
                          ],
                          [
                            0.7777777777777778,
                            "#fb9f3a"
                          ],
                          [
                            0.8888888888888888,
                            "#fdca26"
                          ],
                          [
                            1,
                            "#f0f921"
                          ]
                        ],
                        "type": "histogram2d"
                      }
                    ],
                    "histogram2dcontour": [
                      {
                        "colorbar": {
                          "outlinewidth": 0,
                          "ticks": ""
                        },
                        "colorscale": [
                          [
                            0,
                            "#0d0887"
                          ],
                          [
                            0.1111111111111111,
                            "#46039f"
                          ],
                          [
                            0.2222222222222222,
                            "#7201a8"
                          ],
                          [
                            0.3333333333333333,
                            "#9c179e"
                          ],
                          [
                            0.4444444444444444,
                            "#bd3786"
                          ],
                          [
                            0.5555555555555556,
                            "#d8576b"
                          ],
                          [
                            0.6666666666666666,
                            "#ed7953"
                          ],
                          [
                            0.7777777777777778,
                            "#fb9f3a"
                          ],
                          [
                            0.8888888888888888,
                            "#fdca26"
                          ],
                          [
                            1,
                            "#f0f921"
                          ]
                        ],
                        "type": "histogram2dcontour"
                      }
                    ],
                    "mesh3d": [
                      {
                        "colorbar": {
                          "outlinewidth": 0,
                          "ticks": ""
                        },
                        "type": "mesh3d"
                      }
                    ],
                    "parcoords": [
                      {
                        "line": {
                          "colorbar": {
                            "outlinewidth": 0,
                            "ticks": ""
                          }
                        },
                        "type": "parcoords"
                      }
                    ],
                    "pie": [
                      {
                        "automargin": true,
                        "type": "pie"
                      }
                    ],
                    "scatter": [
                      {
                        "fillpattern": {
                          "fillmode": "overlay",
                          "size": 10,
                          "solidity": 0.2
                        },
                        "type": "scatter"
                      }
                    ],
                    "scatter3d": [
                      {
                        "line": {
                          "colorbar": {
                            "outlinewidth": 0,
                            "ticks": ""
                          }
                        },
                        "marker": {
                          "colorbar": {
                            "outlinewidth": 0,
                            "ticks": ""
                          }
                        },
                        "type": "scatter3d"
                      }
                    ],
                    "scattercarpet": [
                      {
                        "marker": {
                          "colorbar": {
                            "outlinewidth": 0,
                            "ticks": ""
                          }
                        },
                        "type": "scattercarpet"
                      }
                    ],
                    "scattergeo": [
                      {
                        "marker": {
                          "colorbar": {
                            "outlinewidth": 0,
                            "ticks": ""
                          }
                        },
                        "type": "scattergeo"
                      }
                    ],
                    "scattergl": [
                      {
                        "marker": {
                          "colorbar": {
                            "outlinewidth": 0,
                            "ticks": ""
                          }
                        },
                        "type": "scattergl"
                      }
                    ],
                    "scattermap": [
                      {
                        "marker": {
                          "colorbar": {
                            "outlinewidth": 0,
                            "ticks": ""
                          }
                        },
                        "type": "scattermap"
                      }
                    ],
                    "scattermapbox": [
                      {
                        "marker": {
                          "colorbar": {
                            "outlinewidth": 0,
                            "ticks": ""
                          }
                        },
                        "type": "scattermapbox"
                      }
                    ],
                    "scatterpolar": [
                      {
                        "marker": {
                          "colorbar": {
                            "outlinewidth": 0,
                            "ticks": ""
                          }
                        },
                        "type": "scatterpolar"
                      }
                    ],
                    "scatterpolargl": [
                      {
                        "marker": {
                          "colorbar": {
                            "outlinewidth": 0,
                            "ticks": ""
                          }
                        },
                        "type": "scatterpolargl"
                      }
                    ],
                    "scatterternary": [
                      {
                        "marker": {
                          "colorbar": {
                            "outlinewidth": 0,
                            "ticks": ""
                          }
                        },
                        "type": "scatterternary"
                      }
                    ],
                    "surface": [
                      {
                        "colorbar": {
                          "outlinewidth": 0,
                          "ticks": ""
                        },
                        "colorscale": [
                          [
                            0,
                            "#0d0887"
                          ],
                          [
                            0.1111111111111111,
                            "#46039f"
                          ],
                          [
                            0.2222222222222222,
                            "#7201a8"
                          ],
                          [
                            0.3333333333333333,
                            "#9c179e"
                          ],
                          [
                            0.4444444444444444,
                            "#bd3786"
                          ],
                          [
                            0.5555555555555556,
                            "#d8576b"
                          ],
                          [
                            0.6666666666666666,
                            "#ed7953"
                          ],
                          [
                            0.7777777777777778,
                            "#fb9f3a"
                          ],
                          [
                            0.8888888888888888,
                            "#fdca26"
                          ],
                          [
                            1,
                            "#f0f921"
                          ]
                        ],
                        "type": "surface"
                      }
                    ],
                    "table": [
                      {
                        "cells": {
                          "fill": {
                            "color": "#EBF0F8"
                          },
                          "line": {
                            "color": "white"
                          }
                        },
                        "header": {
                          "fill": {
                            "color": "#C8D4E3"
                          },
                          "line": {
                            "color": "white"
                          }
                        },
                        "type": "table"
                      }
                    ]
                  },
                  "layout": {
                    "annotationdefaults": {
                      "arrowcolor": "#2a3f5f",
                      "arrowhead": 0,
                      "arrowwidth": 1
                    },
                    "autotypenumbers": "strict",
                    "coloraxis": {
                      "colorbar": {
                        "outlinewidth": 0,
                        "ticks": ""
                      }
                    },
                    "colorscale": {
                      "diverging": [
                        [
                          0,
                          "#8e0152"
                        ],
                        [
                          0.1,
                          "#c51b7d"
                        ],
                        [
                          0.2,
                          "#de77ae"
                        ],
                        [
                          0.3,
                          "#f1b6da"
                        ],
                        [
                          0.4,
                          "#fde0ef"
                        ],
                        [
                          0.5,
                          "#f7f7f7"
                        ],
                        [
                          0.6,
                          "#e6f5d0"
                        ],
                        [
                          0.7,
                          "#b8e186"
                        ],
                        [
                          0.8,
                          "#7fbc41"
                        ],
                        [
                          0.9,
                          "#4d9221"
                        ],
                        [
                          1,
                          "#276419"
                        ]
                      ],
                      "sequential": [
                        [
                          0,
                          "#0d0887"
                        ],
                        [
                          0.1111111111111111,
                          "#46039f"
                        ],
                        [
                          0.2222222222222222,
                          "#7201a8"
                        ],
                        [
                          0.3333333333333333,
                          "#9c179e"
                        ],
                        [
                          0.4444444444444444,
                          "#bd3786"
                        ],
                        [
                          0.5555555555555556,
                          "#d8576b"
                        ],
                        [
                          0.6666666666666666,
                          "#ed7953"
                        ],
                        [
                          0.7777777777777778,
                          "#fb9f3a"
                        ],
                        [
                          0.8888888888888888,
                          "#fdca26"
                        ],
                        [
                          1,
                          "#f0f921"
                        ]
                      ],
                      "sequentialminus": [
                        [
                          0,
                          "#0d0887"
                        ],
                        [
                          0.1111111111111111,
                          "#46039f"
                        ],
                        [
                          0.2222222222222222,
                          "#7201a8"
                        ],
                        [
                          0.3333333333333333,
                          "#9c179e"
                        ],
                        [
                          0.4444444444444444,
                          "#bd3786"
                        ],
                        [
                          0.5555555555555556,
                          "#d8576b"
                        ],
                        [
                          0.6666666666666666,
                          "#ed7953"
                        ],
                        [
                          0.7777777777777778,
                          "#fb9f3a"
                        ],
                        [
                          0.8888888888888888,
                          "#fdca26"
                        ],
                        [
                          1,
                          "#f0f921"
                        ]
                      ]
                    },
                    "colorway": [
                      "#636efa",
                      "#EF553B",
                      "#00cc96",
                      "#ab63fa",
                      "#FFA15A",
                      "#19d3f3",
                      "#FF6692",
                      "#B6E880",
                      "#FF97FF",
                      "#FECB52"
                    ],
                    "font": {
                      "color": "#2a3f5f"
                    },
                    "geo": {
                      "bgcolor": "white",
                      "lakecolor": "white",
                      "landcolor": "#E5ECF6",
                      "showlakes": true,
                      "showland": true,
                      "subunitcolor": "white"
                    },
                    "hoverlabel": {
                      "align": "left"
                    },
                    "hovermode": "closest",
                    "mapbox": {
                      "style": "light"
                    },
                    "paper_bgcolor": "white",
                    "plot_bgcolor": "#E5ECF6",
                    "polar": {
                      "angularaxis": {
                        "gridcolor": "white",
                        "linecolor": "white",
                        "ticks": ""
                      },
                      "bgcolor": "#E5ECF6",
                      "radialaxis": {
                        "gridcolor": "white",
                        "linecolor": "white",
                        "ticks": ""
                      }
                    },
                    "scene": {
                      "xaxis": {
                        "backgroundcolor": "#E5ECF6",
                        "gridcolor": "white",
                        "gridwidth": 2,
                        "linecolor": "white",
                        "showbackground": true,
                        "ticks": "",
                        "zerolinecolor": "white"
                      },
                      "yaxis": {
                        "backgroundcolor": "#E5ECF6",
                        "gridcolor": "white",
                        "gridwidth": 2,
                        "linecolor": "white",
                        "showbackground": true,
                        "ticks": "",
                        "zerolinecolor": "white"
                      },
                      "zaxis": {
                        "backgroundcolor": "#E5ECF6",
                        "gridcolor": "white",
                        "gridwidth": 2,
                        "linecolor": "white",
                        "showbackground": true,
                        "ticks": "",
                        "zerolinecolor": "white"
                      }
                    },
                    "shapedefaults": {
                      "line": {
                        "color": "#2a3f5f"
                      }
                    },
                    "ternary": {
                      "aaxis": {
                        "gridcolor": "white",
                        "linecolor": "white",
                        "ticks": ""
                      },
                      "baxis": {
                        "gridcolor": "white",
                        "linecolor": "white",
                        "ticks": ""
                      },
                      "bgcolor": "#E5ECF6",
                      "caxis": {
                        "gridcolor": "white",
                        "linecolor": "white",
                        "ticks": ""
                      }
                    },
                    "title": {
                      "x": 0.05
                    },
                    "xaxis": {
                      "automargin": true,
                      "gridcolor": "white",
                      "linecolor": "white",
                      "ticks": "",
                      "title": {
                        "standoff": 15
                      },
                      "zerolinecolor": "white",
                      "zerolinewidth": 2
                    },
                    "yaxis": {
                      "automargin": true,
                      "gridcolor": "white",
                      "linecolor": "white",
                      "ticks": "",
                      "title": {
                        "standoff": 15
                      },
                      "zerolinecolor": "white",
                      "zerolinewidth": 2
                    }
                  }
                },
                "title": {
                  "text": "Number of times a Country won Fifa World Cup"
                }
              }
            }
          },
          "metadata": {},
          "output_type": "display_data"
        }
      ],
      "source": [
        "fig = px.pie(\n",
        "    winner,\n",
        "    values=\"count\",\n",
        "    names=\"Champion\",\n",
        "    title=\"Number of times a Country won Fifa World Cup\",\n",
        ")\n",
        "\n",
        "# customize\n",
        "fig.update_traces(textinfo=\"label+value\")\n",
        "fig.show()"
      ]
    },
    {
      "cell_type": "code",
      "execution_count": null,
      "metadata": {
        "id": "ngkcUSlqmMSJ"
      },
      "outputs": [],
      "source": [
        "# FIRST RUNNER UP AND SECOND RUNNER UP"
      ]
    },
    {
      "cell_type": "code",
      "execution_count": null,
      "metadata": {
        "colab": {
          "base_uri": "https://localhost:8080/"
        },
        "id": "ehKRTbp5ms4Z",
        "outputId": "af833138-bafb-4afa-efc2-3ec361d78a09"
      },
      "outputs": [
        {
          "data": {
            "text/plain": [
              "array(['Final', 'Third-place match', 'Semi-finals', 'Quarter-finals',\n",
              "       'Round of 16', 'Group stage', 'Second group stage',\n",
              "       'First group stage', 'Second round', 'First round',\n",
              "       'Group stage play-off', 'Final stage'], dtype=object)"
            ]
          },
          "execution_count": 77,
          "metadata": {},
          "output_type": "execute_result"
        }
      ],
      "source": [
        "matches[\"Round\"].unique()"
      ]
    },
    {
      "cell_type": "code",
      "execution_count": null,
      "metadata": {
        "id": "YXqIumSLmusa"
      },
      "outputs": [],
      "source": [
        "matches[\"home_penalty\"].fillna(0, inplace=True)\n",
        "matches[\"away_penalty\"].fillna(0, inplace=True)"
      ]
    },
    {
      "cell_type": "code",
      "execution_count": null,
      "metadata": {
        "id": "16VS9OeJm71k"
      },
      "outputs": [],
      "source": [
        "matches[\"h_total\"] = matches[\"home_score\"] + matches[\"home_penalty\"]\n",
        "matches[\"a_total\"] = matches[\"away_score\"] + matches[\"away_penalty\"]"
      ]
    },
    {
      "cell_type": "code",
      "execution_count": null,
      "metadata": {
        "id": "SqtTGSZMnO_r"
      },
      "outputs": [],
      "source": [
        "Runner = matches[matches[\"Round\"] == \"Final\"]\n",
        "Third = matches[matches[\"Round\"] == \"Third-place match\"]"
      ]
    },
    {
      "cell_type": "code",
      "execution_count": null,
      "metadata": {
        "id": "yRqMeDevndB6"
      },
      "outputs": [],
      "source": [
        "# runner up\n",
        "def get_runner_up(row):\n",
        "    if row[\"h_total\"] > row[\"a_total\"]:\n",
        "        return row[\"away_team\"]\n",
        "    else:\n",
        "        return row[\"home_team\"]\n",
        "\n",
        "\n",
        "# third place\n",
        "def get_third_up(row):\n",
        "    if row[\"h_total\"] > row[\"a_total\"]:\n",
        "        return row[\"home_team\"]\n",
        "    else:\n",
        "        return row[\"away_team\"]\n"
      ]
    },
    {
      "cell_type": "code",
      "execution_count": null,
      "metadata": {
        "colab": {
          "base_uri": "https://localhost:8080/"
        },
        "id": "y2M4x-9knxDS",
        "outputId": "96d7de90-7ba6-45a9-e07d-021b74ffe337"
      },
      "outputs": [],
      "source": [
        "Runner[\"Runner_up\"] = Runner.apply(get_runner_up, axis=1)\n",
        "Third[\"Third_place\"] = Third.apply(get_third_up, axis=1)"
      ]
    },
    {
      "cell_type": "code",
      "execution_count": null,
      "metadata": {
        "colab": {
          "base_uri": "https://localhost:8080/"
        },
        "id": "fIHg87fColJs",
        "outputId": "b7215d85-4eff-4147-c87d-09bce636b80a"
      },
      "outputs": [
        {
          "data": {
            "text/plain": [
              "Index(['Argentina', 'West Germany', 'Netherlands', 'Hungary', 'France',\n",
              "       'Czechoslovakia', 'Italy', 'Croatia', 'Germany', 'Brazil', 'Sweden'],\n",
              "      dtype='object', name='Runner_up')"
            ]
          },
          "execution_count": 83,
          "metadata": {},
          "output_type": "execute_result"
        }
      ],
      "source": [
        "Runner[\"Runner_up\"].value_counts().index"
      ]
    },
    {
      "cell_type": "code",
      "execution_count": null,
      "metadata": {
        "id": "ajr4oC5ZomXy"
      },
      "outputs": [],
      "source": [
        "trace1 = go.Bar(\n",
        "    x=Runner[\"Runner_up\"].value_counts().index,\n",
        "    y=Runner[\"Runner_up\"].value_counts(),\n",
        "    name=\"First Runner Up\",\n",
        ")\n",
        "trace2 = go.Bar(\n",
        "    x=Third[\"Third_place\"].value_counts().index,\n",
        "    y=Third[\"Third_place\"].value_counts(),\n",
        "    name=\"Second Runner Up\",\n",
        ")"
      ]
    },
    {
      "cell_type": "code",
      "execution_count": null,
      "metadata": {
        "colab": {
          "base_uri": "https://localhost:8080/",
          "height": 542
        },
        "id": "MQXH7xDgpt8u",
        "outputId": "a03dd613-802e-497f-c7c6-389752a83750"
      },
      "outputs": [
        {
          "data": {
            "application/vnd.plotly.v1+json": {
              "config": {
                "plotlyServerURL": "https://plot.ly"
              },
              "data": [
                {
                  "name": "First Runner Up",
                  "type": "bar",
                  "x": [
                    "Argentina",
                    "West Germany",
                    "Netherlands",
                    "Hungary",
                    "France",
                    "Czechoslovakia",
                    "Italy",
                    "Croatia",
                    "Germany",
                    "Brazil",
                    "Sweden"
                  ],
                  "xaxis": "x",
                  "y": {
                    "bdata": "AwMDAgICAgEBAQE=",
                    "dtype": "i1"
                  },
                  "yaxis": "y"
                },
                {
                  "name": "Second Runner Up",
                  "type": "bar",
                  "x": [
                    "Germany",
                    "Croatia",
                    "Poland",
                    "Brazil",
                    "France",
                    "Belgium",
                    "Sweden",
                    "Türkiye",
                    "Netherlands",
                    "Italy",
                    "West Germany",
                    "Portugal",
                    "Chile",
                    "Austria"
                  ],
                  "xaxis": "x2",
                  "y": {
                    "bdata": "AwICAgIBAQEBAQEBAQE=",
                    "dtype": "i1"
                  },
                  "yaxis": "y2"
                }
              ],
              "layout": {
                "annotations": [
                  {
                    "font": {
                      "size": 16
                    },
                    "showarrow": false,
                    "text": "First Runner Up",
                    "x": 0.225,
                    "xanchor": "center",
                    "xref": "paper",
                    "y": 1,
                    "yanchor": "bottom",
                    "yref": "paper"
                  },
                  {
                    "font": {
                      "size": 16
                    },
                    "showarrow": false,
                    "text": "Second Runner Up",
                    "x": 0.775,
                    "xanchor": "center",
                    "xref": "paper",
                    "y": 1,
                    "yanchor": "bottom",
                    "yref": "paper"
                  }
                ],
                "template": {
                  "data": {
                    "bar": [
                      {
                        "error_x": {
                          "color": "#2a3f5f"
                        },
                        "error_y": {
                          "color": "#2a3f5f"
                        },
                        "marker": {
                          "line": {
                            "color": "#E5ECF6",
                            "width": 0.5
                          },
                          "pattern": {
                            "fillmode": "overlay",
                            "size": 10,
                            "solidity": 0.2
                          }
                        },
                        "type": "bar"
                      }
                    ],
                    "barpolar": [
                      {
                        "marker": {
                          "line": {
                            "color": "#E5ECF6",
                            "width": 0.5
                          },
                          "pattern": {
                            "fillmode": "overlay",
                            "size": 10,
                            "solidity": 0.2
                          }
                        },
                        "type": "barpolar"
                      }
                    ],
                    "carpet": [
                      {
                        "aaxis": {
                          "endlinecolor": "#2a3f5f",
                          "gridcolor": "white",
                          "linecolor": "white",
                          "minorgridcolor": "white",
                          "startlinecolor": "#2a3f5f"
                        },
                        "baxis": {
                          "endlinecolor": "#2a3f5f",
                          "gridcolor": "white",
                          "linecolor": "white",
                          "minorgridcolor": "white",
                          "startlinecolor": "#2a3f5f"
                        },
                        "type": "carpet"
                      }
                    ],
                    "choropleth": [
                      {
                        "colorbar": {
                          "outlinewidth": 0,
                          "ticks": ""
                        },
                        "type": "choropleth"
                      }
                    ],
                    "contour": [
                      {
                        "colorbar": {
                          "outlinewidth": 0,
                          "ticks": ""
                        },
                        "colorscale": [
                          [
                            0,
                            "#0d0887"
                          ],
                          [
                            0.1111111111111111,
                            "#46039f"
                          ],
                          [
                            0.2222222222222222,
                            "#7201a8"
                          ],
                          [
                            0.3333333333333333,
                            "#9c179e"
                          ],
                          [
                            0.4444444444444444,
                            "#bd3786"
                          ],
                          [
                            0.5555555555555556,
                            "#d8576b"
                          ],
                          [
                            0.6666666666666666,
                            "#ed7953"
                          ],
                          [
                            0.7777777777777778,
                            "#fb9f3a"
                          ],
                          [
                            0.8888888888888888,
                            "#fdca26"
                          ],
                          [
                            1,
                            "#f0f921"
                          ]
                        ],
                        "type": "contour"
                      }
                    ],
                    "contourcarpet": [
                      {
                        "colorbar": {
                          "outlinewidth": 0,
                          "ticks": ""
                        },
                        "type": "contourcarpet"
                      }
                    ],
                    "heatmap": [
                      {
                        "colorbar": {
                          "outlinewidth": 0,
                          "ticks": ""
                        },
                        "colorscale": [
                          [
                            0,
                            "#0d0887"
                          ],
                          [
                            0.1111111111111111,
                            "#46039f"
                          ],
                          [
                            0.2222222222222222,
                            "#7201a8"
                          ],
                          [
                            0.3333333333333333,
                            "#9c179e"
                          ],
                          [
                            0.4444444444444444,
                            "#bd3786"
                          ],
                          [
                            0.5555555555555556,
                            "#d8576b"
                          ],
                          [
                            0.6666666666666666,
                            "#ed7953"
                          ],
                          [
                            0.7777777777777778,
                            "#fb9f3a"
                          ],
                          [
                            0.8888888888888888,
                            "#fdca26"
                          ],
                          [
                            1,
                            "#f0f921"
                          ]
                        ],
                        "type": "heatmap"
                      }
                    ],
                    "histogram": [
                      {
                        "marker": {
                          "pattern": {
                            "fillmode": "overlay",
                            "size": 10,
                            "solidity": 0.2
                          }
                        },
                        "type": "histogram"
                      }
                    ],
                    "histogram2d": [
                      {
                        "colorbar": {
                          "outlinewidth": 0,
                          "ticks": ""
                        },
                        "colorscale": [
                          [
                            0,
                            "#0d0887"
                          ],
                          [
                            0.1111111111111111,
                            "#46039f"
                          ],
                          [
                            0.2222222222222222,
                            "#7201a8"
                          ],
                          [
                            0.3333333333333333,
                            "#9c179e"
                          ],
                          [
                            0.4444444444444444,
                            "#bd3786"
                          ],
                          [
                            0.5555555555555556,
                            "#d8576b"
                          ],
                          [
                            0.6666666666666666,
                            "#ed7953"
                          ],
                          [
                            0.7777777777777778,
                            "#fb9f3a"
                          ],
                          [
                            0.8888888888888888,
                            "#fdca26"
                          ],
                          [
                            1,
                            "#f0f921"
                          ]
                        ],
                        "type": "histogram2d"
                      }
                    ],
                    "histogram2dcontour": [
                      {
                        "colorbar": {
                          "outlinewidth": 0,
                          "ticks": ""
                        },
                        "colorscale": [
                          [
                            0,
                            "#0d0887"
                          ],
                          [
                            0.1111111111111111,
                            "#46039f"
                          ],
                          [
                            0.2222222222222222,
                            "#7201a8"
                          ],
                          [
                            0.3333333333333333,
                            "#9c179e"
                          ],
                          [
                            0.4444444444444444,
                            "#bd3786"
                          ],
                          [
                            0.5555555555555556,
                            "#d8576b"
                          ],
                          [
                            0.6666666666666666,
                            "#ed7953"
                          ],
                          [
                            0.7777777777777778,
                            "#fb9f3a"
                          ],
                          [
                            0.8888888888888888,
                            "#fdca26"
                          ],
                          [
                            1,
                            "#f0f921"
                          ]
                        ],
                        "type": "histogram2dcontour"
                      }
                    ],
                    "mesh3d": [
                      {
                        "colorbar": {
                          "outlinewidth": 0,
                          "ticks": ""
                        },
                        "type": "mesh3d"
                      }
                    ],
                    "parcoords": [
                      {
                        "line": {
                          "colorbar": {
                            "outlinewidth": 0,
                            "ticks": ""
                          }
                        },
                        "type": "parcoords"
                      }
                    ],
                    "pie": [
                      {
                        "automargin": true,
                        "type": "pie"
                      }
                    ],
                    "scatter": [
                      {
                        "fillpattern": {
                          "fillmode": "overlay",
                          "size": 10,
                          "solidity": 0.2
                        },
                        "type": "scatter"
                      }
                    ],
                    "scatter3d": [
                      {
                        "line": {
                          "colorbar": {
                            "outlinewidth": 0,
                            "ticks": ""
                          }
                        },
                        "marker": {
                          "colorbar": {
                            "outlinewidth": 0,
                            "ticks": ""
                          }
                        },
                        "type": "scatter3d"
                      }
                    ],
                    "scattercarpet": [
                      {
                        "marker": {
                          "colorbar": {
                            "outlinewidth": 0,
                            "ticks": ""
                          }
                        },
                        "type": "scattercarpet"
                      }
                    ],
                    "scattergeo": [
                      {
                        "marker": {
                          "colorbar": {
                            "outlinewidth": 0,
                            "ticks": ""
                          }
                        },
                        "type": "scattergeo"
                      }
                    ],
                    "scattergl": [
                      {
                        "marker": {
                          "colorbar": {
                            "outlinewidth": 0,
                            "ticks": ""
                          }
                        },
                        "type": "scattergl"
                      }
                    ],
                    "scattermap": [
                      {
                        "marker": {
                          "colorbar": {
                            "outlinewidth": 0,
                            "ticks": ""
                          }
                        },
                        "type": "scattermap"
                      }
                    ],
                    "scattermapbox": [
                      {
                        "marker": {
                          "colorbar": {
                            "outlinewidth": 0,
                            "ticks": ""
                          }
                        },
                        "type": "scattermapbox"
                      }
                    ],
                    "scatterpolar": [
                      {
                        "marker": {
                          "colorbar": {
                            "outlinewidth": 0,
                            "ticks": ""
                          }
                        },
                        "type": "scatterpolar"
                      }
                    ],
                    "scatterpolargl": [
                      {
                        "marker": {
                          "colorbar": {
                            "outlinewidth": 0,
                            "ticks": ""
                          }
                        },
                        "type": "scatterpolargl"
                      }
                    ],
                    "scatterternary": [
                      {
                        "marker": {
                          "colorbar": {
                            "outlinewidth": 0,
                            "ticks": ""
                          }
                        },
                        "type": "scatterternary"
                      }
                    ],
                    "surface": [
                      {
                        "colorbar": {
                          "outlinewidth": 0,
                          "ticks": ""
                        },
                        "colorscale": [
                          [
                            0,
                            "#0d0887"
                          ],
                          [
                            0.1111111111111111,
                            "#46039f"
                          ],
                          [
                            0.2222222222222222,
                            "#7201a8"
                          ],
                          [
                            0.3333333333333333,
                            "#9c179e"
                          ],
                          [
                            0.4444444444444444,
                            "#bd3786"
                          ],
                          [
                            0.5555555555555556,
                            "#d8576b"
                          ],
                          [
                            0.6666666666666666,
                            "#ed7953"
                          ],
                          [
                            0.7777777777777778,
                            "#fb9f3a"
                          ],
                          [
                            0.8888888888888888,
                            "#fdca26"
                          ],
                          [
                            1,
                            "#f0f921"
                          ]
                        ],
                        "type": "surface"
                      }
                    ],
                    "table": [
                      {
                        "cells": {
                          "fill": {
                            "color": "#EBF0F8"
                          },
                          "line": {
                            "color": "white"
                          }
                        },
                        "header": {
                          "fill": {
                            "color": "#C8D4E3"
                          },
                          "line": {
                            "color": "white"
                          }
                        },
                        "type": "table"
                      }
                    ]
                  },
                  "layout": {
                    "annotationdefaults": {
                      "arrowcolor": "#2a3f5f",
                      "arrowhead": 0,
                      "arrowwidth": 1
                    },
                    "autotypenumbers": "strict",
                    "coloraxis": {
                      "colorbar": {
                        "outlinewidth": 0,
                        "ticks": ""
                      }
                    },
                    "colorscale": {
                      "diverging": [
                        [
                          0,
                          "#8e0152"
                        ],
                        [
                          0.1,
                          "#c51b7d"
                        ],
                        [
                          0.2,
                          "#de77ae"
                        ],
                        [
                          0.3,
                          "#f1b6da"
                        ],
                        [
                          0.4,
                          "#fde0ef"
                        ],
                        [
                          0.5,
                          "#f7f7f7"
                        ],
                        [
                          0.6,
                          "#e6f5d0"
                        ],
                        [
                          0.7,
                          "#b8e186"
                        ],
                        [
                          0.8,
                          "#7fbc41"
                        ],
                        [
                          0.9,
                          "#4d9221"
                        ],
                        [
                          1,
                          "#276419"
                        ]
                      ],
                      "sequential": [
                        [
                          0,
                          "#0d0887"
                        ],
                        [
                          0.1111111111111111,
                          "#46039f"
                        ],
                        [
                          0.2222222222222222,
                          "#7201a8"
                        ],
                        [
                          0.3333333333333333,
                          "#9c179e"
                        ],
                        [
                          0.4444444444444444,
                          "#bd3786"
                        ],
                        [
                          0.5555555555555556,
                          "#d8576b"
                        ],
                        [
                          0.6666666666666666,
                          "#ed7953"
                        ],
                        [
                          0.7777777777777778,
                          "#fb9f3a"
                        ],
                        [
                          0.8888888888888888,
                          "#fdca26"
                        ],
                        [
                          1,
                          "#f0f921"
                        ]
                      ],
                      "sequentialminus": [
                        [
                          0,
                          "#0d0887"
                        ],
                        [
                          0.1111111111111111,
                          "#46039f"
                        ],
                        [
                          0.2222222222222222,
                          "#7201a8"
                        ],
                        [
                          0.3333333333333333,
                          "#9c179e"
                        ],
                        [
                          0.4444444444444444,
                          "#bd3786"
                        ],
                        [
                          0.5555555555555556,
                          "#d8576b"
                        ],
                        [
                          0.6666666666666666,
                          "#ed7953"
                        ],
                        [
                          0.7777777777777778,
                          "#fb9f3a"
                        ],
                        [
                          0.8888888888888888,
                          "#fdca26"
                        ],
                        [
                          1,
                          "#f0f921"
                        ]
                      ]
                    },
                    "colorway": [
                      "#636efa",
                      "#EF553B",
                      "#00cc96",
                      "#ab63fa",
                      "#FFA15A",
                      "#19d3f3",
                      "#FF6692",
                      "#B6E880",
                      "#FF97FF",
                      "#FECB52"
                    ],
                    "font": {
                      "color": "#2a3f5f"
                    },
                    "geo": {
                      "bgcolor": "white",
                      "lakecolor": "white",
                      "landcolor": "#E5ECF6",
                      "showlakes": true,
                      "showland": true,
                      "subunitcolor": "white"
                    },
                    "hoverlabel": {
                      "align": "left"
                    },
                    "hovermode": "closest",
                    "mapbox": {
                      "style": "light"
                    },
                    "paper_bgcolor": "white",
                    "plot_bgcolor": "#E5ECF6",
                    "polar": {
                      "angularaxis": {
                        "gridcolor": "white",
                        "linecolor": "white",
                        "ticks": ""
                      },
                      "bgcolor": "#E5ECF6",
                      "radialaxis": {
                        "gridcolor": "white",
                        "linecolor": "white",
                        "ticks": ""
                      }
                    },
                    "scene": {
                      "xaxis": {
                        "backgroundcolor": "#E5ECF6",
                        "gridcolor": "white",
                        "gridwidth": 2,
                        "linecolor": "white",
                        "showbackground": true,
                        "ticks": "",
                        "zerolinecolor": "white"
                      },
                      "yaxis": {
                        "backgroundcolor": "#E5ECF6",
                        "gridcolor": "white",
                        "gridwidth": 2,
                        "linecolor": "white",
                        "showbackground": true,
                        "ticks": "",
                        "zerolinecolor": "white"
                      },
                      "zaxis": {
                        "backgroundcolor": "#E5ECF6",
                        "gridcolor": "white",
                        "gridwidth": 2,
                        "linecolor": "white",
                        "showbackground": true,
                        "ticks": "",
                        "zerolinecolor": "white"
                      }
                    },
                    "shapedefaults": {
                      "line": {
                        "color": "#2a3f5f"
                      }
                    },
                    "ternary": {
                      "aaxis": {
                        "gridcolor": "white",
                        "linecolor": "white",
                        "ticks": ""
                      },
                      "baxis": {
                        "gridcolor": "white",
                        "linecolor": "white",
                        "ticks": ""
                      },
                      "bgcolor": "#E5ECF6",
                      "caxis": {
                        "gridcolor": "white",
                        "linecolor": "white",
                        "ticks": ""
                      }
                    },
                    "title": {
                      "x": 0.05
                    },
                    "xaxis": {
                      "automargin": true,
                      "gridcolor": "white",
                      "linecolor": "white",
                      "ticks": "",
                      "title": {
                        "standoff": 15
                      },
                      "zerolinecolor": "white",
                      "zerolinewidth": 2
                    },
                    "yaxis": {
                      "automargin": true,
                      "gridcolor": "white",
                      "linecolor": "white",
                      "ticks": "",
                      "title": {
                        "standoff": 15
                      },
                      "zerolinecolor": "white",
                      "zerolinewidth": 2
                    }
                  }
                },
                "xaxis": {
                  "anchor": "y",
                  "domain": [
                    0,
                    0.45
                  ]
                },
                "xaxis2": {
                  "anchor": "y2",
                  "domain": [
                    0.55,
                    1
                  ]
                },
                "yaxis": {
                  "anchor": "x",
                  "domain": [
                    0,
                    1
                  ]
                },
                "yaxis2": {
                  "anchor": "x2",
                  "domain": [
                    0,
                    1
                  ]
                }
              }
            }
          },
          "metadata": {},
          "output_type": "display_data"
        }
      ],
      "source": [
        "fig = make_subplots(\n",
        "    rows=1, cols=2, subplot_titles=(\"First Runner Up\", \"Second Runner Up\")\n",
        ")\n",
        "\n",
        "# Adding Traces\n",
        "fig.add_trace(trace1, row=1, col=1)\n",
        "fig.add_trace(trace2, row=1, col=2)\n",
        "\n",
        "fig.show()"
      ]
    },
    {
      "cell_type": "markdown",
      "metadata": {
        "id": "WaW__lJ0qSXA"
      },
      "source": [
        "### CONCLUSIONS\n",
        "\n",
        "- Brazil won the most number of titles followed by Italy and Argentina.\n",
        "\n",
        "- Argentina , Netherland and West Germany won Most number of Runner up title.\n",
        "\n",
        "- Germany was Second runnner up for most of the times.\n"
      ]
    },
    {
      "cell_type": "code",
      "execution_count": 86,
      "metadata": {
        "id": "ofufNucKqR6W"
      },
      "outputs": [],
      "source": [
        "# In which Year a Particular Team Participated.\n"
      ]
    },
    {
      "cell_type": "code",
      "execution_count": null,
      "metadata": {
        "colab": {
          "base_uri": "https://localhost:8080/",
          "height": 770
        },
        "id": "KQv_s1CdqKIo",
        "outputId": "eb51e8cb-cea2-4cc0-c014-88b75eff8069"
      },
      "outputs": [
        {
          "data": {
            "text/html": [
              "<div>\n",
              "<style scoped>\n",
              "    .dataframe tbody tr th:only-of-type {\n",
              "        vertical-align: middle;\n",
              "    }\n",
              "\n",
              "    .dataframe tbody tr th {\n",
              "        vertical-align: top;\n",
              "    }\n",
              "\n",
              "    .dataframe thead th {\n",
              "        text-align: right;\n",
              "    }\n",
              "</style>\n",
              "<table border=\"1\" class=\"dataframe\">\n",
              "  <thead>\n",
              "    <tr style=\"text-align: right;\">\n",
              "      <th></th>\n",
              "      <th>home</th>\n",
              "      <th>away</th>\n",
              "    </tr>\n",
              "    <tr>\n",
              "      <th>Year</th>\n",
              "      <th></th>\n",
              "      <th></th>\n",
              "    </tr>\n",
              "  </thead>\n",
              "  <tbody>\n",
              "    <tr>\n",
              "      <th>1930</th>\n",
              "      <td>[Uruguay, Uruguay, Argentina, Argentina, Urugu...</td>\n",
              "      <td>[Argentina, Yugoslavia, United States, Chile, ...</td>\n",
              "    </tr>\n",
              "    <tr>\n",
              "      <th>1934</th>\n",
              "      <td>[Italy, Germany, Czechoslovakia, Italy, Italy,...</td>\n",
              "      <td>[Czechoslovakia, Austria, Germany, Austria, Sp...</td>\n",
              "    </tr>\n",
              "    <tr>\n",
              "      <th>1938</th>\n",
              "      <td>[Brazil, Italy, Hungary, Italy, Brazil, Sweden...</td>\n",
              "      <td>[Sweden, Hungary, Sweden, Brazil, Czechoslovak...</td>\n",
              "    </tr>\n",
              "    <tr>\n",
              "      <th>1950</th>\n",
              "      <td>[Sweden, Uruguay, Brazil, Uruguay, Brazil, Uru...</td>\n",
              "      <td>[Spain, Brazil, Spain, Sweden, Sweden, Spain, ...</td>\n",
              "    </tr>\n",
              "    <tr>\n",
              "      <th>1954</th>\n",
              "      <td>[Germany, Austria, Hungary, Germany, Germany, ...</td>\n",
              "      <td>[Hungary, Uruguay, Uruguay, Austria, Yugoslavi...</td>\n",
              "    </tr>\n",
              "    <tr>\n",
              "      <th>1958</th>\n",
              "      <td>[Brazil, France, Sweden, Brazil, France, West ...</td>\n",
              "      <td>[Sweden, West Germany, West Germany, France, N...</td>\n",
              "    </tr>\n",
              "    <tr>\n",
              "      <th>1962</th>\n",
              "      <td>[Brazil, Chile, Brazil, Czechoslovakia, Chile,...</td>\n",
              "      <td>[Czechoslovakia, Yugoslavia, Chile, Yugoslavia...</td>\n",
              "    </tr>\n",
              "    <tr>\n",
              "      <th>1966</th>\n",
              "      <td>[England, Portugal, England, West Germany, Por...</td>\n",
              "      <td>[West Germany, Soviet Union, Portugal, Soviet ...</td>\n",
              "    </tr>\n",
              "    <tr>\n",
              "      <th>1970</th>\n",
              "      <td>[Brazil, West Germany, Italy, Brazil, Brazil, ...</td>\n",
              "      <td>[Italy, Uruguay, West Germany, Uruguay, Peru, ...</td>\n",
              "    </tr>\n",
              "    <tr>\n",
              "      <th>1974</th>\n",
              "      <td>[Netherlands, Brazil, Poland, Netherlands, Arg...</td>\n",
              "      <td>[West Germany, Poland, West Germany, Brazil,  ...</td>\n",
              "    </tr>\n",
              "    <tr>\n",
              "      <th>1978</th>\n",
              "      <td>[Argentina, Brazil, Netherlands, Austria, Braz...</td>\n",
              "      <td>[Netherlands, Italy, Italy, West Germany, Pola...</td>\n",
              "    </tr>\n",
              "    <tr>\n",
              "      <th>1982</th>\n",
              "      <td>[Italy, Poland, Poland, West Germany, Italy, S...</td>\n",
              "      <td>[West Germany, France, Italy, France, Brazil, ...</td>\n",
              "    </tr>\n",
              "    <tr>\n",
              "      <th>1986</th>\n",
              "      <td>[Argentina, France, France, Argentina, Argenti...</td>\n",
              "      <td>[West Germany, Belgium, West Germany, Belgium,...</td>\n",
              "    </tr>\n",
              "    <tr>\n",
              "      <th>1990</th>\n",
              "      <td>[West Germany, Italy, West Germany, Italy, Wes...</td>\n",
              "      <td>[Argentina, England, England, Argentina, Czech...</td>\n",
              "    </tr>\n",
              "    <tr>\n",
              "      <th>1994</th>\n",
              "      <td>[Brazil, Sweden, Bulgaria, Sweden, Bulgaria, R...</td>\n",
              "      <td>[Italy, Bulgaria, Italy, Brazil, Germany, Swed...</td>\n",
              "    </tr>\n",
              "    <tr>\n",
              "      <th>1998</th>\n",
              "      <td>[Brazil, Netherlands, France, Brazil, Netherla...</td>\n",
              "      <td>[France, Croatia, Croatia, Netherlands, Argent...</td>\n",
              "    </tr>\n",
              "    <tr>\n",
              "      <th>2002</th>\n",
              "      <td>[Germany, Korea Republic, Brazil, Germany, Spa...</td>\n",
              "      <td>[Brazil, Türkiye, Türkiye, Korea Republic, Kor...</td>\n",
              "    </tr>\n",
              "    <tr>\n",
              "      <th>2006</th>\n",
              "      <td>[Italy, Germany, Portugal, Germany, England, B...</td>\n",
              "      <td>[France, Portugal, France, Italy, Portugal, Fr...</td>\n",
              "    </tr>\n",
              "    <tr>\n",
              "      <th>2010</th>\n",
              "      <td>[Netherlands, Uruguay, Germany, Uruguay, Argen...</td>\n",
              "      <td>[Spain, Germany, Spain, Netherlands, Germany, ...</td>\n",
              "    </tr>\n",
              "    <tr>\n",
              "      <th>2014</th>\n",
              "      <td>[Germany, Brazil, Netherlands, Brazil, Argenti...</td>\n",
              "      <td>[Argentina, Netherlands, Argentina, Germany, B...</td>\n",
              "    </tr>\n",
              "    <tr>\n",
              "      <th>2018</th>\n",
              "      <td>[France, Belgium, Croatia, France, Sweden, Rus...</td>\n",
              "      <td>[Croatia, England, England, Belgium, England, ...</td>\n",
              "    </tr>\n",
              "    <tr>\n",
              "      <th>2022</th>\n",
              "      <td>[Argentina, Croatia, France, Argentina, Morocc...</td>\n",
              "      <td>[France, Morocco, Morocco, Croatia, Portugal, ...</td>\n",
              "    </tr>\n",
              "  </tbody>\n",
              "</table>\n",
              "</div>"
            ],
            "text/plain": [
              "                                                   home  \\\n",
              "Year                                                      \n",
              "1930  [Uruguay, Uruguay, Argentina, Argentina, Urugu...   \n",
              "1934  [Italy, Germany, Czechoslovakia, Italy, Italy,...   \n",
              "1938  [Brazil, Italy, Hungary, Italy, Brazil, Sweden...   \n",
              "1950  [Sweden, Uruguay, Brazil, Uruguay, Brazil, Uru...   \n",
              "1954  [Germany, Austria, Hungary, Germany, Germany, ...   \n",
              "1958  [Brazil, France, Sweden, Brazil, France, West ...   \n",
              "1962  [Brazil, Chile, Brazil, Czechoslovakia, Chile,...   \n",
              "1966  [England, Portugal, England, West Germany, Por...   \n",
              "1970  [Brazil, West Germany, Italy, Brazil, Brazil, ...   \n",
              "1974  [Netherlands, Brazil, Poland, Netherlands, Arg...   \n",
              "1978  [Argentina, Brazil, Netherlands, Austria, Braz...   \n",
              "1982  [Italy, Poland, Poland, West Germany, Italy, S...   \n",
              "1986  [Argentina, France, France, Argentina, Argenti...   \n",
              "1990  [West Germany, Italy, West Germany, Italy, Wes...   \n",
              "1994  [Brazil, Sweden, Bulgaria, Sweden, Bulgaria, R...   \n",
              "1998  [Brazil, Netherlands, France, Brazil, Netherla...   \n",
              "2002  [Germany, Korea Republic, Brazil, Germany, Spa...   \n",
              "2006  [Italy, Germany, Portugal, Germany, England, B...   \n",
              "2010  [Netherlands, Uruguay, Germany, Uruguay, Argen...   \n",
              "2014  [Germany, Brazil, Netherlands, Brazil, Argenti...   \n",
              "2018  [France, Belgium, Croatia, France, Sweden, Rus...   \n",
              "2022  [Argentina, Croatia, France, Argentina, Morocc...   \n",
              "\n",
              "                                                   away  \n",
              "Year                                                     \n",
              "1930  [Argentina, Yugoslavia, United States, Chile, ...  \n",
              "1934  [Czechoslovakia, Austria, Germany, Austria, Sp...  \n",
              "1938  [Sweden, Hungary, Sweden, Brazil, Czechoslovak...  \n",
              "1950  [Spain, Brazil, Spain, Sweden, Sweden, Spain, ...  \n",
              "1954  [Hungary, Uruguay, Uruguay, Austria, Yugoslavi...  \n",
              "1958  [Sweden, West Germany, West Germany, France, N...  \n",
              "1962  [Czechoslovakia, Yugoslavia, Chile, Yugoslavia...  \n",
              "1966  [West Germany, Soviet Union, Portugal, Soviet ...  \n",
              "1970  [Italy, Uruguay, West Germany, Uruguay, Peru, ...  \n",
              "1974  [West Germany, Poland, West Germany, Brazil,  ...  \n",
              "1978  [Netherlands, Italy, Italy, West Germany, Pola...  \n",
              "1982  [West Germany, France, Italy, France, Brazil, ...  \n",
              "1986  [West Germany, Belgium, West Germany, Belgium,...  \n",
              "1990  [Argentina, England, England, Argentina, Czech...  \n",
              "1994  [Italy, Bulgaria, Italy, Brazil, Germany, Swed...  \n",
              "1998  [France, Croatia, Croatia, Netherlands, Argent...  \n",
              "2002  [Brazil, Türkiye, Türkiye, Korea Republic, Kor...  \n",
              "2006  [France, Portugal, France, Italy, Portugal, Fr...  \n",
              "2010  [Spain, Germany, Spain, Netherlands, Germany, ...  \n",
              "2014  [Argentina, Netherlands, Argentina, Germany, B...  \n",
              "2018  [Croatia, England, England, Belgium, England, ...  \n",
              "2022  [France, Morocco, Morocco, Croatia, Portugal, ...  "
            ]
          },
          "execution_count": 87,
          "metadata": {},
          "output_type": "execute_result"
        }
      ],
      "source": [
        "data = matches.groupby(\"Year\").agg(home=(\"home_team\", list), away=(\"away_team\", list))\n",
        "data"
      ]
    },
    {
      "cell_type": "code",
      "execution_count": null,
      "metadata": {
        "id": "nmAashFkrQnK"
      },
      "outputs": [],
      "source": [
        "data[\"teams\"] = data.apply(lambda x: list(set(x[\"home\"] + x[\"away\"])), axis=1)\n",
        "\n",
        "# 1- concatinate\n",
        "# 2 - set ( duplicate X)\n",
        "# 3 - List\n"
      ]
    },
    {
      "cell_type": "code",
      "execution_count": null,
      "metadata": {
        "id": "MOkmKc8xr4ZP"
      },
      "outputs": [],
      "source": [
        "data[\"#\"] = data[\"teams\"].apply(len)"
      ]
    },
    {
      "cell_type": "code",
      "execution_count": 90,
      "metadata": {
        "colab": {
          "base_uri": "https://localhost:8080/",
          "height": 909
        },
        "id": "nMBe2N3VsAmJ",
        "outputId": "069cf5b0-b4cd-4916-87ad-bd9571312134"
      },
      "outputs": [
        {
          "data": {
            "text/html": [
              "<div>\n",
              "<style scoped>\n",
              "    .dataframe tbody tr th:only-of-type {\n",
              "        vertical-align: middle;\n",
              "    }\n",
              "\n",
              "    .dataframe tbody tr th {\n",
              "        vertical-align: top;\n",
              "    }\n",
              "\n",
              "    .dataframe thead th {\n",
              "        text-align: right;\n",
              "    }\n",
              "</style>\n",
              "<table border=\"1\" class=\"dataframe\">\n",
              "  <thead>\n",
              "    <tr style=\"text-align: right;\">\n",
              "      <th></th>\n",
              "      <th>home</th>\n",
              "      <th>away</th>\n",
              "      <th>teams</th>\n",
              "      <th>#</th>\n",
              "    </tr>\n",
              "    <tr>\n",
              "      <th>Year</th>\n",
              "      <th></th>\n",
              "      <th></th>\n",
              "      <th></th>\n",
              "      <th></th>\n",
              "    </tr>\n",
              "  </thead>\n",
              "  <tbody>\n",
              "    <tr>\n",
              "      <th>1930</th>\n",
              "      <td>[Uruguay, Uruguay, Argentina, Argentina, Urugu...</td>\n",
              "      <td>[Argentina, Yugoslavia, United States, Chile, ...</td>\n",
              "      <td>[Chile, Argentina, Peru, Bolivia, Uruguay, Fra...</td>\n",
              "      <td>13</td>\n",
              "    </tr>\n",
              "    <tr>\n",
              "      <th>1934</th>\n",
              "      <td>[Italy, Germany, Czechoslovakia, Italy, Italy,...</td>\n",
              "      <td>[Czechoslovakia, Austria, Germany, Austria, Sp...</td>\n",
              "      <td>[Spain, Argentina, Hungary, Austria, Switzerla...</td>\n",
              "      <td>16</td>\n",
              "    </tr>\n",
              "    <tr>\n",
              "      <th>1938</th>\n",
              "      <td>[Brazil, Italy, Hungary, Italy, Brazil, Sweden...</td>\n",
              "      <td>[Sweden, Hungary, Sweden, Brazil, Czechoslovak...</td>\n",
              "      <td>[Hungary, Switzerland, Cuba, France, Italy, Po...</td>\n",
              "      <td>15</td>\n",
              "    </tr>\n",
              "    <tr>\n",
              "      <th>1950</th>\n",
              "      <td>[Sweden, Uruguay, Brazil, Uruguay, Brazil, Uru...</td>\n",
              "      <td>[Spain, Brazil, Spain, Sweden, Sweden, Spain, ...</td>\n",
              "      <td>[Spain, Chile, Switzerland, Bolivia, Uruguay, ...</td>\n",
              "      <td>13</td>\n",
              "    </tr>\n",
              "    <tr>\n",
              "      <th>1954</th>\n",
              "      <td>[Germany, Austria, Hungary, Germany, Germany, ...</td>\n",
              "      <td>[Hungary, Uruguay, Uruguay, Austria, Yugoslavi...</td>\n",
              "      <td>[Korea Republic, Austria, Switzerland, Hungary...</td>\n",
              "      <td>16</td>\n",
              "    </tr>\n",
              "    <tr>\n",
              "      <th>1958</th>\n",
              "      <td>[Brazil, France, Sweden, Brazil, France, West ...</td>\n",
              "      <td>[Sweden, West Germany, West Germany, France, N...</td>\n",
              "      <td>[Argentina, Hungary, Austria, Northern Ireland...</td>\n",
              "      <td>16</td>\n",
              "    </tr>\n",
              "    <tr>\n",
              "      <th>1962</th>\n",
              "      <td>[Brazil, Chile, Brazil, Czechoslovakia, Chile,...</td>\n",
              "      <td>[Czechoslovakia, Yugoslavia, Chile, Yugoslavia...</td>\n",
              "      <td>[Spain, Chile, Argentina, Hungary, Switzerland...</td>\n",
              "      <td>16</td>\n",
              "    </tr>\n",
              "    <tr>\n",
              "      <th>1966</th>\n",
              "      <td>[England, Portugal, England, West Germany, Por...</td>\n",
              "      <td>[West Germany, Soviet Union, Portugal, Soviet ...</td>\n",
              "      <td>[Spain, Argentina, Chile, Hungary, Switzerland...</td>\n",
              "      <td>16</td>\n",
              "    </tr>\n",
              "    <tr>\n",
              "      <th>1970</th>\n",
              "      <td>[Brazil, West Germany, Italy, Brazil, Brazil, ...</td>\n",
              "      <td>[Italy, Uruguay, West Germany, Uruguay, Peru, ...</td>\n",
              "      <td>[Israel, Uruguay, Bulgaria, Soviet Union, Ital...</td>\n",
              "      <td>16</td>\n",
              "    </tr>\n",
              "    <tr>\n",
              "      <th>1974</th>\n",
              "      <td>[Netherlands, Brazil, Poland, Netherlands, Arg...</td>\n",
              "      <td>[West Germany, Poland, West Germany, Brazil,  ...</td>\n",
              "      <td>[Argentina, Chile, Uruguay, Bulgaria, Italy, P...</td>\n",
              "      <td>16</td>\n",
              "    </tr>\n",
              "    <tr>\n",
              "      <th>1978</th>\n",
              "      <td>[Argentina, Brazil, Netherlands, Austria, Braz...</td>\n",
              "      <td>[Netherlands, Italy, Italy, West Germany, Pola...</td>\n",
              "      <td>[IR Iran, Spain, Argentina, Austria, Hungary, ...</td>\n",
              "      <td>16</td>\n",
              "    </tr>\n",
              "    <tr>\n",
              "      <th>1982</th>\n",
              "      <td>[Italy, Poland, Poland, West Germany, Italy, S...</td>\n",
              "      <td>[West Germany, France, Italy, France, Brazil, ...</td>\n",
              "      <td>[Algeria, Austria, Hungary, Cameroon, Poland, ...</td>\n",
              "      <td>24</td>\n",
              "    </tr>\n",
              "    <tr>\n",
              "      <th>1986</th>\n",
              "      <td>[Argentina, France, France, Argentina, Argenti...</td>\n",
              "      <td>[West Germany, Belgium, West Germany, Belgium,...</td>\n",
              "      <td>[Algeria, Hungary, Bulgaria, Portugal, Poland,...</td>\n",
              "      <td>24</td>\n",
              "    </tr>\n",
              "    <tr>\n",
              "      <th>1990</th>\n",
              "      <td>[West Germany, Italy, West Germany, Italy, Wes...</td>\n",
              "      <td>[Argentina, England, England, Argentina, Czech...</td>\n",
              "      <td>[Austria, Cameroon, Costa Rica, Netherlands, R...</td>\n",
              "      <td>24</td>\n",
              "    </tr>\n",
              "    <tr>\n",
              "      <th>1994</th>\n",
              "      <td>[Brazil, Sweden, Bulgaria, Sweden, Bulgaria, R...</td>\n",
              "      <td>[Italy, Bulgaria, Italy, Brazil, Germany, Swed...</td>\n",
              "      <td>[Bolivia, Cameroon, Bulgaria, Netherlands, Rep...</td>\n",
              "      <td>24</td>\n",
              "    </tr>\n",
              "    <tr>\n",
              "      <th>1998</th>\n",
              "      <td>[Brazil, Netherlands, France, Brazil, Netherla...</td>\n",
              "      <td>[France, Croatia, Croatia, Netherlands, Argent...</td>\n",
              "      <td>[Austria, Cameroon, Bulgaria, Tunisia, FR Yugo...</td>\n",
              "      <td>32</td>\n",
              "    </tr>\n",
              "    <tr>\n",
              "      <th>2002</th>\n",
              "      <td>[Germany, Korea Republic, Brazil, Germany, Spa...</td>\n",
              "      <td>[Brazil, Türkiye, Türkiye, Korea Republic, Kor...</td>\n",
              "      <td>[Cameroon, Tunisia, Portugal, Poland, Costa Ri...</td>\n",
              "      <td>32</td>\n",
              "    </tr>\n",
              "    <tr>\n",
              "      <th>2006</th>\n",
              "      <td>[Italy, Germany, Portugal, Germany, England, B...</td>\n",
              "      <td>[France, Portugal, France, Italy, Portugal, Fr...</td>\n",
              "      <td>[Ukraine, Tunisia, Portugal, Costa Rica, Polan...</td>\n",
              "      <td>32</td>\n",
              "    </tr>\n",
              "    <tr>\n",
              "      <th>2010</th>\n",
              "      <td>[Netherlands, Uruguay, Germany, Uruguay, Argen...</td>\n",
              "      <td>[Spain, Germany, Spain, Netherlands, Germany, ...</td>\n",
              "      <td>[Algeria, Cameroon, Portugal, New Zealand, Net...</td>\n",
              "      <td>32</td>\n",
              "    </tr>\n",
              "    <tr>\n",
              "      <th>2014</th>\n",
              "      <td>[Germany, Brazil, Netherlands, Brazil, Argenti...</td>\n",
              "      <td>[Argentina, Netherlands, Argentina, Germany, B...</td>\n",
              "      <td>[Algeria, Cameroon, Costa Rica, Portugal, Neth...</td>\n",
              "      <td>32</td>\n",
              "    </tr>\n",
              "    <tr>\n",
              "      <th>2018</th>\n",
              "      <td>[France, Belgium, Croatia, France, Sweden, Rus...</td>\n",
              "      <td>[Croatia, England, England, Belgium, England, ...</td>\n",
              "      <td>[Tunisia, Poland, Portugal, Costa Rica, Egypt,...</td>\n",
              "      <td>32</td>\n",
              "    </tr>\n",
              "    <tr>\n",
              "      <th>2022</th>\n",
              "      <td>[Argentina, Croatia, France, Argentina, Morocc...</td>\n",
              "      <td>[France, Morocco, Morocco, Croatia, Portugal, ...</td>\n",
              "      <td>[Cameroon, Tunisia, Portugal, Costa Rica, Pola...</td>\n",
              "      <td>32</td>\n",
              "    </tr>\n",
              "  </tbody>\n",
              "</table>\n",
              "</div>"
            ],
            "text/plain": [
              "                                                   home  \\\n",
              "Year                                                      \n",
              "1930  [Uruguay, Uruguay, Argentina, Argentina, Urugu...   \n",
              "1934  [Italy, Germany, Czechoslovakia, Italy, Italy,...   \n",
              "1938  [Brazil, Italy, Hungary, Italy, Brazil, Sweden...   \n",
              "1950  [Sweden, Uruguay, Brazil, Uruguay, Brazil, Uru...   \n",
              "1954  [Germany, Austria, Hungary, Germany, Germany, ...   \n",
              "1958  [Brazil, France, Sweden, Brazil, France, West ...   \n",
              "1962  [Brazil, Chile, Brazil, Czechoslovakia, Chile,...   \n",
              "1966  [England, Portugal, England, West Germany, Por...   \n",
              "1970  [Brazil, West Germany, Italy, Brazil, Brazil, ...   \n",
              "1974  [Netherlands, Brazil, Poland, Netherlands, Arg...   \n",
              "1978  [Argentina, Brazil, Netherlands, Austria, Braz...   \n",
              "1982  [Italy, Poland, Poland, West Germany, Italy, S...   \n",
              "1986  [Argentina, France, France, Argentina, Argenti...   \n",
              "1990  [West Germany, Italy, West Germany, Italy, Wes...   \n",
              "1994  [Brazil, Sweden, Bulgaria, Sweden, Bulgaria, R...   \n",
              "1998  [Brazil, Netherlands, France, Brazil, Netherla...   \n",
              "2002  [Germany, Korea Republic, Brazil, Germany, Spa...   \n",
              "2006  [Italy, Germany, Portugal, Germany, England, B...   \n",
              "2010  [Netherlands, Uruguay, Germany, Uruguay, Argen...   \n",
              "2014  [Germany, Brazil, Netherlands, Brazil, Argenti...   \n",
              "2018  [France, Belgium, Croatia, France, Sweden, Rus...   \n",
              "2022  [Argentina, Croatia, France, Argentina, Morocc...   \n",
              "\n",
              "                                                   away  \\\n",
              "Year                                                      \n",
              "1930  [Argentina, Yugoslavia, United States, Chile, ...   \n",
              "1934  [Czechoslovakia, Austria, Germany, Austria, Sp...   \n",
              "1938  [Sweden, Hungary, Sweden, Brazil, Czechoslovak...   \n",
              "1950  [Spain, Brazil, Spain, Sweden, Sweden, Spain, ...   \n",
              "1954  [Hungary, Uruguay, Uruguay, Austria, Yugoslavi...   \n",
              "1958  [Sweden, West Germany, West Germany, France, N...   \n",
              "1962  [Czechoslovakia, Yugoslavia, Chile, Yugoslavia...   \n",
              "1966  [West Germany, Soviet Union, Portugal, Soviet ...   \n",
              "1970  [Italy, Uruguay, West Germany, Uruguay, Peru, ...   \n",
              "1974  [West Germany, Poland, West Germany, Brazil,  ...   \n",
              "1978  [Netherlands, Italy, Italy, West Germany, Pola...   \n",
              "1982  [West Germany, France, Italy, France, Brazil, ...   \n",
              "1986  [West Germany, Belgium, West Germany, Belgium,...   \n",
              "1990  [Argentina, England, England, Argentina, Czech...   \n",
              "1994  [Italy, Bulgaria, Italy, Brazil, Germany, Swed...   \n",
              "1998  [France, Croatia, Croatia, Netherlands, Argent...   \n",
              "2002  [Brazil, Türkiye, Türkiye, Korea Republic, Kor...   \n",
              "2006  [France, Portugal, France, Italy, Portugal, Fr...   \n",
              "2010  [Spain, Germany, Spain, Netherlands, Germany, ...   \n",
              "2014  [Argentina, Netherlands, Argentina, Germany, B...   \n",
              "2018  [Croatia, England, England, Belgium, England, ...   \n",
              "2022  [France, Morocco, Morocco, Croatia, Portugal, ...   \n",
              "\n",
              "                                                  teams   #  \n",
              "Year                                                         \n",
              "1930  [Chile, Argentina, Peru, Bolivia, Uruguay, Fra...  13  \n",
              "1934  [Spain, Argentina, Hungary, Austria, Switzerla...  16  \n",
              "1938  [Hungary, Switzerland, Cuba, France, Italy, Po...  15  \n",
              "1950  [Spain, Chile, Switzerland, Bolivia, Uruguay, ...  13  \n",
              "1954  [Korea Republic, Austria, Switzerland, Hungary...  16  \n",
              "1958  [Argentina, Hungary, Austria, Northern Ireland...  16  \n",
              "1962  [Spain, Chile, Argentina, Hungary, Switzerland...  16  \n",
              "1966  [Spain, Argentina, Chile, Hungary, Switzerland...  16  \n",
              "1970  [Israel, Uruguay, Bulgaria, Soviet Union, Ital...  16  \n",
              "1974  [Argentina, Chile, Uruguay, Bulgaria, Italy, P...  16  \n",
              "1978  [IR Iran, Spain, Argentina, Austria, Hungary, ...  16  \n",
              "1982  [Algeria, Austria, Hungary, Cameroon, Poland, ...  24  \n",
              "1986  [Algeria, Hungary, Bulgaria, Portugal, Poland,...  24  \n",
              "1990  [Austria, Cameroon, Costa Rica, Netherlands, R...  24  \n",
              "1994  [Bolivia, Cameroon, Bulgaria, Netherlands, Rep...  24  \n",
              "1998  [Austria, Cameroon, Bulgaria, Tunisia, FR Yugo...  32  \n",
              "2002  [Cameroon, Tunisia, Portugal, Poland, Costa Ri...  32  \n",
              "2006  [Ukraine, Tunisia, Portugal, Costa Rica, Polan...  32  \n",
              "2010  [Algeria, Cameroon, Portugal, New Zealand, Net...  32  \n",
              "2014  [Algeria, Cameroon, Costa Rica, Portugal, Neth...  32  \n",
              "2018  [Tunisia, Poland, Portugal, Costa Rica, Egypt,...  32  \n",
              "2022  [Cameroon, Tunisia, Portugal, Costa Rica, Pola...  32  "
            ]
          },
          "execution_count": 90,
          "metadata": {},
          "output_type": "execute_result"
        }
      ],
      "source": [
        "data"
      ]
    },
    {
      "cell_type": "code",
      "execution_count": null,
      "metadata": {
        "id": "vel4JKO4sBpu"
      },
      "outputs": [],
      "source": [
        "data_pivot = (\n",
        "    data[\"teams\"]\n",
        "    .explode()\n",
        "    .reset_index()\n",
        "    .pivot(index=\"Year\", columns=\"teams\", values=\"Year\")\n",
        "    .T\n",
        ")"
      ]
    },
    {
      "cell_type": "code",
      "execution_count": null,
      "metadata": {
        "id": "fs3qZ2oSskGW"
      },
      "outputs": [],
      "source": [
        "data_pivot.fillna(0, inplace=True)"
      ]
    },
    {
      "cell_type": "code",
      "execution_count": null,
      "metadata": {
        "id": "Kbi-U4WvtE1e"
      },
      "outputs": [],
      "source": [
        "data_pivot = data_pivot.applymap(lambda x: 1 if x > 0 else 0)"
      ]
    },
    {
      "cell_type": "code",
      "execution_count": null,
      "metadata": {
        "colab": {
          "base_uri": "https://localhost:8080/",
          "height": 1000
        },
        "id": "y7IXXrTttOnL",
        "outputId": "42b7bd03-5ed9-4540-f914-93bc6ce6d62f"
      },
      "outputs": [
        {
          "data": {
            "image/png": "[encoded data removed]",
            "text/plain": [
              "<Figure size 1200x2000 with 2 Axes>"
            ]
          },
          "metadata": {},
          "output_type": "display_data"
        }
      ],
      "source": [
        "plt.figure(figsize=(12, 20))\n",
        "sns.heatmap(data_pivot, linewidths=0.5, linecolor=\"white\")\n",
        "plt.title(\"Team Participation Over Years\")\n",
        "plt.xlabel(\"Years\")\n",
        "plt.ylabel(\"Teams\")\n",
        "plt.show()\n"
      ]
    },
    {
      "cell_type": "markdown",
      "metadata": {
        "id": "E-fvYzOluSwG"
      },
      "source": [
        "### OBSERVATIONS\n",
        "\n",
        "- Brazil is the only country to play all editions of the FIFA cup.\n",
        "\n",
        "- Countries are Qatar , Canada , Wales are new to the tournament.\n",
        "\n",
        "- Countires like Cuba, Israel , Kuwait , jamaica, Ukrain , Tongo etc. participated in only 1 edition of FIFA.\n"
      ]
    },
    {
      "cell_type": "code",
      "execution_count": null,
      "metadata": {
        "id": "O80S1neZthxQ"
      },
      "outputs": [],
      "source": [
        "# CHECKING FOR WHICH TEAM RANK INCREASED , DECREASED OR REMAIN SAME."
      ]
    },
    {
      "cell_type": "code",
      "execution_count": null,
      "metadata": {
        "id": "P8S1kNWXun3Z"
      },
      "outputs": [],
      "source": [
        "Same_rank = world_ranking[world_ranking[\"rank\"] == world_ranking[\"previous_rank\"]][\n",
        "    \"team\"\n",
        "].tolist()\n",
        "Rank_decreased = world_ranking[world_ranking[\"rank\"] > world_ranking[\"previous_rank\"]][\n",
        "    \"team\"\n",
        "].tolist()\n",
        "Rank_increased = world_ranking[world_ranking[\"rank\"] < world_ranking[\"previous_rank\"]][\n",
        "    \"team\"\n",
        "].tolist()"
      ]
    },
    {
      "cell_type": "code",
      "execution_count": 97,
      "metadata": {
        "colab": {
          "base_uri": "https://localhost:8080/"
        },
        "id": "nx9sf7gyvGQR",
        "outputId": "ad098cf1-d2d5-4c05-f41f-96bc48abdd46"
      },
      "outputs": [
        {
          "data": {
            "text/plain": [
              "['Brazil',\n",
              " 'Belgium',\n",
              " 'Argentina',\n",
              " 'France',\n",
              " 'England',\n",
              " 'Netherlands',\n",
              " 'Portugal',\n",
              " 'Denmark',\n",
              " 'Germany',\n",
              " 'Colombia',\n",
              " 'Senegal',\n",
              " 'Wales',\n",
              " 'Japan',\n",
              " 'Poland',\n",
              " 'Ukraine',\n",
              " 'Korea Republic',\n",
              " 'Chile',\n",
              " 'Tunisia',\n",
              " 'Ecuador',\n",
              " 'Mali',\n",
              " 'Albania',\n",
              " 'Oman',\n",
              " 'Israel',\n",
              " 'Uzbekistan',\n",
              " 'Honduras',\n",
              " 'Guinea',\n",
              " 'Bahrain',\n",
              " 'Benin',\n",
              " 'Palestine',\n",
              " 'Kyrgyz Republic',\n",
              " 'Equatorial Guinea',\n",
              " 'Thailand',\n",
              " 'Korea DPR',\n",
              " 'Guatemala',\n",
              " 'Turkmenistan',\n",
              " 'Ethiopia',\n",
              " 'St Kitts and Nevis',\n",
              " 'Burundi',\n",
              " 'Kuwait',\n",
              " 'Liberia',\n",
              " 'Chinese Taipei',\n",
              " 'Myanmar',\n",
              " 'Tahiti',\n",
              " 'Fiji',\n",
              " 'Vanuatu',\n",
              " 'South Sudan',\n",
              " 'Barbados',\n",
              " 'Cuba',\n",
              " 'Puerto Rico',\n",
              " 'Mauritius',\n",
              " 'Chad',\n",
              " 'Macau',\n",
              " 'American Samoa',\n",
              " 'Cook Islands',\n",
              " 'Brunei Darussalam',\n",
              " 'Samoa',\n",
              " 'Bangladesh',\n",
              " 'Djibouti',\n",
              " 'Tonga',\n",
              " 'Guam',\n",
              " 'Turks and Caicos Islands',\n",
              " 'Sri Lanka',\n",
              " 'US Virgin Islands',\n",
              " 'British Virgin Islands',\n",
              " 'Anguilla',\n",
              " 'San Marino']"
            ]
          },
          "execution_count": 97,
          "metadata": {},
          "output_type": "execute_result"
        }
      ],
      "source": [
        "Same_rank"
      ]
    },
    {
      "cell_type": "code",
      "execution_count": 98,
      "metadata": {
        "colab": {
          "base_uri": "https://localhost:8080/"
        },
        "id": "4xck5stdvdwo",
        "outputId": "56f94b27-255e-45c8-e647-9c2c47305600"
      },
      "outputs": [
        {
          "name": "stdout",
          "output_type": "stream",
          "text": [
            "Same Rank : 66\n",
            "Rank Increased : 77\n",
            "Rank Decreased : 68\n"
          ]
        }
      ],
      "source": [
        "print(f\"Same Rank : {len(Same_rank)}\")\n",
        "print(f\"Rank Increased : {len(Rank_increased)}\")\n",
        "print(f\"Rank Decreased : {len(Rank_decreased)}\")"
      ]
    },
    {
      "cell_type": "code",
      "execution_count": null,
      "metadata": {
        "id": "y55Ky-cavm7C"
      },
      "outputs": [],
      "source": [
        "max_length = max(len(Same_rank), len(Rank_increased), len(Rank_decreased))"
      ]
    },
    {
      "cell_type": "code",
      "execution_count": null,
      "metadata": {
        "id": "4Ibu-UyIvvFv"
      },
      "outputs": [],
      "source": [
        "Same_rank += [None] * (max_length - len(Same_rank))\n",
        "Rank_increased += [None] * (max_length - len(Rank_increased))\n",
        "Rank_decreased += [None] * (max_length - len(Rank_decreased))"
      ]
    },
    {
      "cell_type": "code",
      "execution_count": 101,
      "metadata": {
        "colab": {
          "base_uri": "https://localhost:8080/"
        },
        "id": "238nOJAqv-O8",
        "outputId": "f23ce050-1c53-43cd-da99-eaddf24b7898"
      },
      "outputs": [
        {
          "data": {
            "text/plain": [
              "['Brazil',\n",
              " 'Belgium',\n",
              " 'Argentina',\n",
              " 'France',\n",
              " 'England',\n",
              " 'Netherlands',\n",
              " 'Portugal',\n",
              " 'Denmark',\n",
              " 'Germany',\n",
              " 'Colombia',\n",
              " 'Senegal',\n",
              " 'Wales',\n",
              " 'Japan',\n",
              " 'Poland',\n",
              " 'Ukraine',\n",
              " 'Korea Republic',\n",
              " 'Chile',\n",
              " 'Tunisia',\n",
              " 'Ecuador',\n",
              " 'Mali',\n",
              " 'Albania',\n",
              " 'Oman',\n",
              " 'Israel',\n",
              " 'Uzbekistan',\n",
              " 'Honduras',\n",
              " 'Guinea',\n",
              " 'Bahrain',\n",
              " 'Benin',\n",
              " 'Palestine',\n",
              " 'Kyrgyz Republic',\n",
              " 'Equatorial Guinea',\n",
              " 'Thailand',\n",
              " 'Korea DPR',\n",
              " 'Guatemala',\n",
              " 'Turkmenistan',\n",
              " 'Ethiopia',\n",
              " 'St Kitts and Nevis',\n",
              " 'Burundi',\n",
              " 'Kuwait',\n",
              " 'Liberia',\n",
              " 'Chinese Taipei',\n",
              " 'Myanmar',\n",
              " 'Tahiti',\n",
              " 'Fiji',\n",
              " 'Vanuatu',\n",
              " 'South Sudan',\n",
              " 'Barbados',\n",
              " 'Cuba',\n",
              " 'Puerto Rico',\n",
              " 'Mauritius',\n",
              " 'Chad',\n",
              " 'Macau',\n",
              " 'American Samoa',\n",
              " 'Cook Islands',\n",
              " 'Brunei Darussalam',\n",
              " 'Samoa',\n",
              " 'Bangladesh',\n",
              " 'Djibouti',\n",
              " 'Tonga',\n",
              " 'Guam',\n",
              " 'Turks and Caicos Islands',\n",
              " 'Sri Lanka',\n",
              " 'US Virgin Islands',\n",
              " 'British Virgin Islands',\n",
              " 'Anguilla',\n",
              " 'San Marino',\n",
              " None,\n",
              " None,\n",
              " None,\n",
              " None,\n",
              " None,\n",
              " None,\n",
              " None,\n",
              " None,\n",
              " None,\n",
              " None,\n",
              " None]"
            ]
          },
          "execution_count": 101,
          "metadata": {},
          "output_type": "execute_result"
        }
      ],
      "source": [
        "Same_rank"
      ]
    },
    {
      "cell_type": "code",
      "execution_count": null,
      "metadata": {
        "id": "_VIQplx0wAzh"
      },
      "outputs": [],
      "source": [
        "df = pd.DataFrame(\n",
        "    {\n",
        "        \"Same Rank\": Same_rank,\n",
        "        \"Rank Increased\": Rank_increased,\n",
        "        \"Rank Decreased\": Rank_decreased,\n",
        "    }\n",
        ")"
      ]
    },
    {
      "cell_type": "code",
      "execution_count": 103,
      "metadata": {
        "colab": {
          "base_uri": "https://localhost:8080/",
          "height": 423
        },
        "id": "LgOk-qOhwMfi",
        "outputId": "2e21ed57-ab9f-43fe-a309-0019b11f2fad"
      },
      "outputs": [
        {
          "data": {
            "text/html": [
              "<div>\n",
              "<style scoped>\n",
              "    .dataframe tbody tr th:only-of-type {\n",
              "        vertical-align: middle;\n",
              "    }\n",
              "\n",
              "    .dataframe tbody tr th {\n",
              "        vertical-align: top;\n",
              "    }\n",
              "\n",
              "    .dataframe thead th {\n",
              "        text-align: right;\n",
              "    }\n",
              "</style>\n",
              "<table border=\"1\" class=\"dataframe\">\n",
              "  <thead>\n",
              "    <tr style=\"text-align: right;\">\n",
              "      <th></th>\n",
              "      <th>Same Rank</th>\n",
              "      <th>Rank Increased</th>\n",
              "      <th>Rank Decreased</th>\n",
              "    </tr>\n",
              "  </thead>\n",
              "  <tbody>\n",
              "    <tr>\n",
              "      <th>0</th>\n",
              "      <td>Brazil</td>\n",
              "      <td>Italy</td>\n",
              "      <td>Spain</td>\n",
              "    </tr>\n",
              "    <tr>\n",
              "      <th>1</th>\n",
              "      <td>Belgium</td>\n",
              "      <td>Croatia</td>\n",
              "      <td>Mexico</td>\n",
              "    </tr>\n",
              "    <tr>\n",
              "      <th>2</th>\n",
              "      <td>Argentina</td>\n",
              "      <td>Switzerland</td>\n",
              "      <td>Uruguay</td>\n",
              "    </tr>\n",
              "    <tr>\n",
              "      <th>3</th>\n",
              "      <td>France</td>\n",
              "      <td>IR Iran</td>\n",
              "      <td>USA</td>\n",
              "    </tr>\n",
              "    <tr>\n",
              "      <th>4</th>\n",
              "      <td>England</td>\n",
              "      <td>Serbia</td>\n",
              "      <td>Peru</td>\n",
              "    </tr>\n",
              "    <tr>\n",
              "      <th>...</th>\n",
              "      <td>...</td>\n",
              "      <td>...</td>\n",
              "      <td>...</td>\n",
              "    </tr>\n",
              "    <tr>\n",
              "      <th>72</th>\n",
              "      <td>None</td>\n",
              "      <td>Timor-Leste</td>\n",
              "      <td>None</td>\n",
              "    </tr>\n",
              "    <tr>\n",
              "      <th>73</th>\n",
              "      <td>None</td>\n",
              "      <td>Eritrea</td>\n",
              "      <td>None</td>\n",
              "    </tr>\n",
              "    <tr>\n",
              "      <th>74</th>\n",
              "      <td>None</td>\n",
              "      <td>Aruba</td>\n",
              "      <td>None</td>\n",
              "    </tr>\n",
              "    <tr>\n",
              "      <th>75</th>\n",
              "      <td>None</td>\n",
              "      <td>Bahamas</td>\n",
              "      <td>None</td>\n",
              "    </tr>\n",
              "    <tr>\n",
              "      <th>76</th>\n",
              "      <td>None</td>\n",
              "      <td>Somalia</td>\n",
              "      <td>None</td>\n",
              "    </tr>\n",
              "  </tbody>\n",
              "</table>\n",
              "<p>77 rows × 3 columns</p>\n",
              "</div>"
            ],
            "text/plain": [
              "    Same Rank Rank Increased Rank Decreased\n",
              "0      Brazil          Italy          Spain\n",
              "1     Belgium        Croatia         Mexico\n",
              "2   Argentina    Switzerland        Uruguay\n",
              "3      France        IR Iran            USA\n",
              "4     England         Serbia           Peru\n",
              "..        ...            ...            ...\n",
              "72       None    Timor-Leste           None\n",
              "73       None        Eritrea           None\n",
              "74       None          Aruba           None\n",
              "75       None        Bahamas           None\n",
              "76       None        Somalia           None\n",
              "\n",
              "[77 rows x 3 columns]"
            ]
          },
          "execution_count": 103,
          "metadata": {},
          "output_type": "execute_result"
        }
      ],
      "source": [
        "df"
      ]
    },
    {
      "cell_type": "code",
      "execution_count": 104,
      "metadata": {
        "colab": {
          "base_uri": "https://localhost:8080/"
        },
        "id": "iSREork9xK42",
        "outputId": "c8de0c1e-d6da-43c3-c89f-d24d2bca4c79"
      },
      "outputs": [
        {
          "data": {
            "text/plain": [
              "Same Rank         11\n",
              "Rank Increased     0\n",
              "Rank Decreased     9\n",
              "dtype: int64"
            ]
          },
          "execution_count": 104,
          "metadata": {},
          "output_type": "execute_result"
        }
      ],
      "source": [
        "df.isnull().sum()"
      ]
    },
    {
      "cell_type": "code",
      "execution_count": null,
      "metadata": {
        "id": "VK0UG_yOxTB2"
      },
      "outputs": [],
      "source": [
        "df.fillna(\"\", inplace=True)"
      ]
    },
    {
      "cell_type": "code",
      "execution_count": null,
      "metadata": {
        "colab": {
          "base_uri": "https://localhost:8080/"
        },
        "id": "ANnfpGuKwNKa",
        "outputId": "90a67707-2713-4f72-ba5b-1d3ce6dba0a0"
      },
      "outputs": [],
      "source": [
        "# Function to check rank increase or decrease.\n",
        "def find_Rank(Country):\n",
        "    result = []\n",
        "    for column in df.columns:\n",
        "        matches = df[column] == Country\n",
        "        if matches.any():\n",
        "            result.append(column)\n",
        "    return result\n"
      ]
    },
    {
      "cell_type": "code",
      "execution_count": 107,
      "metadata": {
        "colab": {
          "base_uri": "https://localhost:8080/"
        },
        "id": "f0kGgVCtxAaT",
        "outputId": "61d126da-5755-4ea3-fb92-58c1c5cf4c63"
      },
      "outputs": [
        {
          "data": {
            "text/plain": [
              "['Same Rank']"
            ]
          },
          "execution_count": 107,
          "metadata": {},
          "output_type": "execute_result"
        }
      ],
      "source": [
        "find_Rank(\"Belgium\")"
      ]
    },
    {
      "cell_type": "markdown",
      "metadata": {
        "id": "ntFu8N4myAx6"
      },
      "source": [
        "# ADVANCE EDA\n"
      ]
    },
    {
      "cell_type": "code",
      "execution_count": 108,
      "metadata": {
        "id": "zwfxkXvzx-jQ"
      },
      "outputs": [],
      "source": [
        "# PROBABILITY OF A TEAM WINNING KNOCKOUT MATCHES"
      ]
    },
    {
      "cell_type": "code",
      "execution_count": 109,
      "metadata": {
        "id": "z0AUy_8zx0E8"
      },
      "outputs": [],
      "source": [
        "country = \"Argentina\"\n",
        "\n",
        "# final\n",
        "# semi final\n",
        "# quarter final\n"
      ]
    },
    {
      "cell_type": "code",
      "execution_count": 110,
      "metadata": {
        "colab": {
          "base_uri": "https://localhost:8080/"
        },
        "id": "CMGBlZ1CzTQz",
        "outputId": "bbe0d75f-1c06-4afa-8efb-254a9991964f"
      },
      "outputs": [
        {
          "data": {
            "text/plain": [
              "array(['Final', 'Third-place match', 'Semi-finals', 'Quarter-finals',\n",
              "       'Round of 16', 'Group stage', 'Second group stage',\n",
              "       'First group stage', 'Second round', 'First round',\n",
              "       'Group stage play-off', 'Final stage'], dtype=object)"
            ]
          },
          "execution_count": 110,
          "metadata": {},
          "output_type": "execute_result"
        }
      ],
      "source": [
        "matches[\"Round\"].unique()"
      ]
    },
    {
      "cell_type": "code",
      "execution_count": 111,
      "metadata": {
        "id": "SF23lnP4yjoD"
      },
      "outputs": [],
      "source": [
        "data = matches[\n",
        "    ((matches[\"home_team\"] == country) | (matches[\"away_team\"] == country))\n",
        "    & (\n",
        "        (matches[\"Round\"] == \"Final\")\n",
        "        | (matches[\"Round\"] == \"Semi-finals\")\n",
        "        | (matches[\"Round\"] == \"Quarter-finals\")\n",
        "    )\n",
        "]"
      ]
    },
    {
      "cell_type": "code",
      "execution_count": 112,
      "metadata": {
        "id": "tz0bjbjYyqRv"
      },
      "outputs": [],
      "source": [
        "df1 = data[\"Round\"].value_counts().reset_index()\n",
        "df1.columns = [\"Round\", \"Total Matches\"]"
      ]
    },
    {
      "cell_type": "code",
      "execution_count": 113,
      "metadata": {
        "id": "BjOfzOZUzF2u"
      },
      "outputs": [],
      "source": [
        "# Functions to  determine the Winner of each game\n",
        "def get_winner(row):\n",
        "    if row[\"h_total\"] > row[\"a_total\"]:\n",
        "        return row[\"home_team\"]\n",
        "    else:\n",
        "        return row[\"away_team\"]"
      ]
    },
    {
      "cell_type": "code",
      "execution_count": 114,
      "metadata": {
        "colab": {
          "base_uri": "https://localhost:8080/"
        },
        "id": "B1RjOXy1zlgZ",
        "outputId": "d268295e-19f1-4c77-cba1-beecc6b21da4"
      },
      "outputs": [],
      "source": [
        "data[\"Winner\"] = data.apply(get_winner, axis=1)"
      ]
    },
    {
      "cell_type": "code",
      "execution_count": 115,
      "metadata": {
        "id": "2n9v0RBOz7Es"
      },
      "outputs": [],
      "source": [
        "df2 = data[data[\"Winner\"] == country][\"Round\"].value_counts().reset_index()\n",
        "df2.columns = [\"Round\", \"Total Matches\"]"
      ]
    },
    {
      "cell_type": "code",
      "execution_count": 116,
      "metadata": {
        "colab": {
          "base_uri": "https://localhost:8080/",
          "height": 143
        },
        "id": "N5Qdy1fa1I3-",
        "outputId": "cbd00728-f6d1-478a-9206-02e43dc1c880"
      },
      "outputs": [
        {
          "data": {
            "text/html": [
              "<div>\n",
              "<style scoped>\n",
              "    .dataframe tbody tr th:only-of-type {\n",
              "        vertical-align: middle;\n",
              "    }\n",
              "\n",
              "    .dataframe tbody tr th {\n",
              "        vertical-align: top;\n",
              "    }\n",
              "\n",
              "    .dataframe thead th {\n",
              "        text-align: right;\n",
              "    }\n",
              "</style>\n",
              "<table border=\"1\" class=\"dataframe\">\n",
              "  <thead>\n",
              "    <tr style=\"text-align: right;\">\n",
              "      <th></th>\n",
              "      <th>Round</th>\n",
              "      <th>Total Matches_x</th>\n",
              "      <th>Total Matches_y</th>\n",
              "    </tr>\n",
              "  </thead>\n",
              "  <tbody>\n",
              "    <tr>\n",
              "      <th>0</th>\n",
              "      <td>Quarter-finals</td>\n",
              "      <td>8</td>\n",
              "      <td>4</td>\n",
              "    </tr>\n",
              "    <tr>\n",
              "      <th>1</th>\n",
              "      <td>Final</td>\n",
              "      <td>6</td>\n",
              "      <td>3</td>\n",
              "    </tr>\n",
              "    <tr>\n",
              "      <th>2</th>\n",
              "      <td>Semi-finals</td>\n",
              "      <td>5</td>\n",
              "      <td>5</td>\n",
              "    </tr>\n",
              "  </tbody>\n",
              "</table>\n",
              "</div>"
            ],
            "text/plain": [
              "            Round  Total Matches_x  Total Matches_y\n",
              "0  Quarter-finals                8                4\n",
              "1           Final                6                3\n",
              "2     Semi-finals                5                5"
            ]
          },
          "execution_count": 116,
          "metadata": {},
          "output_type": "execute_result"
        }
      ],
      "source": [
        "pd.merge(df1, df2, on=\"Round\", how=\"inner\")"
      ]
    },
    {
      "cell_type": "code",
      "execution_count": 117,
      "metadata": {
        "id": "bGmvlGAc0h1q"
      },
      "outputs": [],
      "source": [
        "def calculate_performance(country):\n",
        "    # Filter matches based on the specified country and rounds\n",
        "    data = matches[\n",
        "        ((matches[\"home_team\"] == country) | (matches[\"away_team\"] == country))\n",
        "        & (\n",
        "            (matches[\"Round\"] == \"Final\")\n",
        "            | (matches[\"Round\"] == \"Semi-finals\")\n",
        "            | (matches[\"Round\"] == \"Quarter-finals\")\n",
        "        )\n",
        "    ]\n",
        "\n",
        "    # Create a DataFrame with the count of matches per round\n",
        "    df1 = pd.DataFrame(data[\"Round\"].value_counts().reset_index())\n",
        "    df1.columns = [\"Round\", \"Total Matches\"]\n",
        "\n",
        "    # Function to determine the winner of each match\n",
        "    def get_winner(row):\n",
        "        if row[\"h_total\"] > row[\"a_total\"]:\n",
        "            return row[\"home_team\"]\n",
        "        else:\n",
        "            return row[\"away_team\"]\n",
        "\n",
        "    # Apply the function to determine the winner for each match\n",
        "    data[\"Winner\"] = data.apply(get_winner, axis=1)\n",
        "\n",
        "    # Create a DataFrame with the count of matches won by the specified country per round\n",
        "    df2 = pd.DataFrame(\n",
        "        data[data[\"Winner\"] == country][\"Round\"].value_counts().reset_index()\n",
        "    )\n",
        "    df2.columns = [\"Round\", \"Matches Won\"]\n",
        "\n",
        "    # Merge the two DataFrames on the 'Round' column\n",
        "    result = pd.merge(df1, df2, on=\"Round\", how=\"inner\")\n",
        "\n",
        "    # Calculate the percentage of matches won\n",
        "    result[\"Percentage\"] = (result[\"Matches Won\"] / result[\"Total Matches\"]) * 100\n",
        "\n",
        "    return result\n"
      ]
    },
    {
      "cell_type": "code",
      "execution_count": 118,
      "metadata": {
        "colab": {
          "base_uri": "https://localhost:8080/",
          "height": 282
        },
        "id": "93x9mcfG1QWt",
        "outputId": "a7074e93-6baa-4e5c-b12a-2c12bd3e145a"
      },
      "outputs": [
        {
          "data": {
            "text/html": [
              "<div>\n",
              "<style scoped>\n",
              "    .dataframe tbody tr th:only-of-type {\n",
              "        vertical-align: middle;\n",
              "    }\n",
              "\n",
              "    .dataframe tbody tr th {\n",
              "        vertical-align: top;\n",
              "    }\n",
              "\n",
              "    .dataframe thead th {\n",
              "        text-align: right;\n",
              "    }\n",
              "</style>\n",
              "<table border=\"1\" class=\"dataframe\">\n",
              "  <thead>\n",
              "    <tr style=\"text-align: right;\">\n",
              "      <th></th>\n",
              "      <th>Round</th>\n",
              "      <th>Total Matches</th>\n",
              "      <th>Matches Won</th>\n",
              "      <th>Percentage</th>\n",
              "    </tr>\n",
              "  </thead>\n",
              "  <tbody>\n",
              "    <tr>\n",
              "      <th>0</th>\n",
              "      <td>Quarter-finals</td>\n",
              "      <td>8</td>\n",
              "      <td>4</td>\n",
              "      <td>50.0</td>\n",
              "    </tr>\n",
              "    <tr>\n",
              "      <th>1</th>\n",
              "      <td>Final</td>\n",
              "      <td>6</td>\n",
              "      <td>3</td>\n",
              "      <td>50.0</td>\n",
              "    </tr>\n",
              "    <tr>\n",
              "      <th>2</th>\n",
              "      <td>Semi-finals</td>\n",
              "      <td>5</td>\n",
              "      <td>5</td>\n",
              "      <td>100.0</td>\n",
              "    </tr>\n",
              "  </tbody>\n",
              "</table>\n",
              "</div>"
            ],
            "text/plain": [
              "            Round  Total Matches  Matches Won  Percentage\n",
              "0  Quarter-finals              8            4        50.0\n",
              "1           Final              6            3        50.0\n",
              "2     Semi-finals              5            5       100.0"
            ]
          },
          "execution_count": 118,
          "metadata": {},
          "output_type": "execute_result"
        }
      ],
      "source": [
        "calculate_performance(\"Argentina\")"
      ]
    },
    {
      "cell_type": "markdown",
      "metadata": {
        "id": "IMK3PZAU14zD"
      },
      "source": [
        "###CONCLUSIONS\n",
        "\n",
        "- Italy: Teams facing Italy in knockout rounds can expect a challenging match. Italy has a 75% probability of winning in the quarter-finals, an 86% probability of advancing from the semi-finals, and a 67% probability of securing victory in the finals.\n",
        "\n",
        "- Spain - if it clears QF its wins title.\n",
        "- France - they have good record in QF comparatively not that good record in Semi and Finals.\n",
        "\n",
        "- Sweden never reaches a final.\n",
        "\n",
        "- if Argentina reaches semi final , it will surely win it.\n"
      ]
    },
    {
      "cell_type": "code",
      "execution_count": 119,
      "metadata": {
        "id": "sjPxva4V14hr"
      },
      "outputs": [],
      "source": [
        "# CHECKING PLAYING STRATEGY OF  TEAMS IN KNOCKOUT V/S NON-KNOCKOUT MATCHES"
      ]
    },
    {
      "cell_type": "code",
      "execution_count": 120,
      "metadata": {
        "colab": {
          "base_uri": "https://localhost:8080/",
          "height": 36
        },
        "id": "RFQQ_etm1TFU",
        "outputId": "539c384c-3bb3-44c8-a3b9-8800ddbcec1f"
      },
      "outputs": [
        {
          "data": {
            "text/plain": [
              "'Ángel Di María · 36|Lionel Messi · 108'"
            ]
          },
          "execution_count": 120,
          "metadata": {},
          "output_type": "execute_result"
        }
      ],
      "source": [
        "matches[\"home_goal\"][0]"
      ]
    },
    {
      "cell_type": "code",
      "execution_count": 121,
      "metadata": {
        "id": "sZt09S-L4f1e"
      },
      "outputs": [],
      "source": [
        "# re -"
      ]
    },
    {
      "cell_type": "code",
      "execution_count": 122,
      "metadata": {
        "id": "L9hQQV8d5Fvs"
      },
      "outputs": [],
      "source": [
        "import re"
      ]
    },
    {
      "cell_type": "code",
      "execution_count": 123,
      "metadata": {
        "id": "Q1dHz7QB5Goq"
      },
      "outputs": [],
      "source": [
        "pattern = r\"\\b(\\d+)\\b\""
      ]
    },
    {
      "cell_type": "code",
      "execution_count": 124,
      "metadata": {
        "id": "Tv8sSaMz5bmB"
      },
      "outputs": [],
      "source": [
        "# Function to extract time from each row  for home_team\n",
        "\n",
        "\n",
        "def extract_time(row):\n",
        "    if pd.notna(row[\"home_goal\"]):\n",
        "        goal_str = str(row[\"home_goal\"])\n",
        "        times = []\n",
        "        matches = re.findall(pattern, goal_str)\n",
        "        times.extend(matches)\n",
        "        return \", \".join(times)\n",
        "    else:\n",
        "        return \"\"\n"
      ]
    },
    {
      "cell_type": "code",
      "execution_count": 125,
      "metadata": {
        "id": "zWuu5bpW6Wq_"
      },
      "outputs": [],
      "source": [
        "matches[\"Home_Goals\"] = matches.apply(extract_time, axis=1)"
      ]
    },
    {
      "cell_type": "code",
      "execution_count": 126,
      "metadata": {
        "id": "ddmsEmme6bjI"
      },
      "outputs": [],
      "source": [
        "# Function to extract time from each row  for away team\n",
        "\n",
        "\n",
        "def extract_time(row):\n",
        "    if pd.notna(row[\"away_goal\"]):\n",
        "        goal_str = str(row[\"away_goal\"])\n",
        "        times = []\n",
        "        matches = re.findall(pattern, goal_str)\n",
        "        times.extend(matches)\n",
        "        return \", \".join(times)\n",
        "    else:\n",
        "        return \"\""
      ]
    },
    {
      "cell_type": "code",
      "execution_count": 127,
      "metadata": {
        "id": "6P5KCZLV6dUB"
      },
      "outputs": [],
      "source": [
        "matches[\"Away_Goals\"] = matches.apply(extract_time, axis=1)"
      ]
    },
    {
      "cell_type": "code",
      "execution_count": 128,
      "metadata": {
        "colab": {
          "base_uri": "https://localhost:8080/",
          "height": 36
        },
        "id": "bmNcSeO06rw5",
        "outputId": "d03ff400-e48c-4f8b-f72f-ed0f3e2de6e7"
      },
      "outputs": [
        {
          "data": {
            "text/plain": [
              "'Argentina'"
            ]
          },
          "execution_count": 128,
          "metadata": {},
          "output_type": "execute_result"
        }
      ],
      "source": [
        "country"
      ]
    },
    {
      "cell_type": "code",
      "execution_count": 129,
      "metadata": {
        "id": "o7QQpmrI6tby"
      },
      "outputs": [],
      "source": [
        "# CHECKING FOR KNOCKOUTS OR NOT\n",
        "\n",
        "knockout_rounds = [\"Final\", \"Semi-finals\", \"Quarter-finals\"]\n",
        "\n",
        "matches[\"Knockout\"] = matches[\"Round\"].apply(\n",
        "    lambda x: \"Knockout\" if x in knockout_rounds else \"Non-Knockout\"\n",
        ")"
      ]
    },
    {
      "cell_type": "code",
      "execution_count": 130,
      "metadata": {
        "id": "QH3QuwCn_rkM"
      },
      "outputs": [],
      "source": [
        "country = \"Romania\""
      ]
    },
    {
      "cell_type": "code",
      "execution_count": 131,
      "metadata": {
        "id": "D13z0ED97Zcc"
      },
      "outputs": [],
      "source": [
        "home_k = matches[\n",
        "    (matches[\"home_team\"] == country) & (matches[\"Knockout\"] == \"Knockout\")\n",
        "]\n",
        "away_k = matches[\n",
        "    (matches[\"away_team\"] == country) & (matches[\"Knockout\"] == \"Knockout\")\n",
        "]\n",
        "\n",
        "\n",
        "home_nk = matches[\n",
        "    (matches[\"home_team\"] == country) & (matches[\"Knockout\"] == \"Non-Knockout\")\n",
        "]\n",
        "away_nk = matches[\n",
        "    (matches[\"away_team\"] == country) & (matches[\"Knockout\"] == \"Non-Knockout\")\n",
        "]"
      ]
    },
    {
      "cell_type": "code",
      "execution_count": 132,
      "metadata": {
        "id": "iSnOZuuu8F54"
      },
      "outputs": [],
      "source": [
        "# FOR KNOCKOUT MATCHES\n",
        "a = home_k[\"Home_Goals\"].str.split(\",\").explode().reset_index()\n",
        "b = away_k[\"Away_Goals\"].str.split(\",\").explode().reset_index()\n",
        "\n",
        "df1 = pd.concat([a, b], axis=0, ignore_index=True)\n",
        "df1.replace(r\"^\\s*$\", 0, regex=True, inplace=True)\n",
        "df1.fillna(0, inplace=True)\n",
        "\n",
        "\n",
        "df1[\"Home_Goals\"] = df1[\"Home_Goals\"].astype(int)\n",
        "df1[\"Away_Goals\"] = df1[\"Away_Goals\"].astype(int)\n",
        "\n",
        "df1[\"Time\"] = df1[\"Home_Goals\"] + df1[\"Away_Goals\"]\n",
        "df1 = df1[df1[\"Time\"] != 0]\n",
        "\n",
        "\n",
        "def determine(row):\n",
        "    if row[\"Time\"] <= 45:\n",
        "        return \"First Half\"\n",
        "    elif row[\"Time\"] > 45 and row[\"Time\"] <= 90:\n",
        "        return \"Second Half\"\n",
        "    else:\n",
        "        return \"Extra Time\"\n",
        "\n",
        "\n",
        "df1[\"time\"] = df1.apply(determine, axis=1)"
      ]
    },
    {
      "cell_type": "code",
      "execution_count": 133,
      "metadata": {
        "colab": {
          "base_uri": "https://localhost:8080/"
        },
        "id": "6ShkGzht9OAq",
        "outputId": "34346629-bd78-4bcd-a8bb-46a08ab89390"
      },
      "outputs": [
        {
          "data": {
            "text/plain": [
              "time\n",
              "Second Half    50.0\n",
              "Extra Time     50.0\n",
              "Name: count, dtype: float64"
            ]
          },
          "execution_count": 133,
          "metadata": {},
          "output_type": "execute_result"
        }
      ],
      "source": [
        "df1[\"time\"].value_counts() / len(df1) * 100"
      ]
    },
    {
      "cell_type": "code",
      "execution_count": 134,
      "metadata": {
        "id": "VtG8LAaZ8oTh"
      },
      "outputs": [],
      "source": [
        "# FOR NON-KNOCKOUT GAMES\n",
        "a = home_nk[\"Home_Goals\"].str.split(\",\").explode().reset_index()\n",
        "b = away_nk[\"Away_Goals\"].str.split(\",\").explode().reset_index()\n",
        "\n",
        "df2 = pd.concat([a, b], axis=0, ignore_index=True)\n",
        "df2.replace(r\"^\\s*$\", 0, regex=True, inplace=True)\n",
        "df2.fillna(0, inplace=True)\n",
        "\n",
        "\n",
        "df2[\"Home_Goals\"] = df2[\"Home_Goals\"].astype(int)\n",
        "df2[\"Away_Goals\"] = df2[\"Away_Goals\"].astype(int)\n",
        "\n",
        "df2[\"Time\"] = df2[\"Home_Goals\"] + df2[\"Away_Goals\"]\n",
        "df2 = df2[df2[\"Time\"] != 0]\n",
        "\n",
        "\n",
        "def determine(row):\n",
        "    if row[\"Time\"] <= 45:\n",
        "        return \"First Half\"\n",
        "    elif row[\"Time\"] > 45 and row[\"Time\"] <= 90:\n",
        "        return \"Second Half\"\n",
        "    else:\n",
        "        return \"Extra Time\"\n",
        "\n",
        "\n",
        "df2[\"time\"] = df2.apply(determine, axis=1)"
      ]
    },
    {
      "cell_type": "code",
      "execution_count": 135,
      "metadata": {
        "colab": {
          "base_uri": "https://localhost:8080/"
        },
        "id": "Bm-209ml82ST",
        "outputId": "4ae51827-3290-445c-d84d-ab06ce849254"
      },
      "outputs": [
        {
          "data": {
            "text/plain": [
              "time\n",
              "First Half     50.000000\n",
              "Second Half    46.153846\n",
              "Extra Time      3.846154\n",
              "Name: count, dtype: float64"
            ]
          },
          "execution_count": 135,
          "metadata": {},
          "output_type": "execute_result"
        }
      ],
      "source": [
        "df2[\"time\"].value_counts() / len(df2) * 100"
      ]
    },
    {
      "cell_type": "markdown",
      "metadata": {
        "id": "PakKWdbVAXAe"
      },
      "source": [
        "###CONCLUSION\n",
        "\n",
        "- Generally teams play more agressive in 2nd half as compared to first half be it knockout or non- knockout tournaments.\n",
        "\n",
        "- In knockout Tournaments , Mexico only scored in First half, either they are defending in second half and maintaining the lead.\n",
        "\n",
        "- In knockout Tournaments countries Romaniya , Pero play with same agression in both the halves of the game.\n",
        "\n",
        "- Spain have very different strategy they place with almost equal agression in non knockout matches , however in knowckout matches they follow different plan , on first half they are into passive state (not scoring much) , however in second half they retaliate very voilently. Infact goals scored by them in first half and extra time are equal in number.\n",
        "\n",
        "- Canada never reached a knowckout stage , and even in non knockout stages they never scored a goal in second half. This can be their scope of improvement area , as they not scoring in the second half may be the reason they never made it to knockouts.\n"
      ]
    },
    {
      "cell_type": "code",
      "execution_count": 136,
      "metadata": {
        "id": "7IPsm2qB_I1P"
      },
      "outputs": [],
      "source": [
        "# DOES SUBSTITUTION TURNS OUT TO BE FRUITFULL  OR NOT FOR THE TEAM.\n",
        "\n",
        "\n",
        "# fruitfull --- substituted player score\n",
        "#         ---  Overall Score Improve"
      ]
    },
    {
      "cell_type": "code",
      "execution_count": 137,
      "metadata": {
        "colab": {
          "base_uri": "https://localhost:8080/",
          "height": 70
        },
        "id": "oB4ZCsRzBICF",
        "outputId": "f814ba45-db87-48e3-ca3c-83a143e52345"
      },
      "outputs": [
        {
          "data": {
            "text/plain": [
              "\"['64&rsquor;|2:0|Marcos Acuña|for Ángel Di María', '91&rsquor;|2:2|Gonzalo Montiel|for Nahuel Molina', '102&rsquor;|2:2|Leandro Paredes|for Rodrigo De Paul', '103&rsquor;|2:2|Lautaro Martínez|for Julián Álvarez', '116&rsquor;|3:2|Germán Pezzella|for Alexis Mac Allister', '120+1&rsquor;|3:3|Paulo Dybala|for Nicolás Tagliafico']\""
            ]
          },
          "execution_count": 137,
          "metadata": {},
          "output_type": "execute_result"
        }
      ],
      "source": [
        "matches[\"home_substitute_in_long\"][0]\n",
        "\n",
        "\n",
        "# in player ---- did he scored\n",
        "# substituion time ---- does the score improved.\n",
        "\n",
        "\n",
        "# we will use re library."
      ]
    },
    {
      "cell_type": "code",
      "execution_count": 142,
      "metadata": {
        "id": "kqJws5SlBIze"
      },
      "outputs": [],
      "source": [
        "matches_df = pd.read_csv(\"../datasets/fifa/matches_1930_2022.csv\")"
      ]
    },
    {
      "cell_type": "code",
      "execution_count": 143,
      "metadata": {
        "colab": {
          "base_uri": "https://localhost:8080/",
          "height": 565
        },
        "id": "_o2EueDCBrxm",
        "outputId": "011dc10d-23a5-41cc-88bc-8ab86e36f8c8"
      },
      "outputs": [
        {
          "data": {
            "text/html": [
              "<div>\n",
              "<style scoped>\n",
              "    .dataframe tbody tr th:only-of-type {\n",
              "        vertical-align: middle;\n",
              "    }\n",
              "\n",
              "    .dataframe tbody tr th {\n",
              "        vertical-align: top;\n",
              "    }\n",
              "\n",
              "    .dataframe thead th {\n",
              "        text-align: right;\n",
              "    }\n",
              "</style>\n",
              "<table border=\"1\" class=\"dataframe\">\n",
              "  <thead>\n",
              "    <tr style=\"text-align: right;\">\n",
              "      <th></th>\n",
              "      <th>home_team</th>\n",
              "      <th>away_team</th>\n",
              "      <th>home_score</th>\n",
              "      <th>home_xg</th>\n",
              "      <th>home_penalty</th>\n",
              "      <th>away_score</th>\n",
              "      <th>away_xg</th>\n",
              "      <th>away_penalty</th>\n",
              "      <th>home_manager</th>\n",
              "      <th>home_captain</th>\n",
              "      <th>...</th>\n",
              "      <th>home_penalty_shootout_miss_long</th>\n",
              "      <th>away_penalty_shootout_miss_long</th>\n",
              "      <th>home_red_card</th>\n",
              "      <th>away_red_card</th>\n",
              "      <th>home_yellow_red_card</th>\n",
              "      <th>away_yellow_red_card</th>\n",
              "      <th>home_yellow_card_long</th>\n",
              "      <th>away_yellow_card_long</th>\n",
              "      <th>home_substitute_in_long</th>\n",
              "      <th>away_substitute_in_long</th>\n",
              "    </tr>\n",
              "  </thead>\n",
              "  <tbody>\n",
              "    <tr>\n",
              "      <th>0</th>\n",
              "      <td>Argentina</td>\n",
              "      <td>France</td>\n",
              "      <td>3</td>\n",
              "      <td>3.3</td>\n",
              "      <td>4.0</td>\n",
              "      <td>3</td>\n",
              "      <td>2.2</td>\n",
              "      <td>2.0</td>\n",
              "      <td>Lionel Scaloni</td>\n",
              "      <td>Lionel Messi</td>\n",
              "      <td>...</td>\n",
              "      <td>NaN</td>\n",
              "      <td>['3|1:1|Kingsley Coman', '5|2:1|Aurélien Tchou...</td>\n",
              "      <td>NaN</td>\n",
              "      <td>NaN</td>\n",
              "      <td>NaN</td>\n",
              "      <td>NaN</td>\n",
              "      <td>['45+7&amp;rsquor;|2:0|Enzo Fernández', '90+8&amp;rsqu...</td>\n",
              "      <td>['55&amp;rsquor;|2:0|Adrien Rabiot', '87&amp;rsquor;|2...</td>\n",
              "      <td>['64&amp;rsquor;|2:0|Marcos Acuña|for Ángel Di Mar...</td>\n",
              "      <td>['41&amp;rsquor;|2:0|Randal Kolo Muani|for Ousmane...</td>\n",
              "    </tr>\n",
              "    <tr>\n",
              "      <th>1</th>\n",
              "      <td>Croatia</td>\n",
              "      <td>Morocco</td>\n",
              "      <td>2</td>\n",
              "      <td>0.7</td>\n",
              "      <td>NaN</td>\n",
              "      <td>1</td>\n",
              "      <td>1.2</td>\n",
              "      <td>NaN</td>\n",
              "      <td>Zlatko Dalić</td>\n",
              "      <td>Luka Modrić</td>\n",
              "      <td>...</td>\n",
              "      <td>NaN</td>\n",
              "      <td>NaN</td>\n",
              "      <td>NaN</td>\n",
              "      <td>NaN</td>\n",
              "      <td>NaN</td>\n",
              "      <td>NaN</td>\n",
              "      <td>NaN</td>\n",
              "      <td>['69&amp;rsquor;|2:1|Azzedine Ounahi', '84&amp;rsquor;...</td>\n",
              "      <td>['61&amp;rsquor;|2:1|Nikola Vlašić|for Andrej Kram...</td>\n",
              "      <td>['46&amp;rsquor;|2:1|Ilias Chair|for Abdelhamid Sa...</td>\n",
              "    </tr>\n",
              "    <tr>\n",
              "      <th>2</th>\n",
              "      <td>France</td>\n",
              "      <td>Morocco</td>\n",
              "      <td>2</td>\n",
              "      <td>2.0</td>\n",
              "      <td>NaN</td>\n",
              "      <td>0</td>\n",
              "      <td>0.9</td>\n",
              "      <td>NaN</td>\n",
              "      <td>Didier Deschamps</td>\n",
              "      <td>Hugo Lloris</td>\n",
              "      <td>...</td>\n",
              "      <td>NaN</td>\n",
              "      <td>NaN</td>\n",
              "      <td>NaN</td>\n",
              "      <td>NaN</td>\n",
              "      <td>NaN</td>\n",
              "      <td>NaN</td>\n",
              "      <td>NaN</td>\n",
              "      <td>['27&amp;rsquor;|1:0|Sofiane Boufal']</td>\n",
              "      <td>['65&amp;rsquor;|1:0|Marcus Thuram|for Olivier Gir...</td>\n",
              "      <td>['21&amp;rsquor;|1:0|Selim Amallah|for Romain Saïs...</td>\n",
              "    </tr>\n",
              "    <tr>\n",
              "      <th>3</th>\n",
              "      <td>Argentina</td>\n",
              "      <td>Croatia</td>\n",
              "      <td>3</td>\n",
              "      <td>2.3</td>\n",
              "      <td>NaN</td>\n",
              "      <td>0</td>\n",
              "      <td>0.5</td>\n",
              "      <td>NaN</td>\n",
              "      <td>Lionel Scaloni</td>\n",
              "      <td>Lionel Messi</td>\n",
              "      <td>...</td>\n",
              "      <td>NaN</td>\n",
              "      <td>NaN</td>\n",
              "      <td>NaN</td>\n",
              "      <td>NaN</td>\n",
              "      <td>NaN</td>\n",
              "      <td>NaN</td>\n",
              "      <td>['68&amp;rsquor;|2:0|Cristian Romero', '71&amp;rsquor;...</td>\n",
              "      <td>['32&amp;rsquor;|0:0|Mateo Kovačić', '32&amp;rsquor;|0...</td>\n",
              "      <td>['62&amp;rsquor;|2:0|Lisandro Martínez|for Leandro...</td>\n",
              "      <td>['46&amp;rsquor;|2:0|Mislav Oršić|for Borna Sosa',...</td>\n",
              "    </tr>\n",
              "    <tr>\n",
              "      <th>4</th>\n",
              "      <td>Morocco</td>\n",
              "      <td>Portugal</td>\n",
              "      <td>1</td>\n",
              "      <td>1.4</td>\n",
              "      <td>NaN</td>\n",
              "      <td>0</td>\n",
              "      <td>0.9</td>\n",
              "      <td>NaN</td>\n",
              "      <td>Hoalid Regragui</td>\n",
              "      <td>Romain Saïss</td>\n",
              "      <td>...</td>\n",
              "      <td>NaN</td>\n",
              "      <td>NaN</td>\n",
              "      <td>NaN</td>\n",
              "      <td>NaN</td>\n",
              "      <td>Walid Cheddira · 90+3</td>\n",
              "      <td>NaN</td>\n",
              "      <td>['70&amp;rsquor;|1:0|Achraf Dari', '90+1&amp;rsquor;|1...</td>\n",
              "      <td>['87&amp;rsquor;|1:0|Vitinha']</td>\n",
              "      <td>['57&amp;rsquor;|1:0|Achraf Dari|for Romain Saïss'...</td>\n",
              "      <td>['51&amp;rsquor;|1:0|João Cancelo|for Raphaël Guer...</td>\n",
              "    </tr>\n",
              "    <tr>\n",
              "      <th>...</th>\n",
              "      <td>...</td>\n",
              "      <td>...</td>\n",
              "      <td>...</td>\n",
              "      <td>...</td>\n",
              "      <td>...</td>\n",
              "      <td>...</td>\n",
              "      <td>...</td>\n",
              "      <td>...</td>\n",
              "      <td>...</td>\n",
              "      <td>...</td>\n",
              "      <td>...</td>\n",
              "      <td>...</td>\n",
              "      <td>...</td>\n",
              "      <td>...</td>\n",
              "      <td>...</td>\n",
              "      <td>...</td>\n",
              "      <td>...</td>\n",
              "      <td>...</td>\n",
              "      <td>...</td>\n",
              "      <td>...</td>\n",
              "      <td>...</td>\n",
              "    </tr>\n",
              "    <tr>\n",
              "      <th>959</th>\n",
              "      <td>Argentina</td>\n",
              "      <td>France</td>\n",
              "      <td>1</td>\n",
              "      <td>NaN</td>\n",
              "      <td>NaN</td>\n",
              "      <td>0</td>\n",
              "      <td>NaN</td>\n",
              "      <td>NaN</td>\n",
              "      <td>Francisco Olazar</td>\n",
              "      <td>Manuel Ferreira</td>\n",
              "      <td>...</td>\n",
              "      <td>NaN</td>\n",
              "      <td>NaN</td>\n",
              "      <td>NaN</td>\n",
              "      <td>NaN</td>\n",
              "      <td>NaN</td>\n",
              "      <td>NaN</td>\n",
              "      <td>NaN</td>\n",
              "      <td>NaN</td>\n",
              "      <td>NaN</td>\n",
              "      <td>NaN</td>\n",
              "    </tr>\n",
              "    <tr>\n",
              "      <th>960</th>\n",
              "      <td>Yugoslavia</td>\n",
              "      <td>Brazil</td>\n",
              "      <td>2</td>\n",
              "      <td>NaN</td>\n",
              "      <td>NaN</td>\n",
              "      <td>1</td>\n",
              "      <td>NaN</td>\n",
              "      <td>NaN</td>\n",
              "      <td>Bosko Simonovic</td>\n",
              "      <td>Milutin Ivković</td>\n",
              "      <td>...</td>\n",
              "      <td>NaN</td>\n",
              "      <td>NaN</td>\n",
              "      <td>NaN</td>\n",
              "      <td>NaN</td>\n",
              "      <td>NaN</td>\n",
              "      <td>NaN</td>\n",
              "      <td>NaN</td>\n",
              "      <td>NaN</td>\n",
              "      <td>NaN</td>\n",
              "      <td>NaN</td>\n",
              "    </tr>\n",
              "    <tr>\n",
              "      <th>961</th>\n",
              "      <td>Romania</td>\n",
              "      <td>Peru</td>\n",
              "      <td>3</td>\n",
              "      <td>NaN</td>\n",
              "      <td>NaN</td>\n",
              "      <td>1</td>\n",
              "      <td>NaN</td>\n",
              "      <td>NaN</td>\n",
              "      <td>Octav Luchide</td>\n",
              "      <td>Emerich Vogl</td>\n",
              "      <td>...</td>\n",
              "      <td>NaN</td>\n",
              "      <td>NaN</td>\n",
              "      <td>NaN</td>\n",
              "      <td>Plácido Galindo · 70</td>\n",
              "      <td>NaN</td>\n",
              "      <td>NaN</td>\n",
              "      <td>NaN</td>\n",
              "      <td>NaN</td>\n",
              "      <td>NaN</td>\n",
              "      <td>NaN</td>\n",
              "    </tr>\n",
              "    <tr>\n",
              "      <th>962</th>\n",
              "      <td>United States</td>\n",
              "      <td>Belgium</td>\n",
              "      <td>3</td>\n",
              "      <td>NaN</td>\n",
              "      <td>NaN</td>\n",
              "      <td>0</td>\n",
              "      <td>NaN</td>\n",
              "      <td>NaN</td>\n",
              "      <td>Bob Millar</td>\n",
              "      <td>Tom Florie</td>\n",
              "      <td>...</td>\n",
              "      <td>NaN</td>\n",
              "      <td>NaN</td>\n",
              "      <td>NaN</td>\n",
              "      <td>NaN</td>\n",
              "      <td>NaN</td>\n",
              "      <td>NaN</td>\n",
              "      <td>NaN</td>\n",
              "      <td>NaN</td>\n",
              "      <td>NaN</td>\n",
              "      <td>NaN</td>\n",
              "    </tr>\n",
              "    <tr>\n",
              "      <th>963</th>\n",
              "      <td>France</td>\n",
              "      <td>Mexico</td>\n",
              "      <td>4</td>\n",
              "      <td>NaN</td>\n",
              "      <td>NaN</td>\n",
              "      <td>1</td>\n",
              "      <td>NaN</td>\n",
              "      <td>NaN</td>\n",
              "      <td>Raoul Caudron</td>\n",
              "      <td>Alexandre Villaplane</td>\n",
              "      <td>...</td>\n",
              "      <td>NaN</td>\n",
              "      <td>NaN</td>\n",
              "      <td>NaN</td>\n",
              "      <td>NaN</td>\n",
              "      <td>NaN</td>\n",
              "      <td>NaN</td>\n",
              "      <td>NaN</td>\n",
              "      <td>NaN</td>\n",
              "      <td>NaN</td>\n",
              "      <td>NaN</td>\n",
              "    </tr>\n",
              "  </tbody>\n",
              "</table>\n",
              "<p>964 rows × 44 columns</p>\n",
              "</div>"
            ],
            "text/plain": [
              "         home_team away_team  home_score  home_xg  home_penalty  away_score  \\\n",
              "0        Argentina    France           3      3.3           4.0           3   \n",
              "1          Croatia   Morocco           2      0.7           NaN           1   \n",
              "2           France   Morocco           2      2.0           NaN           0   \n",
              "3        Argentina   Croatia           3      2.3           NaN           0   \n",
              "4          Morocco  Portugal           1      1.4           NaN           0   \n",
              "..             ...       ...         ...      ...           ...         ...   \n",
              "959      Argentina    France           1      NaN           NaN           0   \n",
              "960     Yugoslavia    Brazil           2      NaN           NaN           1   \n",
              "961        Romania      Peru           3      NaN           NaN           1   \n",
              "962  United States   Belgium           3      NaN           NaN           0   \n",
              "963         France    Mexico           4      NaN           NaN           1   \n",
              "\n",
              "     away_xg  away_penalty      home_manager          home_captain  ...  \\\n",
              "0        2.2           2.0    Lionel Scaloni          Lionel Messi  ...   \n",
              "1        1.2           NaN      Zlatko Dalić           Luka Modrić  ...   \n",
              "2        0.9           NaN  Didier Deschamps           Hugo Lloris  ...   \n",
              "3        0.5           NaN    Lionel Scaloni          Lionel Messi  ...   \n",
              "4        0.9           NaN   Hoalid Regragui          Romain Saïss  ...   \n",
              "..       ...           ...               ...                   ...  ...   \n",
              "959      NaN           NaN  Francisco Olazar       Manuel Ferreira  ...   \n",
              "960      NaN           NaN   Bosko Simonovic       Milutin Ivković  ...   \n",
              "961      NaN           NaN     Octav Luchide          Emerich Vogl  ...   \n",
              "962      NaN           NaN        Bob Millar            Tom Florie  ...   \n",
              "963      NaN           NaN     Raoul Caudron  Alexandre Villaplane  ...   \n",
              "\n",
              "    home_penalty_shootout_miss_long  \\\n",
              "0                               NaN   \n",
              "1                               NaN   \n",
              "2                               NaN   \n",
              "3                               NaN   \n",
              "4                               NaN   \n",
              "..                              ...   \n",
              "959                             NaN   \n",
              "960                             NaN   \n",
              "961                             NaN   \n",
              "962                             NaN   \n",
              "963                             NaN   \n",
              "\n",
              "                       away_penalty_shootout_miss_long  home_red_card  \\\n",
              "0    ['3|1:1|Kingsley Coman', '5|2:1|Aurélien Tchou...            NaN   \n",
              "1                                                  NaN            NaN   \n",
              "2                                                  NaN            NaN   \n",
              "3                                                  NaN            NaN   \n",
              "4                                                  NaN            NaN   \n",
              "..                                                 ...            ...   \n",
              "959                                                NaN            NaN   \n",
              "960                                                NaN            NaN   \n",
              "961                                                NaN            NaN   \n",
              "962                                                NaN            NaN   \n",
              "963                                                NaN            NaN   \n",
              "\n",
              "            away_red_card   home_yellow_red_card away_yellow_red_card  \\\n",
              "0                     NaN                    NaN                  NaN   \n",
              "1                     NaN                    NaN                  NaN   \n",
              "2                     NaN                    NaN                  NaN   \n",
              "3                     NaN                    NaN                  NaN   \n",
              "4                     NaN  Walid Cheddira · 90+3                  NaN   \n",
              "..                    ...                    ...                  ...   \n",
              "959                   NaN                    NaN                  NaN   \n",
              "960                   NaN                    NaN                  NaN   \n",
              "961  Plácido Galindo · 70                    NaN                  NaN   \n",
              "962                   NaN                    NaN                  NaN   \n",
              "963                   NaN                    NaN                  NaN   \n",
              "\n",
              "                                 home_yellow_card_long  \\\n",
              "0    ['45+7&rsquor;|2:0|Enzo Fernández', '90+8&rsqu...   \n",
              "1                                                  NaN   \n",
              "2                                                  NaN   \n",
              "3    ['68&rsquor;|2:0|Cristian Romero', '71&rsquor;...   \n",
              "4    ['70&rsquor;|1:0|Achraf Dari', '90+1&rsquor;|1...   \n",
              "..                                                 ...   \n",
              "959                                                NaN   \n",
              "960                                                NaN   \n",
              "961                                                NaN   \n",
              "962                                                NaN   \n",
              "963                                                NaN   \n",
              "\n",
              "                                 away_yellow_card_long  \\\n",
              "0    ['55&rsquor;|2:0|Adrien Rabiot', '87&rsquor;|2...   \n",
              "1    ['69&rsquor;|2:1|Azzedine Ounahi', '84&rsquor;...   \n",
              "2                    ['27&rsquor;|1:0|Sofiane Boufal']   \n",
              "3    ['32&rsquor;|0:0|Mateo Kovačić', '32&rsquor;|0...   \n",
              "4                           ['87&rsquor;|1:0|Vitinha']   \n",
              "..                                                 ...   \n",
              "959                                                NaN   \n",
              "960                                                NaN   \n",
              "961                                                NaN   \n",
              "962                                                NaN   \n",
              "963                                                NaN   \n",
              "\n",
              "                               home_substitute_in_long  \\\n",
              "0    ['64&rsquor;|2:0|Marcos Acuña|for Ángel Di Mar...   \n",
              "1    ['61&rsquor;|2:1|Nikola Vlašić|for Andrej Kram...   \n",
              "2    ['65&rsquor;|1:0|Marcus Thuram|for Olivier Gir...   \n",
              "3    ['62&rsquor;|2:0|Lisandro Martínez|for Leandro...   \n",
              "4    ['57&rsquor;|1:0|Achraf Dari|for Romain Saïss'...   \n",
              "..                                                 ...   \n",
              "959                                                NaN   \n",
              "960                                                NaN   \n",
              "961                                                NaN   \n",
              "962                                                NaN   \n",
              "963                                                NaN   \n",
              "\n",
              "                               away_substitute_in_long  \n",
              "0    ['41&rsquor;|2:0|Randal Kolo Muani|for Ousmane...  \n",
              "1    ['46&rsquor;|2:1|Ilias Chair|for Abdelhamid Sa...  \n",
              "2    ['21&rsquor;|1:0|Selim Amallah|for Romain Saïs...  \n",
              "3    ['46&rsquor;|2:0|Mislav Oršić|for Borna Sosa',...  \n",
              "4    ['51&rsquor;|1:0|João Cancelo|for Raphaël Guer...  \n",
              "..                                                 ...  \n",
              "959                                                NaN  \n",
              "960                                                NaN  \n",
              "961                                                NaN  \n",
              "962                                                NaN  \n",
              "963                                                NaN  \n",
              "\n",
              "[964 rows x 44 columns]"
            ]
          },
          "execution_count": 143,
          "metadata": {},
          "output_type": "execute_result"
        }
      ],
      "source": [
        "matches_df"
      ]
    },
    {
      "cell_type": "code",
      "execution_count": 144,
      "metadata": {
        "id": "TFxh3bBWB3HN"
      },
      "outputs": [],
      "source": [
        "# Parse substituion column function\n",
        "def parse_substitution_data(subs):\n",
        "    if pd.isna(subs):\n",
        "        return []\n",
        "    pattern = r\"(\\d+)&rsquor;\\|(.+?)\\|for (.+?)(?=\\||$)\"\n",
        "    matches = re.findall(\n",
        "        pattern, subs\n",
        "    )  # return a tuple , of time , player in ,player out.\n",
        "    return [\n",
        "        {\"minute\": int(match[0]), \"player_in\": match[1], \"player_out\": match[2]}\n",
        "        for match in matches\n",
        "    ]\n"
      ]
    },
    {
      "cell_type": "code",
      "execution_count": 145,
      "metadata": {
        "colab": {
          "base_uri": "https://localhost:8080/"
        },
        "id": "bXGIbpaHGBVx",
        "outputId": "2bfe26b6-6813-4617-9ac7-a04595f99cd1"
      },
      "outputs": [
        {
          "data": {
            "text/plain": [
              "[{'minute': 64,\n",
              "  'player_in': '2:0|Marcos Acuña',\n",
              "  'player_out': \"Ángel Di María', '91&rsquor;\"},\n",
              " {'minute': 102,\n",
              "  'player_in': '2:2|Leandro Paredes',\n",
              "  'player_out': \"Rodrigo De Paul', '103&rsquor;\"},\n",
              " {'minute': 116,\n",
              "  'player_in': '3:2|Germán Pezzella',\n",
              "  'player_out': \"Alexis Mac Allister', '120+1&rsquor;\"}]"
            ]
          },
          "execution_count": 145,
          "metadata": {},
          "output_type": "execute_result"
        }
      ],
      "source": [
        "matches_df[\"home_substitute_in_long\"].apply(parse_substitution_data)[0]"
      ]
    },
    {
      "cell_type": "code",
      "execution_count": 146,
      "metadata": {
        "id": "EJgFQbnvN3XM"
      },
      "outputs": [],
      "source": [
        "matches_df[\"home_substitutions\"] = matches_df[\"home_substitute_in_long\"].apply(\n",
        "    parse_substitution_data\n",
        ")\n",
        "matches_df[\"away_substitutions\"] = matches_df[\"away_substitute_in_long\"].apply(\n",
        "    parse_substitution_data\n",
        ")"
      ]
    },
    {
      "cell_type": "code",
      "execution_count": 147,
      "metadata": {
        "id": "sWK9WjQUGylM"
      },
      "outputs": [],
      "source": [
        "# did this substitute scored a goal or improved performance"
      ]
    },
    {
      "cell_type": "code",
      "execution_count": 148,
      "metadata": {
        "id": "ChOqwnG7HdNs"
      },
      "outputs": [],
      "source": [
        "# Parsing Goal Data\n",
        "def parse_goal_data(goals):\n",
        "    if pd.isna(goals):\n",
        "        return []\n",
        "\n",
        "    goal_list = goals.split(\"|\")\n",
        "    parsed_goals = []\n",
        "    for goal in goal_list:\n",
        "        parts = goal.split(\"·\")  # middle dot or interpunct  (alt+0183)[ number pad]\n",
        "        if len(parts) == 2:\n",
        "            try:\n",
        "                minute = int(parts[1].strip())\n",
        "                scorer = parts[0].strip()\n",
        "                parsed_goals.append({\"minute\": minute, \"scorer\": scorer})\n",
        "            except ValueError:\n",
        "                pass\n",
        "    return parsed_goals\n"
      ]
    },
    {
      "cell_type": "code",
      "execution_count": 149,
      "metadata": {
        "id": "1KzH_XVLHdKi"
      },
      "outputs": [],
      "source": [
        "matches_df[\"home_goal_details\"] = matches[\"home_goal\"].apply(parse_goal_data)\n",
        "matches_df[\"away_goal_details\"] = matches[\"away_goal\"].apply(parse_goal_data)"
      ]
    },
    {
      "cell_type": "code",
      "execution_count": 150,
      "metadata": {
        "id": "1MZI8sFKHKyk"
      },
      "outputs": [],
      "source": [
        "# i know which player was substituted\n",
        "# which player scored and at which time."
      ]
    },
    {
      "cell_type": "code",
      "execution_count": 151,
      "metadata": {
        "id": "zYlAUKTCHO_6"
      },
      "outputs": [],
      "source": [
        "def filter_matches_for_team(df, team_name):\n",
        "    team_matches = df[\n",
        "        (df[\"home_team\"] == team_name) | (df[\"away_team\"] == team_name)\n",
        "    ].copy()\n",
        "    return team_matches"
      ]
    },
    {
      "cell_type": "code",
      "execution_count": 152,
      "metadata": {
        "id": "JMeZn1gjKEz7"
      },
      "outputs": [],
      "source": [
        "team_name = \"Germany\"\n",
        "team_matches_df = filter_matches_for_team(matches_df, team_name)"
      ]
    },
    {
      "cell_type": "code",
      "execution_count": 153,
      "metadata": {
        "id": "EMBpU1ZPKTpe"
      },
      "outputs": [],
      "source": [
        "# if substituted Player scored a goal\n",
        "# we will create two functions.\n",
        "\n",
        "# subs- list {substituions}\n",
        "# goals- list {goals}\n",
        "\n",
        "\n",
        "def check_substitute_goals(subs, goals):\n",
        "    if not subs:\n",
        "        return\n",
        "    for sub in subs:\n",
        "        if any(goal[\"scorer\"] == sub[\"player_in\"] for goal in goals):\n",
        "            return True\n",
        "    return False\n",
        "\n",
        "\n",
        "def check_team_substitute_goals(row, team_name):\n",
        "    if row[\"home_team\"] == team_name:\n",
        "        return check_substitute_goals(\n",
        "            row[\"home_substitutions\"], row[\"home_goal_details\"]\n",
        "        )\n",
        "    elif row[\"away_team\"] == team_name:\n",
        "        return check_substitute_goals(\n",
        "            row[\"away_substitutions\"], row[\"away_goal_details\"]\n",
        "        )\n",
        "    return False"
      ]
    },
    {
      "cell_type": "code",
      "execution_count": 154,
      "metadata": {
        "id": "EcBEBz0CLKBd"
      },
      "outputs": [],
      "source": [
        "# Determine if substitution improved the score\n",
        "def check_substitution_impact(row, team_name):\n",
        "    if row[\"home_team\"] == team_name:\n",
        "        subs = row[\"home_substitutions\"]\n",
        "        goals_before = (\n",
        "            [\n",
        "                goal\n",
        "                for goal in row[\"home_goal_details\"]\n",
        "                if subs and goal[\"minute\"] <= subs[0][\"minute\"]\n",
        "            ]\n",
        "            if subs\n",
        "            else []\n",
        "        )\n",
        "        goals_after = (\n",
        "            [\n",
        "                goal\n",
        "                for goal in row[\"home_goal_details\"]\n",
        "                if subs and goal[\"minute\"] > subs[0][\"minute\"]\n",
        "            ]\n",
        "            if subs\n",
        "            else []\n",
        "        )\n",
        "    elif row[\"away_team\"] == team_name:\n",
        "        subs = row[\"away_substitutions\"]\n",
        "        goals_before = (\n",
        "            [\n",
        "                goal\n",
        "                for goal in row[\"away_goal_details\"]\n",
        "                if subs and goal[\"minute\"] <= subs[0][\"minute\"]\n",
        "            ]\n",
        "            if subs\n",
        "            else []\n",
        "        )\n",
        "        goals_after = (\n",
        "            [\n",
        "                goal\n",
        "                for goal in row[\"away_goal_details\"]\n",
        "                if subs and goal[\"minute\"] > subs[0][\"minute\"]\n",
        "            ]\n",
        "            if subs\n",
        "            else []\n",
        "        )\n",
        "    else:\n",
        "        return False\n",
        "\n",
        "    return len(goals_after) > len(goals_before)"
      ]
    },
    {
      "cell_type": "code",
      "execution_count": 155,
      "metadata": {
        "id": "cEPax09wLmB3"
      },
      "outputs": [],
      "source": [
        "team_matches_df[\"substitution_impact\"] = team_matches_df.apply(\n",
        "    lambda row: check_substitution_impact(row, team_name), axis=1\n",
        ")\n",
        "team_matches_df[\"substitute_goals\"] = team_matches_df.apply(\n",
        "    lambda row: check_team_substitute_goals(row, team_name), axis=1\n",
        ")"
      ]
    },
    {
      "cell_type": "code",
      "execution_count": 156,
      "metadata": {
        "id": "qv-3_IH3L1nd"
      },
      "outputs": [],
      "source": [
        "match_summaries = []\n",
        "\n",
        "for index, row in team_matches_df.iterrows():\n",
        "    match_summary = {\n",
        "        \"Match\": f\"{row['home_team']} vs {row['away_team']}\",\n",
        "        \"Date\": row[\"Date\"],\n",
        "        \"Substitute Scored\": row[\"substitute_goals\"],\n",
        "        \"Substitution Impact\": row[\"substitution_impact\"],\n",
        "    }\n",
        "    match_summaries.append(match_summary)\n"
      ]
    },
    {
      "cell_type": "code",
      "execution_count": 157,
      "metadata": {
        "id": "gWUpqMbpL34d"
      },
      "outputs": [],
      "source": [
        "summary_df = pd.DataFrame(match_summaries)"
      ]
    },
    {
      "cell_type": "code",
      "execution_count": 158,
      "metadata": {
        "colab": {
          "base_uri": "https://localhost:8080/"
        },
        "id": "QV9a2FZXNSlM",
        "outputId": "f467bedd-ac07-4528-f8aa-bd1278430e29"
      },
      "outputs": [
        {
          "name": "stdout",
          "output_type": "stream",
          "text": [
            "Substitute Scored\n",
            "False    44\n",
            "Name: count, dtype: int64\n",
            "***\n",
            "Substitution Impact\n",
            "False    41\n",
            "True     15\n",
            "Name: count, dtype: int64\n"
          ]
        }
      ],
      "source": [
        "print(summary_df[\"Substitute Scored\"].value_counts())\n",
        "print(\"***\")\n",
        "print(summary_df[\"Substitution Impact\"].value_counts())"
      ]
    },
    {
      "cell_type": "markdown",
      "metadata": {
        "id": "E1oC0etRP2WJ"
      },
      "source": [
        "###CONCLUSIONS\n",
        "\n",
        "- No Team substituted player scored goal in FIFA.\n",
        "\n",
        "- Teams like France , Argentina , Portugal , Australia , Germany , Spain , Netherland have very high or positive impact of subsutituion on overall score of the team.\n",
        "\n",
        "- Positive impact of the substituion signifies that these teams have a strong management that act accourdingly , as these teams are also the top teams of FIFA, these effective substution may be one of the reason why these teams are most favourite teams of the world.\n",
        "\n",
        "- A team can rely on substituted player for overall improvement of score but not for the goals to be scored by substituted player.\n"
      ]
    },
    {
      "cell_type": "code",
      "execution_count": 159,
      "metadata": {
        "id": "_WeYZN_PNapL"
      },
      "outputs": [],
      "source": [
        "# Team expected Performance and Actual Performance"
      ]
    },
    {
      "cell_type": "code",
      "execution_count": 160,
      "metadata": {
        "id": "K5RJOdsoQYc0"
      },
      "outputs": [],
      "source": [
        "# Calculate expected goals  and total goals for  each team\n",
        "\n",
        "home_team_stats = (\n",
        "    matches.groupby([\"home_team\", \"Year\"])\n",
        "    .agg({\"home_score\": \"sum\", \"home_xg\": \"sum\"})\n",
        "    .rename(columns={\"home_score\": \"Total_goals\"})\n",
        ")\n",
        "\n",
        "away_team_stats = (\n",
        "    matches.groupby([\"away_team\", \"Year\"])\n",
        "    .agg({\"away_score\": \"sum\", \"away_xg\": \"sum\"})\n",
        "    .rename(columns={\"away_score\": \"Total_goals\"})\n",
        ")"
      ]
    },
    {
      "cell_type": "code",
      "execution_count": 161,
      "metadata": {
        "id": "bdPSFu9rQeqB"
      },
      "outputs": [],
      "source": [
        "home_team_stats = home_team_stats.reset_index()\n",
        "away_team_stats = away_team_stats.reset_index()\n",
        "\n",
        "\n",
        "home_team_stats = home_team_stats[\n",
        "    (home_team_stats[\"Year\"] == 2018) | (home_team_stats[\"Year\"] == 2022)\n",
        "]\n",
        "away_team_stats = away_team_stats[\n",
        "    (away_team_stats[\"Year\"] == 2018) | (away_team_stats[\"Year\"] == 2022)\n",
        "]"
      ]
    },
    {
      "cell_type": "code",
      "execution_count": 162,
      "metadata": {
        "id": "OPSmOkMmRcDM"
      },
      "outputs": [],
      "source": [
        "home_team_stats.rename(columns={\"home_team\": \"team\"}, inplace=True)\n",
        "away_team_stats.rename(columns={\"away_team\": \"team\"}, inplace=True)"
      ]
    },
    {
      "cell_type": "code",
      "execution_count": 163,
      "metadata": {
        "id": "5oqFa7zDRm3X"
      },
      "outputs": [],
      "source": [
        "merged = pd.merge(home_team_stats, away_team_stats, on=[\"team\", \"Year\"], how=\"inner\")"
      ]
    },
    {
      "cell_type": "code",
      "execution_count": 164,
      "metadata": {
        "id": "cBgUSASPSBfu"
      },
      "outputs": [],
      "source": [
        "merged[\"Total_goals\"] = merged[\"Total_goals_x\"] + merged[\"Total_goals_y\"]\n",
        "merged[\"Total_xg\"] = merged[\"home_xg\"] + merged[\"away_xg\"]\n",
        "merged[\"Deviation\"] = merged[\"Total_xg\"] - merged[\"Total_goals\"]"
      ]
    },
    {
      "cell_type": "code",
      "execution_count": 165,
      "metadata": {
        "colab": {
          "base_uri": "https://localhost:8080/",
          "height": 1000
        },
        "id": "yNLcKDkQSVxE",
        "outputId": "f91220c4-fbdb-499c-9c7b-a8abc6c979f2"
      },
      "outputs": [
        {
          "data": {
            "text/html": [
              "<div>\n",
              "<style scoped>\n",
              "    .dataframe tbody tr th:only-of-type {\n",
              "        vertical-align: middle;\n",
              "    }\n",
              "\n",
              "    .dataframe tbody tr th {\n",
              "        vertical-align: top;\n",
              "    }\n",
              "\n",
              "    .dataframe thead th {\n",
              "        text-align: right;\n",
              "    }\n",
              "</style>\n",
              "<table border=\"1\" class=\"dataframe\">\n",
              "  <thead>\n",
              "    <tr style=\"text-align: right;\">\n",
              "      <th></th>\n",
              "      <th>team</th>\n",
              "      <th>Year</th>\n",
              "      <th>Total_goals_x</th>\n",
              "      <th>home_xg</th>\n",
              "      <th>Total_goals_y</th>\n",
              "      <th>away_xg</th>\n",
              "      <th>Total_goals</th>\n",
              "      <th>Total_xg</th>\n",
              "      <th>Deviation</th>\n",
              "    </tr>\n",
              "  </thead>\n",
              "  <tbody>\n",
              "    <tr>\n",
              "      <th>0</th>\n",
              "      <td>Argentina</td>\n",
              "      <td>2018</td>\n",
              "      <td>1</td>\n",
              "      <td>3.2</td>\n",
              "      <td>5</td>\n",
              "      <td>1.7</td>\n",
              "      <td>6</td>\n",
              "      <td>4.9</td>\n",
              "      <td>-1.1</td>\n",
              "    </tr>\n",
              "    <tr>\n",
              "      <th>2</th>\n",
              "      <td>Australia</td>\n",
              "      <td>2018</td>\n",
              "      <td>0</td>\n",
              "      <td>0.9</td>\n",
              "      <td>2</td>\n",
              "      <td>2.3</td>\n",
              "      <td>2</td>\n",
              "      <td>3.2</td>\n",
              "      <td>1.2</td>\n",
              "    </tr>\n",
              "    <tr>\n",
              "      <th>4</th>\n",
              "      <td>Belgium</td>\n",
              "      <td>2018</td>\n",
              "      <td>13</td>\n",
              "      <td>11.2</td>\n",
              "      <td>3</td>\n",
              "      <td>2.2</td>\n",
              "      <td>16</td>\n",
              "      <td>13.4</td>\n",
              "      <td>-2.6</td>\n",
              "    </tr>\n",
              "    <tr>\n",
              "      <th>6</th>\n",
              "      <td>Brazil</td>\n",
              "      <td>2018</td>\n",
              "      <td>6</td>\n",
              "      <td>10.3</td>\n",
              "      <td>2</td>\n",
              "      <td>1.4</td>\n",
              "      <td>8</td>\n",
              "      <td>11.7</td>\n",
              "      <td>3.7</td>\n",
              "    </tr>\n",
              "    <tr>\n",
              "      <th>10</th>\n",
              "      <td>Colombia</td>\n",
              "      <td>2018</td>\n",
              "      <td>2</td>\n",
              "      <td>1.6</td>\n",
              "      <td>4</td>\n",
              "      <td>2.4</td>\n",
              "      <td>6</td>\n",
              "      <td>4.0</td>\n",
              "      <td>-2.0</td>\n",
              "    </tr>\n",
              "    <tr>\n",
              "      <th>11</th>\n",
              "      <td>Costa Rica</td>\n",
              "      <td>2018</td>\n",
              "      <td>0</td>\n",
              "      <td>0.9</td>\n",
              "      <td>2</td>\n",
              "      <td>1.6</td>\n",
              "      <td>2</td>\n",
              "      <td>2.5</td>\n",
              "      <td>0.5</td>\n",
              "    </tr>\n",
              "    <tr>\n",
              "      <th>13</th>\n",
              "      <td>Croatia</td>\n",
              "      <td>2018</td>\n",
              "      <td>5</td>\n",
              "      <td>5.7</td>\n",
              "      <td>9</td>\n",
              "      <td>5.4</td>\n",
              "      <td>14</td>\n",
              "      <td>11.1</td>\n",
              "      <td>-2.9</td>\n",
              "    </tr>\n",
              "    <tr>\n",
              "      <th>15</th>\n",
              "      <td>Denmark</td>\n",
              "      <td>2018</td>\n",
              "      <td>1</td>\n",
              "      <td>1.0</td>\n",
              "      <td>2</td>\n",
              "      <td>1.9</td>\n",
              "      <td>3</td>\n",
              "      <td>2.9</td>\n",
              "      <td>-0.1</td>\n",
              "    </tr>\n",
              "    <tr>\n",
              "      <th>18</th>\n",
              "      <td>Egypt</td>\n",
              "      <td>2018</td>\n",
              "      <td>0</td>\n",
              "      <td>0.3</td>\n",
              "      <td>2</td>\n",
              "      <td>2.2</td>\n",
              "      <td>2</td>\n",
              "      <td>2.5</td>\n",
              "      <td>0.5</td>\n",
              "    </tr>\n",
              "    <tr>\n",
              "      <th>19</th>\n",
              "      <td>England</td>\n",
              "      <td>2018</td>\n",
              "      <td>6</td>\n",
              "      <td>3.7</td>\n",
              "      <td>6</td>\n",
              "      <td>7.5</td>\n",
              "      <td>12</td>\n",
              "      <td>11.2</td>\n",
              "      <td>-0.8</td>\n",
              "    </tr>\n",
              "    <tr>\n",
              "      <th>21</th>\n",
              "      <td>France</td>\n",
              "      <td>2018</td>\n",
              "      <td>12</td>\n",
              "      <td>8.3</td>\n",
              "      <td>2</td>\n",
              "      <td>0.9</td>\n",
              "      <td>14</td>\n",
              "      <td>9.2</td>\n",
              "      <td>-4.8</td>\n",
              "    </tr>\n",
              "    <tr>\n",
              "      <th>23</th>\n",
              "      <td>Germany</td>\n",
              "      <td>2018</td>\n",
              "      <td>2</td>\n",
              "      <td>2.8</td>\n",
              "      <td>0</td>\n",
              "      <td>2.7</td>\n",
              "      <td>2</td>\n",
              "      <td>5.5</td>\n",
              "      <td>3.5</td>\n",
              "    </tr>\n",
              "    <tr>\n",
              "      <th>26</th>\n",
              "      <td>IR Iran</td>\n",
              "      <td>2018</td>\n",
              "      <td>1</td>\n",
              "      <td>2.1</td>\n",
              "      <td>1</td>\n",
              "      <td>1.0</td>\n",
              "      <td>2</td>\n",
              "      <td>3.1</td>\n",
              "      <td>1.1</td>\n",
              "    </tr>\n",
              "    <tr>\n",
              "      <th>28</th>\n",
              "      <td>Iceland</td>\n",
              "      <td>2018</td>\n",
              "      <td>1</td>\n",
              "      <td>2.1</td>\n",
              "      <td>1</td>\n",
              "      <td>2.3</td>\n",
              "      <td>2</td>\n",
              "      <td>4.4</td>\n",
              "      <td>2.4</td>\n",
              "    </tr>\n",
              "    <tr>\n",
              "      <th>29</th>\n",
              "      <td>Japan</td>\n",
              "      <td>2018</td>\n",
              "      <td>2</td>\n",
              "      <td>1.6</td>\n",
              "      <td>4</td>\n",
              "      <td>2.7</td>\n",
              "      <td>6</td>\n",
              "      <td>4.3</td>\n",
              "      <td>-1.7</td>\n",
              "    </tr>\n",
              "    <tr>\n",
              "      <th>31</th>\n",
              "      <td>Korea Republic</td>\n",
              "      <td>2018</td>\n",
              "      <td>3</td>\n",
              "      <td>2.6</td>\n",
              "      <td>0</td>\n",
              "      <td>0.3</td>\n",
              "      <td>3</td>\n",
              "      <td>2.9</td>\n",
              "      <td>-0.1</td>\n",
              "    </tr>\n",
              "    <tr>\n",
              "      <th>33</th>\n",
              "      <td>Mexico</td>\n",
              "      <td>2018</td>\n",
              "      <td>0</td>\n",
              "      <td>1.4</td>\n",
              "      <td>3</td>\n",
              "      <td>3.9</td>\n",
              "      <td>3</td>\n",
              "      <td>5.3</td>\n",
              "      <td>2.3</td>\n",
              "    </tr>\n",
              "    <tr>\n",
              "      <th>35</th>\n",
              "      <td>Morocco</td>\n",
              "      <td>2018</td>\n",
              "      <td>0</td>\n",
              "      <td>0.7</td>\n",
              "      <td>2</td>\n",
              "      <td>2.1</td>\n",
              "      <td>2</td>\n",
              "      <td>2.8</td>\n",
              "      <td>0.8</td>\n",
              "    </tr>\n",
              "    <tr>\n",
              "      <th>38</th>\n",
              "      <td>Nigeria</td>\n",
              "      <td>2018</td>\n",
              "      <td>3</td>\n",
              "      <td>2.3</td>\n",
              "      <td>0</td>\n",
              "      <td>0.7</td>\n",
              "      <td>3</td>\n",
              "      <td>3.0</td>\n",
              "      <td>0.0</td>\n",
              "    </tr>\n",
              "    <tr>\n",
              "      <th>39</th>\n",
              "      <td>Panama</td>\n",
              "      <td>2018</td>\n",
              "      <td>1</td>\n",
              "      <td>0.6</td>\n",
              "      <td>1</td>\n",
              "      <td>1.6</td>\n",
              "      <td>2</td>\n",
              "      <td>2.2</td>\n",
              "      <td>0.2</td>\n",
              "    </tr>\n",
              "    <tr>\n",
              "      <th>40</th>\n",
              "      <td>Peru</td>\n",
              "      <td>2018</td>\n",
              "      <td>0</td>\n",
              "      <td>1.7</td>\n",
              "      <td>2</td>\n",
              "      <td>0.6</td>\n",
              "      <td>2</td>\n",
              "      <td>2.3</td>\n",
              "      <td>0.3</td>\n",
              "    </tr>\n",
              "    <tr>\n",
              "      <th>41</th>\n",
              "      <td>Poland</td>\n",
              "      <td>2018</td>\n",
              "      <td>1</td>\n",
              "      <td>1.9</td>\n",
              "      <td>1</td>\n",
              "      <td>1.4</td>\n",
              "      <td>2</td>\n",
              "      <td>3.3</td>\n",
              "      <td>1.3</td>\n",
              "    </tr>\n",
              "    <tr>\n",
              "      <th>43</th>\n",
              "      <td>Portugal</td>\n",
              "      <td>2018</td>\n",
              "      <td>4</td>\n",
              "      <td>2.4</td>\n",
              "      <td>2</td>\n",
              "      <td>2.3</td>\n",
              "      <td>6</td>\n",
              "      <td>4.7</td>\n",
              "      <td>-1.3</td>\n",
              "    </tr>\n",
              "    <tr>\n",
              "      <th>46</th>\n",
              "      <td>Russia</td>\n",
              "      <td>2018</td>\n",
              "      <td>10</td>\n",
              "      <td>3.9</td>\n",
              "      <td>1</td>\n",
              "      <td>1.1</td>\n",
              "      <td>11</td>\n",
              "      <td>5.0</td>\n",
              "      <td>-6.0</td>\n",
              "    </tr>\n",
              "    <tr>\n",
              "      <th>47</th>\n",
              "      <td>Saudi Arabia</td>\n",
              "      <td>2018</td>\n",
              "      <td>2</td>\n",
              "      <td>2.6</td>\n",
              "      <td>0</td>\n",
              "      <td>0.5</td>\n",
              "      <td>2</td>\n",
              "      <td>3.1</td>\n",
              "      <td>1.1</td>\n",
              "    </tr>\n",
              "    <tr>\n",
              "      <th>49</th>\n",
              "      <td>Senegal</td>\n",
              "      <td>2018</td>\n",
              "      <td>0</td>\n",
              "      <td>0.5</td>\n",
              "      <td>4</td>\n",
              "      <td>2.4</td>\n",
              "      <td>4</td>\n",
              "      <td>2.9</td>\n",
              "      <td>-1.1</td>\n",
              "    </tr>\n",
              "    <tr>\n",
              "      <th>51</th>\n",
              "      <td>Serbia</td>\n",
              "      <td>2018</td>\n",
              "      <td>1</td>\n",
              "      <td>2.3</td>\n",
              "      <td>1</td>\n",
              "      <td>0.9</td>\n",
              "      <td>2</td>\n",
              "      <td>3.2</td>\n",
              "      <td>1.2</td>\n",
              "    </tr>\n",
              "    <tr>\n",
              "      <th>53</th>\n",
              "      <td>Spain</td>\n",
              "      <td>2018</td>\n",
              "      <td>3</td>\n",
              "      <td>4.7</td>\n",
              "      <td>4</td>\n",
              "      <td>3.5</td>\n",
              "      <td>7</td>\n",
              "      <td>8.2</td>\n",
              "      <td>1.2</td>\n",
              "    </tr>\n",
              "    <tr>\n",
              "      <th>55</th>\n",
              "      <td>Sweden</td>\n",
              "      <td>2018</td>\n",
              "      <td>2</td>\n",
              "      <td>4.1</td>\n",
              "      <td>4</td>\n",
              "      <td>3.3</td>\n",
              "      <td>6</td>\n",
              "      <td>7.4</td>\n",
              "      <td>1.4</td>\n",
              "    </tr>\n",
              "    <tr>\n",
              "      <th>56</th>\n",
              "      <td>Switzerland</td>\n",
              "      <td>2018</td>\n",
              "      <td>2</td>\n",
              "      <td>1.4</td>\n",
              "      <td>3</td>\n",
              "      <td>3.7</td>\n",
              "      <td>5</td>\n",
              "      <td>5.1</td>\n",
              "      <td>0.1</td>\n",
              "    </tr>\n",
              "    <tr>\n",
              "      <th>58</th>\n",
              "      <td>Tunisia</td>\n",
              "      <td>2018</td>\n",
              "      <td>1</td>\n",
              "      <td>1.0</td>\n",
              "      <td>4</td>\n",
              "      <td>3.2</td>\n",
              "      <td>5</td>\n",
              "      <td>4.2</td>\n",
              "      <td>-0.8</td>\n",
              "    </tr>\n",
              "    <tr>\n",
              "      <th>61</th>\n",
              "      <td>Uruguay</td>\n",
              "      <td>2018</td>\n",
              "      <td>6</td>\n",
              "      <td>5.6</td>\n",
              "      <td>1</td>\n",
              "      <td>1.6</td>\n",
              "      <td>7</td>\n",
              "      <td>7.2</td>\n",
              "      <td>0.2</td>\n",
              "    </tr>\n",
              "  </tbody>\n",
              "</table>\n",
              "</div>"
            ],
            "text/plain": [
              "              team  Year  Total_goals_x  home_xg  Total_goals_y  away_xg  \\\n",
              "0        Argentina  2018              1      3.2              5      1.7   \n",
              "2        Australia  2018              0      0.9              2      2.3   \n",
              "4          Belgium  2018             13     11.2              3      2.2   \n",
              "6           Brazil  2018              6     10.3              2      1.4   \n",
              "10        Colombia  2018              2      1.6              4      2.4   \n",
              "11      Costa Rica  2018              0      0.9              2      1.6   \n",
              "13         Croatia  2018              5      5.7              9      5.4   \n",
              "15         Denmark  2018              1      1.0              2      1.9   \n",
              "18           Egypt  2018              0      0.3              2      2.2   \n",
              "19         England  2018              6      3.7              6      7.5   \n",
              "21          France  2018             12      8.3              2      0.9   \n",
              "23         Germany  2018              2      2.8              0      2.7   \n",
              "26         IR Iran  2018              1      2.1              1      1.0   \n",
              "28         Iceland  2018              1      2.1              1      2.3   \n",
              "29           Japan  2018              2      1.6              4      2.7   \n",
              "31  Korea Republic  2018              3      2.6              0      0.3   \n",
              "33          Mexico  2018              0      1.4              3      3.9   \n",
              "35         Morocco  2018              0      0.7              2      2.1   \n",
              "38         Nigeria  2018              3      2.3              0      0.7   \n",
              "39          Panama  2018              1      0.6              1      1.6   \n",
              "40            Peru  2018              0      1.7              2      0.6   \n",
              "41          Poland  2018              1      1.9              1      1.4   \n",
              "43        Portugal  2018              4      2.4              2      2.3   \n",
              "46          Russia  2018             10      3.9              1      1.1   \n",
              "47    Saudi Arabia  2018              2      2.6              0      0.5   \n",
              "49         Senegal  2018              0      0.5              4      2.4   \n",
              "51          Serbia  2018              1      2.3              1      0.9   \n",
              "53           Spain  2018              3      4.7              4      3.5   \n",
              "55          Sweden  2018              2      4.1              4      3.3   \n",
              "56     Switzerland  2018              2      1.4              3      3.7   \n",
              "58         Tunisia  2018              1      1.0              4      3.2   \n",
              "61         Uruguay  2018              6      5.6              1      1.6   \n",
              "\n",
              "    Total_goals  Total_xg  Deviation  \n",
              "0             6       4.9       -1.1  \n",
              "2             2       3.2        1.2  \n",
              "4            16      13.4       -2.6  \n",
              "6             8      11.7        3.7  \n",
              "10            6       4.0       -2.0  \n",
              "11            2       2.5        0.5  \n",
              "13           14      11.1       -2.9  \n",
              "15            3       2.9       -0.1  \n",
              "18            2       2.5        0.5  \n",
              "19           12      11.2       -0.8  \n",
              "21           14       9.2       -4.8  \n",
              "23            2       5.5        3.5  \n",
              "26            2       3.1        1.1  \n",
              "28            2       4.4        2.4  \n",
              "29            6       4.3       -1.7  \n",
              "31            3       2.9       -0.1  \n",
              "33            3       5.3        2.3  \n",
              "35            2       2.8        0.8  \n",
              "38            3       3.0        0.0  \n",
              "39            2       2.2        0.2  \n",
              "40            2       2.3        0.3  \n",
              "41            2       3.3        1.3  \n",
              "43            6       4.7       -1.3  \n",
              "46           11       5.0       -6.0  \n",
              "47            2       3.1        1.1  \n",
              "49            4       2.9       -1.1  \n",
              "51            2       3.2        1.2  \n",
              "53            7       8.2        1.2  \n",
              "55            6       7.4        1.4  \n",
              "56            5       5.1        0.1  \n",
              "58            5       4.2       -0.8  \n",
              "61            7       7.2        0.2  "
            ]
          },
          "execution_count": 165,
          "metadata": {},
          "output_type": "execute_result"
        }
      ],
      "source": [
        "merged[merged[\"Year\"] == 2018]"
      ]
    },
    {
      "cell_type": "markdown",
      "metadata": {
        "id": "I0eWTSOzTnqT"
      },
      "source": [
        "### CONCLUSION.\n",
        "\n",
        "- IN 2018 , Argentina Failed to take home advantages and underperformed in home games , However they over performed in non home grounds.\n",
        "\n",
        "- In 2018 Russia Was the most attacking team , as they scored 60% more goals then they were expected to score , this may be due to home condition advantage as in 2018 FIFA world cup was in Russia.\n",
        "\n",
        "- Russia was also the Underdog Team in 2018 , as it performed much more than expected.\n",
        "\n",
        "- Netherland was the underdog team of 2022, it scored 52% more goals than expected.\n",
        "\n",
        "- Among top teams Portugal scored 40% more than expected goals.\n",
        "\n",
        "- Most Overrated team of 2018 and 2022 was Brazil they scored\n",
        "  32% and 40% less goals than expected in 2018 and 2022 respectively.\n"
      ]
    }
  ],
  "metadata": {
    "colab": {
      "provenance": []
    },
    "kernelspec": {
      "display_name": ".venv",
      "language": "python",
      "name": "python3"
    },
    "language_info": {
      "codemirror_mode": {
        "name": "ipython",
        "version": 3
      },
      "file_extension": ".py",
      "mimetype": "text/x-python",
      "name": "python",
      "nbconvert_exporter": "python",
      "pygments_lexer": "ipython3",
      "version": "3.12.6"
    }
  },
  "nbformat": 4,
  "nbformat_minor": 0
}
